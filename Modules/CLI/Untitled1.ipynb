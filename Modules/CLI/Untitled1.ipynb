{
 "cells": [
  {
   "cell_type": "code",
   "execution_count": 1,
   "metadata": {
    "collapsed": false
   },
   "outputs": [],
   "source": [
    "import json\n",
    "\n",
    "d = json.load(open('results.json'))\n",
    "\n",
    "d = { (student, question): d[student][question] for student in d for question in d[student] }"
   ]
  },
  {
   "cell_type": "code",
   "execution_count": 2,
   "metadata": {
    "collapsed": false
   },
   "outputs": [],
   "source": [
    "import pandas as pd\n",
    "import numpy as np\n",
    "\n",
    "results = pd.DataFrame.from_dict(d).transpose()\n",
    "results['score'] = None"
   ]
  },
  {
   "cell_type": "code",
   "execution_count": 13,
   "metadata": {
    "collapsed": false
   },
   "outputs": [],
   "source": [
    "results.index.names = ['student', 'question']\n",
    "results.to_csv('test.csv', encoding='utf8')"
   ]
  },
  {
   "cell_type": "code",
   "execution_count": 86,
   "metadata": {
    "collapsed": false
   },
   "outputs": [],
   "source": [
    "df = pd.read_csv('test.csv', dtype={ 'student': str })\n",
    "df = df.set_index(['student', 'question'])"
   ]
  },
  {
   "cell_type": "code",
   "execution_count": 89,
   "metadata": {
    "collapsed": false
   },
   "outputs": [
    {
     "data": {
      "text/html": [
       "<div>\n",
       "<table border=\"1\" class=\"dataframe\">\n",
       "  <thead>\n",
       "    <tr style=\"text-align: right;\">\n",
       "      <th></th>\n",
       "      <th></th>\n",
       "      <th>answer</th>\n",
       "      <th>score</th>\n",
       "    </tr>\n",
       "    <tr>\n",
       "      <th>student</th>\n",
       "      <th>question</th>\n",
       "      <th></th>\n",
       "      <th></th>\n",
       "    </tr>\n",
       "  </thead>\n",
       "  <tbody>\n",
       "    <tr>\n",
       "      <th rowspan=\"12\" valign=\"top\">10175490</th>\n",
       "      <th>2-kleuren-deel</th>\n",
       "      <td>0.2778</td>\n",
       "      <td>NaN</td>\n",
       "    </tr>\n",
       "    <tr>\n",
       "      <th>2-kleuren-deel-code</th>\n",
       "      <td>NaN</td>\n",
       "      <td>NaN</td>\n",
       "    </tr>\n",
       "    <tr>\n",
       "      <th>2-kleuren-kans</th>\n",
       "      <td>0.2778</td>\n",
       "      <td>NaN</td>\n",
       "    </tr>\n",
       "    <tr>\n",
       "      <th>2-kleuren-kans-code</th>\n",
       "      <td>NaN</td>\n",
       "      <td>NaN</td>\n",
       "    </tr>\n",
       "    <tr>\n",
       "      <th>aandachtspunten-notebooks</th>\n",
       "      <td>Het toetsenbord typt vrij vervelend, wat bij m...</td>\n",
       "      <td>NaN</td>\n",
       "    </tr>\n",
       "    <tr>\n",
       "      <th>gemiddelde-overlap-code</th>\n",
       "      <td>NaN</td>\n",
       "      <td>NaN</td>\n",
       "    </tr>\n",
       "    <tr>\n",
       "      <th>hoogste-betweenness-centrality</th>\n",
       "      <td>5</td>\n",
       "      <td>NaN</td>\n",
       "    </tr>\n",
       "    <tr>\n",
       "      <th>mening-notebooks</th>\n",
       "      <td>4</td>\n",
       "      <td>NaN</td>\n",
       "    </tr>\n",
       "    <tr>\n",
       "      <th>neighborhood-overlap-code</th>\n",
       "      <td>NaN</td>\n",
       "      <td>NaN</td>\n",
       "    </tr>\n",
       "    <tr>\n",
       "      <th>overlap-4-7</th>\n",
       "      <td>2</td>\n",
       "      <td>NaN</td>\n",
       "    </tr>\n",
       "    <tr>\n",
       "      <th>overlap-gemiddeld-B</th>\n",
       "      <td>2</td>\n",
       "      <td>NaN</td>\n",
       "    </tr>\n",
       "    <tr>\n",
       "      <th>passende-maat-code</th>\n",
       "      <td>NaN</td>\n",
       "      <td>NaN</td>\n",
       "    </tr>\n",
       "    <tr>\n",
       "      <th rowspan=\"12\" valign=\"top\">10735291</th>\n",
       "      <th>2-kleuren-deel</th>\n",
       "      <td>test</td>\n",
       "      <td>NaN</td>\n",
       "    </tr>\n",
       "    <tr>\n",
       "      <th>2-kleuren-deel-code</th>\n",
       "      <td>NaN</td>\n",
       "      <td>NaN</td>\n",
       "    </tr>\n",
       "    <tr>\n",
       "      <th>2-kleuren-kans</th>\n",
       "      <td>0.27777</td>\n",
       "      <td>NaN</td>\n",
       "    </tr>\n",
       "    <tr>\n",
       "      <th>2-kleuren-kans-code</th>\n",
       "      <td>NaN</td>\n",
       "      <td>NaN</td>\n",
       "    </tr>\n",
       "    <tr>\n",
       "      <th>aandachtspunten-notebooks</th>\n",
       "      <td>bla die blaaa hjhjkhjkhjjkhhjkhjkhjkhjkjkhfdsd...</td>\n",
       "      <td>NaN</td>\n",
       "    </tr>\n",
       "    <tr>\n",
       "      <th>gemiddelde-overlap-code</th>\n",
       "      <td>NaN</td>\n",
       "      <td>NaN</td>\n",
       "    </tr>\n",
       "    <tr>\n",
       "      <th>hoogste-betweenness-centrality</th>\n",
       "      <td>NaN</td>\n",
       "      <td>NaN</td>\n",
       "    </tr>\n",
       "    <tr>\n",
       "      <th>mening-notebooks</th>\n",
       "      <td>NaN</td>\n",
       "      <td>NaN</td>\n",
       "    </tr>\n",
       "    <tr>\n",
       "      <th>neighborhood-overlap-code</th>\n",
       "      <td>NaN</td>\n",
       "      <td>NaN</td>\n",
       "    </tr>\n",
       "    <tr>\n",
       "      <th>overlap-4-7</th>\n",
       "      <td>NaN</td>\n",
       "      <td>NaN</td>\n",
       "    </tr>\n",
       "    <tr>\n",
       "      <th>overlap-gemiddeld-B</th>\n",
       "      <td>NaN</td>\n",
       "      <td>NaN</td>\n",
       "    </tr>\n",
       "    <tr>\n",
       "      <th>passende-maat-code</th>\n",
       "      <td>NaN</td>\n",
       "      <td>NaN</td>\n",
       "    </tr>\n",
       "  </tbody>\n",
       "</table>\n",
       "</div>"
      ],
      "text/plain": [
       "                                                                                    answer  \\\n",
       "student  question                                                                            \n",
       "10175490 2-kleuren-deel                                                             0.2778   \n",
       "         2-kleuren-deel-code                                                           NaN   \n",
       "         2-kleuren-kans                                                             0.2778   \n",
       "         2-kleuren-kans-code                                                           NaN   \n",
       "         aandachtspunten-notebooks       Het toetsenbord typt vrij vervelend, wat bij m...   \n",
       "         gemiddelde-overlap-code                                                       NaN   \n",
       "         hoogste-betweenness-centrality                                                  5   \n",
       "         mening-notebooks                                                                4   \n",
       "         neighborhood-overlap-code                                                     NaN   \n",
       "         overlap-4-7                                                                     2   \n",
       "         overlap-gemiddeld-B                                                             2   \n",
       "         passende-maat-code                                                            NaN   \n",
       "10735291 2-kleuren-deel                                                               test   \n",
       "         2-kleuren-deel-code                                                           NaN   \n",
       "         2-kleuren-kans                                                            0.27777   \n",
       "         2-kleuren-kans-code                                                           NaN   \n",
       "         aandachtspunten-notebooks       bla die blaaa hjhjkhjkhjjkhhjkhjkhjkhjkjkhfdsd...   \n",
       "         gemiddelde-overlap-code                                                       NaN   \n",
       "         hoogste-betweenness-centrality                                                NaN   \n",
       "         mening-notebooks                                                              NaN   \n",
       "         neighborhood-overlap-code                                                     NaN   \n",
       "         overlap-4-7                                                                   NaN   \n",
       "         overlap-gemiddeld-B                                                           NaN   \n",
       "         passende-maat-code                                                            NaN   \n",
       "\n",
       "                                         score  \n",
       "student  question                               \n",
       "10175490 2-kleuren-deel                    NaN  \n",
       "         2-kleuren-deel-code               NaN  \n",
       "         2-kleuren-kans                    NaN  \n",
       "         2-kleuren-kans-code               NaN  \n",
       "         aandachtspunten-notebooks         NaN  \n",
       "         gemiddelde-overlap-code           NaN  \n",
       "         hoogste-betweenness-centrality    NaN  \n",
       "         mening-notebooks                  NaN  \n",
       "         neighborhood-overlap-code         NaN  \n",
       "         overlap-4-7                       NaN  \n",
       "         overlap-gemiddeld-B               NaN  \n",
       "         passende-maat-code                NaN  \n",
       "10735291 2-kleuren-deel                    NaN  \n",
       "         2-kleuren-deel-code               NaN  \n",
       "         2-kleuren-kans                    NaN  \n",
       "         2-kleuren-kans-code               NaN  \n",
       "         aandachtspunten-notebooks         NaN  \n",
       "         gemiddelde-overlap-code           NaN  \n",
       "         hoogste-betweenness-centrality    NaN  \n",
       "         mening-notebooks                  NaN  \n",
       "         neighborhood-overlap-code         NaN  \n",
       "         overlap-4-7                       NaN  \n",
       "         overlap-gemiddeld-B               NaN  \n",
       "         passende-maat-code                NaN  "
      ]
     },
     "execution_count": 89,
     "metadata": {},
     "output_type": "execute_result"
    }
   ],
   "source": [
    "df.loc[['10735291', '10175490']]"
   ]
  },
  {
   "cell_type": "code",
   "execution_count": 44,
   "metadata": {
    "collapsed": false
   },
   "outputs": [
    {
     "data": {
      "text/plain": [
       "MultiIndex(levels=[[5947480, 9761454, 10175490, 10209344, 10365354, 10502645, 10643508, 10724516, 10735291, 10741038, 10771425, 10772057, 10783512, 10784489, 10795634, 10798145, 10812350, 10812598, 10812660, 10972080, 10975438, 10985654, 10986162, 11002506, 11015802, 11031530, 11042729, 11043768, 11045655, 11046244, 11074884, 11229128, 11254386, 11305304, 11306963, 11307234, 11309245, 11317906, 11320508, 11322934, 11325968, 11331879, 11333030, 11337435, 11351063, 11408707, 11430168, 11432853, 11450916, 11569166, 11612592, 11618361, 11640839, 11644613, 11685514, 11710675, 11720271, 11721472, 11729147, 11736704, 11760788, 11773138, 11784210, 11796847, 11797762, 11821760, 11829494, 11842342, 11849525, 11851104, 11852615, 11853751, 11854138, 11855185, 11856637, 11857188, 11857692, 11866101, 11867604, 11871288, 11872497, 11873779, 11876204, 11884622, 11885408, 11890738, 11892420, 11894733, 11899131, 11903155, 11906618, 11908475, 11915234, 11926120, 12014966], [u'2-kleuren-deel', u'2-kleuren-deel-code', u'2-kleuren-kans', u'2-kleuren-kans-code', u'aandachtspunten-notebooks', u'gemiddelde-overlap-code', u'hoogste-betweenness-centrality', u'mening-notebooks', u'neighborhood-overlap-code', u'overlap-4-7', u'overlap-gemiddeld-B', u'passende-maat-code']],\n",
       "           labels=[[2, 2, 2, 2, 2], [0, 1, 2, 3, 4]],\n",
       "           names=[u'student', u'question'])"
      ]
     },
     "execution_count": 44,
     "metadata": {},
     "output_type": "execute_result"
    }
   ],
   "source": [
    "df.index"
   ]
  },
  {
   "cell_type": "code",
   "execution_count": 177,
   "metadata": {
    "collapsed": false
   },
   "outputs": [],
   "source": [
    "aandacht = results.unstack()['answer']['aandachtspunten-notebooks']"
   ]
  },
  {
   "cell_type": "code",
   "execution_count": 193,
   "metadata": {
    "collapsed": false
   },
   "outputs": [
    {
     "data": {
      "text/plain": [
       "5.385964912280702"
      ]
     },
     "execution_count": 193,
     "metadata": {},
     "output_type": "execute_result"
    }
   ],
   "source": [
    "cijfers = results.unstack()['answer']['mening-notebooks'].replace('', np.nan).dropna()\n",
    "cijfers[cijfers.str.len() <= 2].apply(int).mean()"
   ]
  },
  {
   "cell_type": "code",
   "execution_count": 169,
   "metadata": {
    "collapsed": false
   },
   "outputs": [
    {
     "data": {
      "text/plain": [
       "10175490                                             5\n",
       "10209344                                             5\n",
       "10365354                                             5\n",
       "10502645                                             5\n",
       "10643508                                              \n",
       "10724516    Knoop 0 met 0.1357142857142857, zie onder.\n",
       "10735291                                              \n",
       "10741038                                              \n",
       "10771425                                             5\n",
       "10772057                                             5\n",
       "10783512                                             5\n",
       "10784489                                              \n",
       "10795634                                              \n",
       "10798145                                              \n",
       "10812350                                             5\n",
       "10812598                                              \n",
       "10812660                                              \n",
       "10972080                                             5\n",
       "10975438                                             5\n",
       "10985654                                              \n",
       "10986162                                              \n",
       "11002506                                             4\n",
       "11015802                                              \n",
       "11031530                                             5\n",
       "11042729                              De blauwe knopen\n",
       "11043768                                             5\n",
       "11045655                                             5\n",
       "11046244                                              \n",
       "11074884                                              \n",
       "11229128                                             5\n",
       "                               ...                    \n",
       "11842342                                       Knoop 5\n",
       "11849525                                              \n",
       "11851104                                              \n",
       "11852615                                              \n",
       "11853751                                       Knoop 5\n",
       "11854138                                             5\n",
       "11855185                                              \n",
       "11856637                                             5\n",
       "11857188                                             5\n",
       "11857692                                             5\n",
       "11866101                                             5\n",
       "11867604                                             5\n",
       "11871288                                              \n",
       "11872497                                             5\n",
       "11873779                                              \n",
       "11876204                                             5\n",
       "11884622                                              \n",
       "11885408                                         Blauw\n",
       "11890738                                              \n",
       "11892420                                              \n",
       "11894733                                              \n",
       "11899131                                             5\n",
       "11903155                                              \n",
       "11906618                                              \n",
       "11908475                                             5\n",
       "11915234                                             5\n",
       "11926120                                             5\n",
       "12014966                                       Knoop 5\n",
       "5947480                                               \n",
       "9761454                                               \n",
       "Name: hoogste-betweenness-centrality, dtype: object"
      ]
     },
     "execution_count": 169,
     "metadata": {},
     "output_type": "execute_result"
    }
   ],
   "source": [
    "results.unstack()['answer']['hoogste-betweenness-centrality']"
   ]
  },
  {
   "cell_type": "code",
   "execution_count": 170,
   "metadata": {
    "collapsed": false
   },
   "outputs": [
    {
     "data": {
      "text/plain": [
       "2-kleuren-deel                                  13.0\n",
       "                     0                           2.0\n",
       "                     0,2777777777778             1.0\n",
       "                     0,278                       1.0\n",
       "                     0,28                        2.0\n",
       "                     0,4444444444444444          1.0\n",
       "                     0,5555                      1.0\n",
       "                     0.16666666666666666         1.0\n",
       "                     0.2777777777777778         36.0\n",
       "                     0.277777778                 1.0\n",
       "                     0.2778                      2.0\n",
       "                     0.278                       1.0\n",
       "                     0.28                        5.0\n",
       "                     0.4                         1.0\n",
       "                     0.4444444444444444          1.0\n",
       "                     2/9                         2.0\n",
       "                     3/9                         1.0\n",
       "                     4/9                         1.0\n",
       "                     5 / 18                      1.0\n",
       "                     5/18                       18.0\n",
       "                     5/28                        1.0\n",
       "                     een getal tussen 0 en 1     1.0\n",
       "                     test                        1.0\n",
       "2-kleuren-deel-code                             95.0\n",
       "2-kleuren-kans                                   9.0\n",
       "                     0,14                        1.0\n",
       "                     0,222                       2.0\n",
       "                     0,4                         1.0\n",
       "                     0,444                       1.0\n",
       "                     0,4444444444444444          1.0\n",
       "                                                ... \n",
       "overlap-4-7          5                           1.0\n",
       "                     5,8                         1.0\n",
       "                     8                           1.0\n",
       "                     [5, 6, 4, 8]                1.0\n",
       "                     {5, 8}                      1.0\n",
       "overlap-gemiddeld-B                             58.0\n",
       "                     .22608225108225105          1.0\n",
       "                     0                           1.0\n",
       "                     0,2977                      1.0\n",
       "                     0,6                         1.0\n",
       "                     0.2222222222222222          1.0\n",
       "                     0.22608225108225105         1.0\n",
       "                     0.297738                    1.0\n",
       "                     0.29773809523809514         4.0\n",
       "                     0.30303030303030304         1.0\n",
       "                     0.33333                     1.0\n",
       "                     0.40                        1.0\n",
       "                     0.42777777777777787         1.0\n",
       "                     0.43                        2.0\n",
       "                     0.4521645021645021          1.0\n",
       "                     0.5                         2.0\n",
       "                     0.5555555555555556          1.0\n",
       "                     1,8                         1.0\n",
       "                     1/2                         1.0\n",
       "                     1/3                         1.0\n",
       "                     2                           9.0\n",
       "                     2.0                         2.0\n",
       "                     3                           1.0\n",
       "                     5                           1.0\n",
       "passende-maat-code                              95.0\n",
       "dtype: float64"
      ]
     },
     "execution_count": 170,
     "metadata": {},
     "output_type": "execute_result"
    }
   ],
   "source": [
    "results.unstack()['answer'].apply(pd.value_counts).T.stack()"
   ]
  },
  {
   "cell_type": "code",
   "execution_count": 114,
   "metadata": {
    "collapsed": false
   },
   "outputs": [],
   "source": [
    "answer_counts_per_q = results.unstack()['answer'].apply(pd.value_counts).T.stack()"
   ]
  },
  {
   "cell_type": "code",
   "execution_count": 155,
   "metadata": {
    "collapsed": false
   },
   "outputs": [
    {
     "data": {
      "text/plain": [
       "2-kleuren-deel                                  13.0\n",
       "                     0                           2.0\n",
       "                     0,2777777777778             1.0\n",
       "                     0,278                       1.0\n",
       "                     0,28                        2.0\n",
       "                     0,4444444444444444          1.0\n",
       "                     0,5555                      1.0\n",
       "                     0.16666666666666666         1.0\n",
       "                     0.2777777777777778         36.0\n",
       "                     0.277777778                 1.0\n",
       "                     0.2778                      2.0\n",
       "                     0.278                       1.0\n",
       "                     0.28                        5.0\n",
       "                     0.4                         1.0\n",
       "                     0.4444444444444444          1.0\n",
       "                     2/9                         2.0\n",
       "                     3/9                         1.0\n",
       "                     4/9                         1.0\n",
       "                     5 / 18                      1.0\n",
       "                     5/18                       18.0\n",
       "                     5/28                        1.0\n",
       "                     een getal tussen 0 en 1     1.0\n",
       "                     test                        1.0\n",
       "2-kleuren-deel-code                             95.0\n",
       "2-kleuren-kans                                   9.0\n",
       "                     0,14                        1.0\n",
       "                     0,222                       2.0\n",
       "                     0,4                         1.0\n",
       "                     0,444                       1.0\n",
       "                     0,4444444444444444          1.0\n",
       "                                                ... \n",
       "overlap-4-7          5                           1.0\n",
       "                     5,8                         1.0\n",
       "                     8                           1.0\n",
       "                     [5, 6, 4, 8]                1.0\n",
       "                     {5, 8}                      1.0\n",
       "overlap-gemiddeld-B                             58.0\n",
       "                     .22608225108225105          1.0\n",
       "                     0                           1.0\n",
       "                     0,2977                      1.0\n",
       "                     0,6                         1.0\n",
       "                     0.2222222222222222          1.0\n",
       "                     0.22608225108225105         1.0\n",
       "                     0.297738                    1.0\n",
       "                     0.29773809523809514         4.0\n",
       "                     0.30303030303030304         1.0\n",
       "                     0.33333                     1.0\n",
       "                     0.40                        1.0\n",
       "                     0.42777777777777787         1.0\n",
       "                     0.43                        2.0\n",
       "                     0.4521645021645021          1.0\n",
       "                     0.5                         2.0\n",
       "                     0.5555555555555556          1.0\n",
       "                     1,8                         1.0\n",
       "                     1/2                         1.0\n",
       "                     1/3                         1.0\n",
       "                     2                           9.0\n",
       "                     2.0                         2.0\n",
       "                     3                           1.0\n",
       "                     5                           1.0\n",
       "passende-maat-code                              95.0\n",
       "dtype: float64"
      ]
     },
     "execution_count": 155,
     "metadata": {},
     "output_type": "execute_result"
    }
   ],
   "source": [
    "answer_counts_per_q"
   ]
  },
  {
   "cell_type": "code",
   "execution_count": 153,
   "metadata": {
    "collapsed": false
   },
   "outputs": [
    {
     "data": {
      "text/plain": [
       "2-kleuren-deel       2-kleuren-deel       0.2777777777777778         36.0\n",
       "                                          5/18                       18.0\n",
       "                                                                     13.0\n",
       "                                          0.28                        5.0\n",
       "                                          0                           2.0\n",
       "                                          0,28                        2.0\n",
       "                                          2/9                         2.0\n",
       "                                          0.2778                      2.0\n",
       "                                          0,2777777777778             1.0\n",
       "                                          0,278                       1.0\n",
       "                                          0,4444444444444444          1.0\n",
       "                                          0,5555                      1.0\n",
       "                                          0.16666666666666666         1.0\n",
       "                                          test                        1.0\n",
       "                                          0.277777778                 1.0\n",
       "                                          een getal tussen 0 en 1     1.0\n",
       "                                          0.4                         1.0\n",
       "                                          0.4444444444444444          1.0\n",
       "                                          3/9                         1.0\n",
       "                                          4/9                         1.0\n",
       "                                          5 / 18                      1.0\n",
       "                                          5/28                        1.0\n",
       "                                          0.278                       1.0\n",
       "2-kleuren-deel-code  2-kleuren-deel-code                             95.0\n",
       "2-kleuren-kans       2-kleuren-kans       0.4444444444444444         23.0\n",
       "                                          5/18                       15.0\n",
       "                                                                      9.0\n",
       "                                          4/9                         7.0\n",
       "                                          0.5                         5.0\n",
       "                                          0.2777777777777778          4.0\n",
       "                                                                     ... \n",
       "overlap-4-7          overlap-4-7          3                           1.0\n",
       "                                          5                           1.0\n",
       "                                          5,8                         1.0\n",
       "                                          8                           1.0\n",
       "                                          1                           1.0\n",
       "overlap-gemiddeld-B  overlap-gemiddeld-B                             58.0\n",
       "                                          2                           9.0\n",
       "                                          0.29773809523809514         4.0\n",
       "                                          2.0                         2.0\n",
       "                                          0.5                         2.0\n",
       "                                          0.43                        2.0\n",
       "                                          0.30303030303030304         1.0\n",
       "                                          .22608225108225105          1.0\n",
       "                                          0                           1.0\n",
       "                                          0,2977                      1.0\n",
       "                                          0,6                         1.0\n",
       "                                          0.2222222222222222          1.0\n",
       "                                          0.22608225108225105         1.0\n",
       "                                          0.297738                    1.0\n",
       "                                          5                           1.0\n",
       "                                          0.33333                     1.0\n",
       "                                          3                           1.0\n",
       "                                          0.42777777777777787         1.0\n",
       "                                          0.4521645021645021          1.0\n",
       "                                          0.5555555555555556          1.0\n",
       "                                          1,8                         1.0\n",
       "                                          1/2                         1.0\n",
       "                                          1/3                         1.0\n",
       "                                          0.40                        1.0\n",
       "passende-maat-code   passende-maat-code                              95.0\n",
       "dtype: float64"
      ]
     },
     "execution_count": 153,
     "metadata": {},
     "output_type": "execute_result"
    }
   ],
   "source": [
    "answer_counts_per_q.groupby(level=0, axis=0).apply(lambda x: x.sort_values(ascending=False))"
   ]
  },
  {
   "cell_type": "code",
   "execution_count": null,
   "metadata": {
    "collapsed": true
   },
   "outputs": [],
   "source": []
  }
 ],
 "metadata": {
  "kernelspec": {
   "display_name": "Python 2",
   "language": "python",
   "name": "python2"
  },
  "language_info": {
   "codemirror_mode": {
    "name": "ipython",
    "version": 2
   },
   "file_extension": ".py",
   "mimetype": "text/x-python",
   "name": "python",
   "nbconvert_exporter": "python",
   "pygments_lexer": "ipython2",
   "version": "2.7.9"
  }
 },
 "nbformat": 4,
 "nbformat_minor": 2
}
