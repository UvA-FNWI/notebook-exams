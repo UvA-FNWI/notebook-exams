{
 "cells": [
  {
   "cell_type": "markdown",
   "metadata": {
    "slideshow": {
     "slide_type": "slide"
    }
   },
   "source": [
    "# Using Jupyter Notebooks in exams at UvA\n",
    "\n",
    "* Presentation May 2018 for study directors of the Science Faculty, University of Amsterdam\n",
    "* Maarten Marx, maartenmarx@uva.nl\n",
    "\n",
    "### Contents\n",
    "\n",
    "2. What is it?\n",
    "1. Why? \n",
    "    * better measurement of learning objectives\n",
    "    * better resemblance of day to day problem solving environment\n",
    "    * ...\n",
    "3. How does it work at UvA?"
   ]
  },
  {
   "cell_type": "markdown",
   "metadata": {
    "slideshow": {
     "slide_type": "slide"
    }
   },
   "source": [
    "# What is it?\n",
    "\n",
    "* Student makes an exam (sequence of questions) on a secure PC in a special digital exam room.\n",
    "* The questions are stated in a Jupyter notebook, typically as a sequence of (question cell, answer cell) pairs.\n",
    "    * The notebook may read in additional data files, also stored on the secure PC.\n",
    "* The student can use all functionality of the notebook during the exam.\n",
    "* Student hands in the notebook with the answers through a secure environment.\n",
    "    * At UvA, via a Testvision exam containg just one question (_Please upload your notebook here._) \n",
    "    \n",
    "#### Interaction with outside world\n",
    "* By default, not possible\n",
    "* URLS can be whitelisted though."
   ]
  },
  {
   "cell_type": "markdown",
   "metadata": {
    "slideshow": {
     "slide_type": "slide"
    }
   },
   "source": [
    "# Jupyter notebook? What is that?\n",
    "\n",
    "* Think of Binas, a dictionary, a super calculator, manuals, and a personal assistant all in one.\n",
    "* An _interactive_ problem solving environment, with support for 100s of programming languages.\n",
    "    * Python\n",
    "    * R\n",
    "    * and much more\n",
    "* A notebook consists of a sequence of **cells**:\n",
    "    * code cells\n",
    "    * output cells\n",
    "    * documentation cells ($\\LaTeX$, Markdown, HTML)\n",
    "* These notebooks are rapidly becoming the de facto standard for knowledge sharing at places like github, kaggle.\n",
    "* Jypyter notebooks won the 2018 ACM Software Award (earlier winners are Unix, Java, Mosaic, \"the web\")\n",
    "* Example assignment notebook: [Create a graphic from raw data](http://nbviewer.jupyter.org/url/maartenmarx.nl/teaching/DataScience//Assignments/ASSIGNMENTS/AssignmentWilders.ipynb)"
   ]
  },
  {
   "cell_type": "markdown",
   "metadata": {
    "slideshow": {
     "slide_type": "slide"
    }
   },
   "source": [
    "# Advantages\n",
    "\n",
    "1. Better measurement of learning objectives\n",
    "    * Learning objectives have to be stated using _actively phrased verbs_\n",
    "    * but _active problem solving_ in a natural environment is not possible in a traditional exam\n",
    "2. Can pose more realistic, (eg data driven), and exciting problems (not just \"toy-problems\")\n",
    "3. Students love it (and seem to get higher grades)\n",
    "    * In my (limited) experience, all students remained until the last moment of the exam.\n",
    "        * Because of the feedback of the notebook, they can keep on trying and improving answers\n",
    "4. **Scales**\n",
    "    * Using auto grading\n",
    "        * Far more control possible than in Testvision (eg functions as answers, regular expressions, ...)\n",
    "    * But also manual grading can be done remarkably  fast.\n",
    "    "
   ]
  },
  {
   "cell_type": "markdown",
   "metadata": {
    "slideshow": {
     "slide_type": "slide"
    }
   },
   "source": [
    "# nbgrader\n",
    "\n",
    "1. Notebook extension tailored for exams and assignments made in notebooks\n",
    "    * autograding by means of unit tests\n",
    "    * manual grading per cell\n",
    "    * handy database with points per question per student\n",
    "2. Has some learning curve, but step by step help available at <https://github.com/UvA-FNWI/notebook-exams>."
   ]
  },
  {
   "cell_type": "markdown",
   "metadata": {
    "slideshow": {
     "slide_type": "slide"
    }
   },
   "source": [
    "# Notebooks at UvA\n",
    "\n",
    "* Anaconda Jupyter notebooks installed at all UvA exam computers\n",
    "* Currently only Python kernel\n",
    "* Ask for other kernels or modules through FNWI digital exam support."
   ]
  },
  {
   "cell_type": "markdown",
   "metadata": {
    "slideshow": {
     "slide_type": "slide"
    }
   },
   "source": [
    "### Concretely\n",
    "\n",
    "1. Prepare a zip file with exam notebook and additional files. Bring along to exam hall.\n",
    "2. Prepare a Testvision exam with one \"upload file\" question.\n",
    "3. At exam time:\n",
    "    * WPO person mounts exam files all at once to all PCs after your consent.\n",
    "        * All students start simultaneously.\n",
    "    * Students hand in when they like\n",
    "4. At grading time\n",
    "    1. Download zip file with all notebooks from Testvision.\n",
    "    2. Perform (partial) autograding with `nbgrader`\n",
    "    3. Perform manual grading also with help of `nbgrader`\n",
    "    4. Collect grades using step by step help script.\n",
    "5. _Inzage_\n",
    "    1. Students can see their own graded notebooks, with the received number of points per question clearly indicated in their own notebook."
   ]
  },
  {
   "cell_type": "code",
   "execution_count": null,
   "metadata": {},
   "outputs": [],
   "source": []
  }
 ],
 "metadata": {
  "celltoolbar": "Slideshow",
  "kernelspec": {
   "display_name": "Python 3",
   "language": "python",
   "name": "python3"
  },
  "language_info": {
   "codemirror_mode": {
    "name": "ipython",
    "version": 3
   },
   "file_extension": ".py",
   "mimetype": "text/x-python",
   "name": "python",
   "nbconvert_exporter": "python",
   "pygments_lexer": "ipython3",
   "version": "3.6.3"
  }
 },
 "nbformat": 4,
 "nbformat_minor": 2
}
