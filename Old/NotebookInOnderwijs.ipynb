{
 "cells": [
  {
   "cell_type": "markdown",
   "metadata": {
    "slideshow": {
     "slide_type": "slide"
    }
   },
   "source": [
    "# Jupyter notebooks in het onderwijs\n",
    "\n",
    "\n",
    "\n",
    "### Inhoud\n",
    "\n",
    "1. Wat zijn het?\n",
    "2. Op wat voor manieren kan je ze inzetten in het onderwijs?\n",
    "3. Waarom zijn ze zo goed voor studenten (en voor iedereen eigenlijk)?"
   ]
  },
  {
   "cell_type": "markdown",
   "metadata": {
    "slideshow": {
     "slide_type": "slide"
    }
   },
   "source": [
    "# Wat zijn notebooks?\n",
    "\n",
    "* Notebook combineert _statische_ en _dynamische_ informatie."
   ]
  },
  {
   "cell_type": "markdown",
   "metadata": {
    "slideshow": {
     "slide_type": "fragment"
    }
   },
   "source": [
    "### Statische cel\n",
    "\n",
    "* Markdown\n",
    "* $\\LaTeX$ : \n",
    "    * $$\\frac{\\Sigma_{i\\in X} i}{|X|}$$\n",
    "* HTML"
   ]
  },
  {
   "cell_type": "markdown",
   "metadata": {
    "slideshow": {
     "slide_type": "fragment"
    }
   },
   "source": [
    "### Dynamische cel\n",
    "\n",
    "* code \n",
    "    * Afhankelijk van de kernel welke taal (Python, R, Julia,....)\n",
    "    * uitvoer\n",
    "        * directe uitvoer\n",
    "        * plotjes\n",
    "        * video, PDF, webpagina, de gekste dingen"
   ]
  },
  {
   "cell_type": "markdown",
   "metadata": {
    "slideshow": {
     "slide_type": "slide"
    }
   },
   "source": [
    "# Hoe werkt het?\n",
    "\n",
    "* Draait een server lokaal.\n",
    "* Interactie met notebook gaat in de browser.\n",
    "\n",
    "### Systeem vereisten\n",
    "\n",
    "* Draait op elk OS\n",
    "* vrijwel identiek gedrag op elk OS\n",
    "* Ideaal in onze situatie waar iedereen vrij is om een eigen laptop te kopen"
   ]
  },
  {
   "cell_type": "markdown",
   "metadata": {
    "slideshow": {
     "slide_type": "slide"
    }
   },
   "source": [
    "# Op wat voor manieren kan je ze inzetten in het onderwijs?\n",
    "\n",
    "1. Boek/ Syllabus : \n",
    "    * [Python Data Science Handbook](https://jakevdp.github.io/PythonDataScienceHandbook/) This O Reilly book is also freely avialable as a set of notebooks. Download them and read the book interactively.\n",
    "2. Slides (Je kijkt er nu naar)\n",
    "3. Opdrachten\n",
    "4. Tentamens"
   ]
  },
  {
   "cell_type": "markdown",
   "metadata": {
    "slideshow": {
     "slide_type": "slide"
    }
   },
   "source": [
    "# Waarom zijn ze zo goed voor studenten (en voor iedereen eigenlijk)?\n",
    "\n",
    "\n",
    "* Heel natuurlijke _persoonlijke assistent_ voor vrijwel alles\n",
    "* Interactief programmeren, met direct contact met de manuals, werkt heerlijk\n",
    "* Men wordt vanzelf **netjes** en **gestructureerd**\n",
    "    * op een ongedwongen manier\n",
    "* Je verzameling notebooks wordt een persoonlijk archief met oplossingen\n",
    "\n",
    "#### Ideaal ook voor grotere projecten\n",
    "* Uitproberen, refactoren, documenteren, publiceren,\n",
    "* allemaal in de zelfde omgeving"
   ]
  },
  {
   "cell_type": "code",
   "execution_count": 2,
   "metadata": {
    "collapsed": false,
    "slideshow": {
     "slide_type": "skip"
    }
   },
   "outputs": [
    {
     "name": "stdout",
     "output_type": "stream",
     "text": [
      "[TerminalIPythonApp] WARNING | Subcommand `ipython nbconvert` is deprecated and will be removed in future versions.\n",
      "[TerminalIPythonApp] WARNING | You likely want to use `jupyter nbconvert` in the future\n",
      "[NbConvertApp] Converting notebook NotebookInOnderwijs.ipynb to slides\n",
      "[NbConvertApp] Writing 256881 bytes to NotebookInOnderwijs.slides.html\n",
      "[NbConvertApp] Redirecting reveal.js requests to https://cdnjs.cloudflare.com/ajax/libs/reveal.js/3.1.0\n",
      "Serving your slides at http://127.0.0.1:8000/NotebookInOnderwijs.slides.html\n",
      "Use Control-C to stop this server\n",
      "WARNING:tornado.access:404 GET /custom.css (127.0.0.1) 5.22ms\n",
      "WARNING:tornado.access:404 GET /custom.css (127.0.0.1) 1.35ms\n",
      "^C\n",
      "Interrupted\n",
      "\n"
     ]
    }
   ],
   "source": [
    "!ipython nbconvert --to slides --post serve NotebookInOnderwijs.ipynb"
   ]
  },
  {
   "cell_type": "code",
   "execution_count": null,
   "metadata": {
    "collapsed": true
   },
   "outputs": [],
   "source": []
  }
 ],
 "metadata": {
  "anaconda-cloud": {},
  "celltoolbar": "Slideshow",
  "kernelspec": {
   "display_name": "Python 3",
   "language": "python",
   "name": "python3"
  },
  "language_info": {
   "codemirror_mode": {
    "name": "ipython",
    "version": 3
   },
   "file_extension": ".py",
   "mimetype": "text/x-python",
   "name": "python",
   "nbconvert_exporter": "python",
   "pygments_lexer": "ipython3",
   "version": "3.3.5"
  }
 },
 "nbformat": 4,
 "nbformat_minor": 2
}
