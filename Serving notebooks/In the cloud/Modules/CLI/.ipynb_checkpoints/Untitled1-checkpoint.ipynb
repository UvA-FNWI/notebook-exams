{
 "cells": [
  {
   "cell_type": "code",
   "execution_count": 37,
   "metadata": {
    "collapsed": false
   },
   "outputs": [],
   "source": [
    "import json\n",
    "\n",
    "d = json.load(open('results.json'))\n",
    "\n",
    "d = { (student, question): d[student][question] for student in d for question in d[student] }"
   ]
  },
  {
   "cell_type": "code",
   "execution_count": 176,
   "metadata": {
    "collapsed": false
   },
   "outputs": [],
   "source": [
    "import pandas as pd\n",
    "import numpy as np\n",
    "\n",
    "results = pd.DataFrame.from_dict(d).transpose()\n",
    "results['score'] = None"
   ]
  },
  {
   "cell_type": "code",
   "execution_count": 177,
   "metadata": {
    "collapsed": false
   },
   "outputs": [],
   "source": [
    "aandacht = results.unstack()['answer']['aandachtspunten-notebooks']"
   ]
  },
  {
   "cell_type": "code",
   "execution_count": 193,
   "metadata": {
    "collapsed": false
   },
   "outputs": [
    {
     "data": {
      "text/plain": [
       "5.385964912280702"
      ]
     },
     "execution_count": 193,
     "metadata": {},
     "output_type": "execute_result"
    }
   ],
   "source": [
    "cijfers = results.unstack()['answer']['mening-notebooks'].replace('', np.nan).dropna()\n",
    "cijfers[cijfers.str.len() <= 2].apply(int).mean()"
   ]
  },
  {
   "cell_type": "code",
   "execution_count": 169,
   "metadata": {
    "collapsed": false
   },
   "outputs": [
    {
     "data": {
      "text/plain": [
       "10175490                                             5\n",
       "10209344                                             5\n",
       "10365354                                             5\n",
       "10502645                                             5\n",
       "10643508                                              \n",
       "10724516    Knoop 0 met 0.1357142857142857, zie onder.\n",
       "10735291                                              \n",
       "10741038                                              \n",
       "10771425                                             5\n",
       "10772057                                             5\n",
       "10783512                                             5\n",
       "10784489                                              \n",
       "10795634                                              \n",
       "10798145                                              \n",
       "10812350                                             5\n",
       "10812598                                              \n",
       "10812660                                              \n",
       "10972080                                             5\n",
       "10975438                                             5\n",
       "10985654                                              \n",
       "10986162                                              \n",
       "11002506                                             4\n",
       "11015802                                              \n",
       "11031530                                             5\n",
       "11042729                              De blauwe knopen\n",
       "11043768                                             5\n",
       "11045655                                             5\n",
       "11046244                                              \n",
       "11074884                                              \n",
       "11229128                                             5\n",
       "                               ...                    \n",
       "11842342                                       Knoop 5\n",
       "11849525                                              \n",
       "11851104                                              \n",
       "11852615                                              \n",
       "11853751                                       Knoop 5\n",
       "11854138                                             5\n",
       "11855185                                              \n",
       "11856637                                             5\n",
       "11857188                                             5\n",
       "11857692                                             5\n",
       "11866101                                             5\n",
       "11867604                                             5\n",
       "11871288                                              \n",
       "11872497                                             5\n",
       "11873779                                              \n",
       "11876204                                             5\n",
       "11884622                                              \n",
       "11885408                                         Blauw\n",
       "11890738                                              \n",
       "11892420                                              \n",
       "11894733                                              \n",
       "11899131                                             5\n",
       "11903155                                              \n",
       "11906618                                              \n",
       "11908475                                             5\n",
       "11915234                                             5\n",
       "11926120                                             5\n",
       "12014966                                       Knoop 5\n",
       "5947480                                               \n",
       "9761454                                               \n",
       "Name: hoogste-betweenness-centrality, dtype: object"
      ]
     },
     "execution_count": 169,
     "metadata": {},
     "output_type": "execute_result"
    }
   ],
   "source": [
    "results.unstack()['answer']['hoogste-betweenness-centrality']"
   ]
  },
  {
   "cell_type": "code",
   "execution_count": 170,
   "metadata": {
    "collapsed": false
   },
   "outputs": [
    {
     "data": {
      "text/plain": [
       "2-kleuren-deel                                  13.0\n",
       "                     0                           2.0\n",
       "                     0,2777777777778             1.0\n",
       "                     0,278                       1.0\n",
       "                     0,28                        2.0\n",
       "                     0,4444444444444444          1.0\n",
       "                     0,5555                      1.0\n",
       "                     0.16666666666666666         1.0\n",
       "                     0.2777777777777778         36.0\n",
       "                     0.277777778                 1.0\n",
       "                     0.2778                      2.0\n",
       "                     0.278                       1.0\n",
       "                     0.28                        5.0\n",
       "                     0.4                         1.0\n",
       "                     0.4444444444444444          1.0\n",
       "                     2/9                         2.0\n",
       "                     3/9                         1.0\n",
       "                     4/9                         1.0\n",
       "                     5 / 18                      1.0\n",
       "                     5/18                       18.0\n",
       "                     5/28                        1.0\n",
       "                     een getal tussen 0 en 1     1.0\n",
       "                     test                        1.0\n",
       "2-kleuren-deel-code                             95.0\n",
       "2-kleuren-kans                                   9.0\n",
       "                     0,14                        1.0\n",
       "                     0,222                       2.0\n",
       "                     0,4                         1.0\n",
       "                     0,444                       1.0\n",
       "                     0,4444444444444444          1.0\n",
       "                                                ... \n",
       "overlap-4-7          5                           1.0\n",
       "                     5,8                         1.0\n",
       "                     8                           1.0\n",
       "                     [5, 6, 4, 8]                1.0\n",
       "                     {5, 8}                      1.0\n",
       "overlap-gemiddeld-B                             58.0\n",
       "                     .22608225108225105          1.0\n",
       "                     0                           1.0\n",
       "                     0,2977                      1.0\n",
       "                     0,6                         1.0\n",
       "                     0.2222222222222222          1.0\n",
       "                     0.22608225108225105         1.0\n",
       "                     0.297738                    1.0\n",
       "                     0.29773809523809514         4.0\n",
       "                     0.30303030303030304         1.0\n",
       "                     0.33333                     1.0\n",
       "                     0.40                        1.0\n",
       "                     0.42777777777777787         1.0\n",
       "                     0.43                        2.0\n",
       "                     0.4521645021645021          1.0\n",
       "                     0.5                         2.0\n",
       "                     0.5555555555555556          1.0\n",
       "                     1,8                         1.0\n",
       "                     1/2                         1.0\n",
       "                     1/3                         1.0\n",
       "                     2                           9.0\n",
       "                     2.0                         2.0\n",
       "                     3                           1.0\n",
       "                     5                           1.0\n",
       "passende-maat-code                              95.0\n",
       "dtype: float64"
      ]
     },
     "execution_count": 170,
     "metadata": {},
     "output_type": "execute_result"
    }
   ],
   "source": [
    "results.unstack()['answer'].apply(pd.value_counts).T.stack()"
   ]
  },
  {
   "cell_type": "code",
   "execution_count": 114,
   "metadata": {
    "collapsed": false
   },
   "outputs": [],
   "source": [
    "answer_counts_per_q = results.unstack()['answer'].apply(pd.value_counts).T.stack()"
   ]
  },
  {
   "cell_type": "code",
   "execution_count": 155,
   "metadata": {
    "collapsed": false
   },
   "outputs": [
    {
     "data": {
      "text/plain": [
       "2-kleuren-deel                                  13.0\n",
       "                     0                           2.0\n",
       "                     0,2777777777778             1.0\n",
       "                     0,278                       1.0\n",
       "                     0,28                        2.0\n",
       "                     0,4444444444444444          1.0\n",
       "                     0,5555                      1.0\n",
       "                     0.16666666666666666         1.0\n",
       "                     0.2777777777777778         36.0\n",
       "                     0.277777778                 1.0\n",
       "                     0.2778                      2.0\n",
       "                     0.278                       1.0\n",
       "                     0.28                        5.0\n",
       "                     0.4                         1.0\n",
       "                     0.4444444444444444          1.0\n",
       "                     2/9                         2.0\n",
       "                     3/9                         1.0\n",
       "                     4/9                         1.0\n",
       "                     5 / 18                      1.0\n",
       "                     5/18                       18.0\n",
       "                     5/28                        1.0\n",
       "                     een getal tussen 0 en 1     1.0\n",
       "                     test                        1.0\n",
       "2-kleuren-deel-code                             95.0\n",
       "2-kleuren-kans                                   9.0\n",
       "                     0,14                        1.0\n",
       "                     0,222                       2.0\n",
       "                     0,4                         1.0\n",
       "                     0,444                       1.0\n",
       "                     0,4444444444444444          1.0\n",
       "                                                ... \n",
       "overlap-4-7          5                           1.0\n",
       "                     5,8                         1.0\n",
       "                     8                           1.0\n",
       "                     [5, 6, 4, 8]                1.0\n",
       "                     {5, 8}                      1.0\n",
       "overlap-gemiddeld-B                             58.0\n",
       "                     .22608225108225105          1.0\n",
       "                     0                           1.0\n",
       "                     0,2977                      1.0\n",
       "                     0,6                         1.0\n",
       "                     0.2222222222222222          1.0\n",
       "                     0.22608225108225105         1.0\n",
       "                     0.297738                    1.0\n",
       "                     0.29773809523809514         4.0\n",
       "                     0.30303030303030304         1.0\n",
       "                     0.33333                     1.0\n",
       "                     0.40                        1.0\n",
       "                     0.42777777777777787         1.0\n",
       "                     0.43                        2.0\n",
       "                     0.4521645021645021          1.0\n",
       "                     0.5                         2.0\n",
       "                     0.5555555555555556          1.0\n",
       "                     1,8                         1.0\n",
       "                     1/2                         1.0\n",
       "                     1/3                         1.0\n",
       "                     2                           9.0\n",
       "                     2.0                         2.0\n",
       "                     3                           1.0\n",
       "                     5                           1.0\n",
       "passende-maat-code                              95.0\n",
       "dtype: float64"
      ]
     },
     "execution_count": 155,
     "metadata": {},
     "output_type": "execute_result"
    }
   ],
   "source": [
    "answer_counts_per_q"
   ]
  },
  {
   "cell_type": "code",
   "execution_count": 153,
   "metadata": {
    "collapsed": false
   },
   "outputs": [
    {
     "data": {
      "text/plain": [
       "2-kleuren-deel       2-kleuren-deel       0.2777777777777778         36.0\n",
       "                                          5/18                       18.0\n",
       "                                                                     13.0\n",
       "                                          0.28                        5.0\n",
       "                                          0                           2.0\n",
       "                                          0,28                        2.0\n",
       "                                          2/9                         2.0\n",
       "                                          0.2778                      2.0\n",
       "                                          0,2777777777778             1.0\n",
       "                                          0,278                       1.0\n",
       "                                          0,4444444444444444          1.0\n",
       "                                          0,5555                      1.0\n",
       "                                          0.16666666666666666         1.0\n",
       "                                          test                        1.0\n",
       "                                          0.277777778                 1.0\n",
       "                                          een getal tussen 0 en 1     1.0\n",
       "                                          0.4                         1.0\n",
       "                                          0.4444444444444444          1.0\n",
       "                                          3/9                         1.0\n",
       "                                          4/9                         1.0\n",
       "                                          5 / 18                      1.0\n",
       "                                          5/28                        1.0\n",
       "                                          0.278                       1.0\n",
       "2-kleuren-deel-code  2-kleuren-deel-code                             95.0\n",
       "2-kleuren-kans       2-kleuren-kans       0.4444444444444444         23.0\n",
       "                                          5/18                       15.0\n",
       "                                                                      9.0\n",
       "                                          4/9                         7.0\n",
       "                                          0.5                         5.0\n",
       "                                          0.2777777777777778          4.0\n",
       "                                                                     ... \n",
       "overlap-4-7          overlap-4-7          3                           1.0\n",
       "                                          5                           1.0\n",
       "                                          5,8                         1.0\n",
       "                                          8                           1.0\n",
       "                                          1                           1.0\n",
       "overlap-gemiddeld-B  overlap-gemiddeld-B                             58.0\n",
       "                                          2                           9.0\n",
       "                                          0.29773809523809514         4.0\n",
       "                                          2.0                         2.0\n",
       "                                          0.5                         2.0\n",
       "                                          0.43                        2.0\n",
       "                                          0.30303030303030304         1.0\n",
       "                                          .22608225108225105          1.0\n",
       "                                          0                           1.0\n",
       "                                          0,2977                      1.0\n",
       "                                          0,6                         1.0\n",
       "                                          0.2222222222222222          1.0\n",
       "                                          0.22608225108225105         1.0\n",
       "                                          0.297738                    1.0\n",
       "                                          5                           1.0\n",
       "                                          0.33333                     1.0\n",
       "                                          3                           1.0\n",
       "                                          0.42777777777777787         1.0\n",
       "                                          0.4521645021645021          1.0\n",
       "                                          0.5555555555555556          1.0\n",
       "                                          1,8                         1.0\n",
       "                                          1/2                         1.0\n",
       "                                          1/3                         1.0\n",
       "                                          0.40                        1.0\n",
       "passende-maat-code   passende-maat-code                              95.0\n",
       "dtype: float64"
      ]
     },
     "execution_count": 153,
     "metadata": {},
     "output_type": "execute_result"
    }
   ],
   "source": [
    "answer_counts_per_q.groupby(level=0, axis=0).apply(lambda x: x.sort_values(ascending=False))"
   ]
  },
  {
   "cell_type": "code",
   "execution_count": null,
   "metadata": {
    "collapsed": true
   },
   "outputs": [],
   "source": []
  }
 ],
 "metadata": {
  "kernelspec": {
   "display_name": "Python 2",
   "language": "python",
   "name": "python2"
  },
  "language_info": {
   "codemirror_mode": {
    "name": "ipython",
    "version": 2
   },
   "file_extension": ".py",
   "mimetype": "text/x-python",
   "name": "python",
   "nbconvert_exporter": "python",
   "pygments_lexer": "ipython2",
   "version": "2.7.9"
  }
 },
 "nbformat": 4,
 "nbformat_minor": 2
}
