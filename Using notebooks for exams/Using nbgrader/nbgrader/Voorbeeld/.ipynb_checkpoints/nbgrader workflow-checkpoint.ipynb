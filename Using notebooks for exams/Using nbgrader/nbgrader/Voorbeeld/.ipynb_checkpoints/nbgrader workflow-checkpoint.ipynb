{
 "cells": [
  {
   "cell_type": "code",
   "execution_count": 1,
   "metadata": {},
   "outputs": [],
   "source": [
    "import os\n",
    "import re\n",
    "from glob import glob\n",
    "import pandas as pd\n",
    "\n",
    "from IPython.display import display, Markdown"
   ]
  },
  {
   "cell_type": "markdown",
   "metadata": {},
   "source": [
    "## 0. Configuratie"
   ]
  },
  {
   "cell_type": "code",
   "execution_count": 4,
   "metadata": {},
   "outputs": [],
   "source": [
    "course_id = \"netwerkanalyse\"\n",
    "assignment_id = \"tentamen1\""
   ]
  },
  {
   "cell_type": "markdown",
   "metadata": {},
   "source": [
    "## 1. nbgrader configureren\n",
    "code-stub overschrijven etc."
   ]
  },
  {
   "cell_type": "code",
   "execution_count": 3,
   "metadata": {},
   "outputs": [],
   "source": [
    "config = '''\n",
    "c = get_config()\n",
    "\n",
    "c.Exchange.course_id = \"%s\"\n",
    "c.ClearSolutions.code_stub = {'python': '# JOUW CODE HIER', 'markdown': '....'}\n",
    "''' % course_id\n",
    "\n",
    "with open('nbgrader_config.py', 'w') as f:\n",
    "    f.write(config)"
   ]
  },
  {
   "cell_type": "markdown",
   "metadata": {},
   "source": [
    "## 2. Assignment-map aanmaken"
   ]
  },
  {
   "cell_type": "code",
   "execution_count": 11,
   "metadata": {},
   "outputs": [
    {
     "name": "stdout",
     "output_type": "stream",
     "text": [
      "\u001b[32m[DbAssignmentAddApp | INFO]\u001b[m Creating/updating assignment with ID 'tentamen1': {'duedate': None}\n",
      "total 320\n",
      "drwxr-xr-x@ 3 Jesse  staff      96 Apr  3 13:10 \u001b[34mautograded\u001b[m\u001b[m\n",
      "-rw-r--r--@ 1 Jesse  staff  135168 Apr  3 13:29 gradebook.db\n",
      "-rw-r--r--@ 1 Jesse  staff   11567 Apr  3 13:38 nbgrader workflow.ipynb\n",
      "-rw-r--r--@ 1 Jesse  staff     119 Apr  3 12:45 nbgrader_config.py\n",
      "drwxr-xr-x@ 8 Jesse  staff     256 Apr  3 13:08 \u001b[34moriginal-submissions\u001b[m\u001b[m\n",
      "drwxr-xr-x@ 4 Jesse  staff     128 Apr  3 13:06 \u001b[34mrelease\u001b[m\u001b[m\n",
      "drwxr-xr-x@ 4 Jesse  staff     128 Apr  3 12:45 \u001b[34msource\u001b[m\u001b[m\n",
      "-rw-r--r--@ 1 Jesse  staff     212 Apr  3 13:29 student-results.csv\n",
      "-rw-r--r--@ 1 Jesse  staff    4634 Apr  3 13:08 submissions.zip\n",
      "drwxr-xr-x@ 4 Jesse  staff     128 Apr  3 13:09 \u001b[34msubmitted\u001b[m\u001b[m\n"
     ]
    },
    {
     "data": {
      "text/markdown": [
       "## 3. Assignment maken\n",
       "Het notebook-template staat in **source/tentamen1/**  \n",
       "<a href=\"/notebooks/source/tentamen1/tentamen1.ipynb\" target=\"_blank\">Open notebook</a>"
      ],
      "text/plain": [
       "<IPython.core.display.Markdown object>"
      ]
     },
     "metadata": {},
     "output_type": "display_data"
    }
   ],
   "source": [
    "!nbgrader db assignment add {assignment_id}\n",
    "!mkdir -p source/{assignment_id}\n",
    "\n",
    "!ls -l\n",
    "\n",
    "# Met curl template ophalen\n",
    "\n",
    "display(Markdown('## 3. Assignment maken\\nHet notebook-template staat in **source/%s/**  \\n<a href=\"/notebooks/source/%s/%s.ipynb\" target=\"_blank\">Open notebook</a>' % (assignment_id, assignment_id, assignment_id)))\n"
   ]
  },
  {
   "cell_type": "markdown",
   "metadata": {},
   "source": [
    "## 4. Maak een studentversie"
   ]
  },
  {
   "cell_type": "code",
   "execution_count": 5,
   "metadata": {},
   "outputs": [
    {
     "name": "stdout",
     "output_type": "stream",
     "text": [
      "\u001b[32m[AssignApp | INFO]\u001b[m Updating/creating assignment 'tentamen1': {}\n",
      "\u001b[32m[AssignApp | INFO]\u001b[m Converting notebook /Users/Jesse/Dropbox/Notebook-exams/notebook-exams/Scripts/nbgrader/Voorbeeld/source/./tentamen1/Tentamen1.ipynb\n",
      "\u001b[32m[AssignApp | INFO]\u001b[m Writing 3562 bytes to /Users/Jesse/Dropbox/Notebook-exams/notebook-exams/Scripts/nbgrader/Voorbeeld/release/./tentamen1/Tentamen1.ipynb\n",
      "\u001b[32m[AssignApp | INFO]\u001b[m Setting destination file permissions to 644\n",
      "\n",
      "De studentversie bevindt zich in release/tentamen1/Tentamen1.ipynb\n"
     ]
    }
   ],
   "source": [
    "!rm -rf release\n",
    "!nbgrader assign {assignment_id} --create\n",
    "\n",
    "student_nb = glob('release/%s/*.ipynb' % assignment_id)[0]\n",
    "student_nb_name = os.path.basename(student_nb)\n",
    "\n",
    "print(\"\\nDe studentversie bevindt zich in %s\" % student_nb)"
   ]
  },
  {
   "cell_type": "markdown",
   "metadata": {},
   "source": [
    "## Link naar studentversie in Markdown"
   ]
  },
  {
   "cell_type": "markdown",
   "metadata": {},
   "source": [
    "## Tentamen afnemen"
   ]
  },
  {
   "cell_type": "markdown",
   "metadata": {},
   "source": [
    "## 4. Zet mappenstructuur inzendingen op"
   ]
  },
  {
   "cell_type": "code",
   "execution_count": 6,
   "metadata": {},
   "outputs": [
    {
     "name": "stdout",
     "output_type": "stream",
     "text": [
      "Archive:  submissions.zip\n",
      "  inflating: original-submissions/Tentamen1_Jesse_vd_Sar_10735291.ipynb  \n",
      "  inflating: original-submissions/._Tentamen1_Jesse_vd_Sar_10735291.ipynb  \n",
      "  inflating: original-submissions/Tentamen1-checkpoint.ipynb  \n",
      "  inflating: original-submissions/._Tentamen1-checkpoint.ipynb  \n",
      "  inflating: original-submissions/._.ipynb_checkpoints  \n",
      "  inflating: original-submissions/._submissions  \n"
     ]
    }
   ],
   "source": [
    "submissions_zip = 'submissions.zip'\n",
    "\n",
    "!unzip -j {submissions_zip} -d \"original-submissions\""
   ]
  },
  {
   "cell_type": "code",
   "execution_count": 7,
   "metadata": {},
   "outputs": [
    {
     "name": "stdout",
     "output_type": "stream",
     "text": [
      "1 notebook(s) gevonden en gekopiëerd\n"
     ]
    }
   ],
   "source": [
    "nbs_copied = 0\n",
    "\n",
    "for f in glob('original-submissions/*.ipynb'):\n",
    "    nb = os.path.basename(f)\n",
    "    \n",
    "    ids = re.findall(r'\\d{5,}', nb)\n",
    "    if len(ids):\n",
    "        student_id = ids[0]\n",
    "        \n",
    "        !mkdir -p submitted/{student_id}/{assignment_id}\n",
    "        !cp {f} submitted/{student_id}/{assignment_id}/{student_nb_name}\n",
    "        \n",
    "        nbs_copied += 1\n",
    "        \n",
    "print(\"%d notebook(s) gevonden en gekopiëerd\" % nbs_copied)"
   ]
  },
  {
   "cell_type": "markdown",
   "metadata": {},
   "source": [
    "## 5. Autograden"
   ]
  },
  {
   "cell_type": "code",
   "execution_count": 8,
   "metadata": {},
   "outputs": [
    {
     "name": "stdout",
     "output_type": "stream",
     "text": [
      "\u001b[32m[AutogradeApp | INFO]\u001b[m Creating/updating student with ID '10735291': {}\n",
      "\u001b[32m[AutogradeApp | INFO]\u001b[m Overwriting files with master versions from the source directory\n",
      "\u001b[32m[AutogradeApp | INFO]\u001b[m Sanitizing /Users/Jesse/Dropbox/Notebook-exams/notebook-exams/Scripts/nbgrader/Voorbeeld/submitted/10735291/tentamen1/Tentamen1.ipynb\n",
      "\u001b[32m[AutogradeApp | INFO]\u001b[m Converting notebook /Users/Jesse/Dropbox/Notebook-exams/notebook-exams/Scripts/nbgrader/Voorbeeld/submitted/10735291/tentamen1/Tentamen1.ipynb\n",
      "\u001b[33m[AutogradeApp | WARNING]\u001b[m Attribute 'checksum' for cell vraag-1-test has changed! (should be: 1d1b73ce516a9d7a8e0bad4c4f053e95, got: 3028f70e2c94f75426dbe4c4521aa5e0)\n",
      "\u001b[32m[AutogradeApp | INFO]\u001b[m Writing 3910 bytes to /Users/Jesse/Dropbox/Notebook-exams/notebook-exams/Scripts/nbgrader/Voorbeeld/autograded/10735291/tentamen1/Tentamen1.ipynb\n",
      "\u001b[32m[AutogradeApp | INFO]\u001b[m Autograding /Users/Jesse/Dropbox/Notebook-exams/notebook-exams/Scripts/nbgrader/Voorbeeld/autograded/10735291/tentamen1/Tentamen1.ipynb\n",
      "\u001b[32m[AutogradeApp | INFO]\u001b[m Converting notebook /Users/Jesse/Dropbox/Notebook-exams/notebook-exams/Scripts/nbgrader/Voorbeeld/autograded/10735291/tentamen1/Tentamen1.ipynb\n",
      "\u001b[32m[AutogradeApp | INFO]\u001b[m Executing notebook with kernel: python3\n",
      "\u001b[32m[AutogradeApp | INFO]\u001b[m Writing 3895 bytes to /Users/Jesse/Dropbox/Notebook-exams/notebook-exams/Scripts/nbgrader/Voorbeeld/autograded/10735291/tentamen1/Tentamen1.ipynb\n",
      "\u001b[32m[AutogradeApp | INFO]\u001b[m Setting destination file permissions to 444\n"
     ]
    }
   ],
   "source": [
    "!nbgrader autograde {assignment_id} --create"
   ]
  },
  {
   "cell_type": "markdown",
   "metadata": {},
   "source": [
    "## Link naar manual graden"
   ]
  },
  {
   "cell_type": "markdown",
   "metadata": {},
   "source": [
    "## 6. students-answers.csv genereren"
   ]
  },
  {
   "cell_type": "code",
   "execution_count": 36,
   "metadata": {},
   "outputs": [],
   "source": [
    "import numpy as np\n",
    "\n",
    "q_oud = '''\n",
    "    SELECT\n",
    "        submitted_assignment.student_id,\n",
    "        grade_cell.name AS question_name,\n",
    "        grade_cell.max_score,\n",
    "        grade.needs_manual_grade AS needs_grading,\n",
    "        grade.auto_score,\n",
    "        grade.manual_score,\n",
    "        grade.extra_credit,\n",
    "        comment.auto_comment,\n",
    "        comment.manual_comment\n",
    "    FROM grade\n",
    "        INNER JOIN submitted_notebook ON submitted_notebook.id = grade.notebook_id\n",
    "        INNER JOIN submitted_assignment ON submitted_assignment.id = submitted_notebook.assignment_id\n",
    "        INNER JOIN grade_cell ON grade_cell.id = grade.cell_id\n",
    "        INNER JOIN solution_cell ON solution_cell.name = grade_cell.name AND solution_cell.notebook_id = grade_cell.notebook_id\n",
    "        LEFT JOIN comment ON comment.notebook_id = grade.notebook_id AND comment.cell_id = solution_cell.id\n",
    "'''\n",
    "\n",
    "q = '''\n",
    "    SELECT\n",
    "        submitted_assignment.student_id,\n",
    "        grade_cell.name AS question_name,\n",
    "        grade_cell.max_score,\n",
    "        grade.needs_manual_grade AS needs_grading,\n",
    "        grade.auto_score,\n",
    "        grade.manual_score,\n",
    "        grade.extra_credit\n",
    "    FROM grade\n",
    "        INNER JOIN submitted_notebook ON submitted_notebook.id = grade.notebook_id\n",
    "        INNER JOIN submitted_assignment ON submitted_assignment.id = submitted_notebook.assignment_id\n",
    "        INNER JOIN grade_cell ON grade_cell.id = grade.cell_id\n",
    "'''\n",
    "\n",
    "df = pd.read_sql_query(q, 'sqlite:///gradebook.db')\n",
    "df['final_score'] = np.where(~np.isnan(df['manual_score']), df['manual_score'], df['auto_score']) + df['extra_credit'].fillna(0)\n",
    "\n",
    "df.to_csv('student-results.csv')"
   ]
  },
  {
   "cell_type": "markdown",
   "metadata": {},
   "source": [
    "## 7. Analyseren"
   ]
  },
  {
   "cell_type": "code",
   "execution_count": null,
   "metadata": {},
   "outputs": [],
   "source": [
    "per_student = df.groupby('student_id')\n",
    "\n",
    "per_student['final_score'].sum() / per_student['max_score'].sum()"
   ]
  }
 ],
 "metadata": {
  "kernelspec": {
   "display_name": "Python 3",
   "language": "python",
   "name": "python3"
  },
  "language_info": {
   "codemirror_mode": {
    "name": "ipython",
    "version": 3
   },
   "file_extension": ".py",
   "mimetype": "text/x-python",
   "name": "python",
   "nbconvert_exporter": "python",
   "pygments_lexer": "ipython3",
   "version": "3.6.3"
  }
 },
 "nbformat": 4,
 "nbformat_minor": 2
}
