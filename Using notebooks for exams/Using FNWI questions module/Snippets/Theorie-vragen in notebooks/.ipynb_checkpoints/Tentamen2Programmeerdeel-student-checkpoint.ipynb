{
 "cells": [
  {
   "cell_type": "markdown",
   "metadata": {},
   "source": [
    "# Programmeerdeel netwerkanalyse 2017\n",
    "\n"
   ]
  },
  {
   "cell_type": "code",
   "execution_count": 12,
   "metadata": {
    "collapsed": false
   },
   "outputs": [
    {
     "data": {
      "text/html": [
       "<style>\n",
       "    h4 {\n",
       "        margin-top: 20px;\n",
       "    }\n",
       "\n",
       "    .widget-area .prompt .close {\n",
       "        display: none !important;\n",
       "    }\n",
       "\n",
       "    .widget-label, .spec-label {\n",
       "        color: #666;\n",
       "        font-weight: bold;\n",
       "        \n",
       "        min-width: 180px !important;\n",
       "    }\n",
       "    </style>\n",
       "\n",
       "    <script>\n",
       "    var executed = false\n",
       "\n",
       "    var runAndHide = function() {\n",
       "        var q_indexes = []\n",
       "        $('.input_area').each(function(i, area) {\n",
       "            area = $(area)\n",
       "\n",
       "            if(area.text().indexOf('questions.ask') > -1) {\n",
       "                area.parents('.input').hide()\n",
       "\n",
       "                if(!executed) {\n",
       "                    var index = $('.cell').index(area.parents('.cell'))\n",
       "\n",
       "                    if(index != -1) {\n",
       "                        q_indexes.push(index)\n",
       "                    }\n",
       "                }\n",
       "            }\n",
       "        })\n",
       "\n",
       "        if(!executed) {\n",
       "            IPython.notebook.execute_cells(q_indexes)\n",
       "            executed = true\n",
       "        }\n",
       "    }\n",
       "\n",
       "    runAndHide()\n",
       "\n",
       "    setInterval(runAndHide, 200)\n",
       "\n",
       "    setTimeout(function() {\n",
       "        $('.widget-area input[type=\"text\"]').on('keydown', function(e) {\n",
       "            if((e.metaKey || e.ctrlKey) && e.keyCode == 83) {\n",
       "                IPython.notebook.save_checkpoint()\n",
       "\n",
       "                e.preventDefault();\n",
       "                return false;\n",
       "            }\n",
       "        })\n",
       "    }, 3000)\n",
       "    </script>"
      ],
      "text/plain": [
       "<IPython.core.display.HTML object>"
      ]
     },
     "metadata": {},
     "output_type": "display_data"
    }
   ],
   "source": [
    "import questions\n",
    "questions.load()\n",
    "\n",
    "import pandas as pd\n",
    "import networkx as nx\n",
    "import matplotlib.pyplot as plt\n",
    "\n",
    "from __future__ import division,print_function\n",
    "%matplotlib inline\n"
   ]
  },
  {
   "cell_type": "code",
   "execution_count": null,
   "metadata": {
    "collapsed": false
   },
   "outputs": [],
   "source": [
    "# de knopen\n",
    "R=range(0,3)\n",
    "B=range(3,9)\n",
    "# de lijnen\n",
    "E= [(i,j) for i in R for j in R if i<j] + [(2,3),(0,3),(0,4),(4,5), (0,5),(1,4)] + [(3,5),(3,6),(5,6),(5,7),(6,7),(4,7)] + [(i,8) for i in {4,5,7}]\n",
    "\n",
    "\n",
    "G=nx.Graph()\n",
    "G.add_edges_from(E)\n",
    "\n",
    "# de kleuren van de knopen\n",
    "for n in R:\n",
    "    G.add_node(n,kleur='R')\n",
    "for n in B:\n",
    "    G.add_node(n,kleur='B')"
   ]
  },
  {
   "cell_type": "code",
   "execution_count": null,
   "metadata": {
    "collapsed": false
   },
   "outputs": [],
   "source": [
    "# voorbeeld\n",
    "print( G.node[0], G.node[0]['kleur'])\n",
    "\n",
    "print (G.nodes())\n",
    "\n",
    "print (G.edges()[:6])\n"
   ]
  },
  {
   "cell_type": "markdown",
   "metadata": {},
   "source": [
    "# De vragen \n",
    "\n",
    "Bekijk   netwerk `G`:\n",
    "\n",
    " \n",
    "\n",
    "\n",
    "Programmeer nu het antwoord op de volgende vragen.\n",
    "\n",
    "Open voor elke vraag een nieuwe cel en geef duidelijk aan welke vraag je in welke cel beantwoord.\n",
    "\n",
    "Zorg dat je cel/code werkt op _elk netwerk_ genaamd `G` met de twee  kleuren op dezelfde manier in variabelen `R` en `B` gegeven.\n",
    "\n",
    "### (1) Wat is de kans dat een willekeurige verbinding tussen 2 knopen in dit netwerk een lijn is tussen knopen met 2 verschillende kleuren?\n",
    "\n"
   ]
  },
  {
   "cell_type": "code",
   "execution_count": 13,
   "metadata": {
    "collapsed": false
   },
   "outputs": [],
   "source": [
    "questions.ask(\"2-kleuren-kans-code\")"
   ]
  },
  {
   "cell_type": "code",
   "execution_count": null,
   "metadata": {
    "collapsed": true
   },
   "outputs": [],
   "source": [
    "# jouw code"
   ]
  },
  {
   "cell_type": "markdown",
   "metadata": {},
   "source": [
    "**Vul de kans hier in:**\n"
   ]
  },
  {
   "cell_type": "code",
   "execution_count": 14,
   "metadata": {
    "collapsed": false
   },
   "outputs": [],
   "source": [
    "questions.ask(\"2-kleuren-kans\")"
   ]
  },
  {
   "cell_type": "markdown",
   "metadata": {},
   "source": [
    "### (2) Welk deel van de lijnen in dit netwerk is tussen knopen met 2 verschillende kleuren? Je antwoord is een getal tussen 0 en 1.\n",
    "\n"
   ]
  },
  {
   "cell_type": "code",
   "execution_count": 15,
   "metadata": {
    "collapsed": false
   },
   "outputs": [],
   "source": [
    "questions.ask(\"2-kleuren-deel-code\")"
   ]
  },
  {
   "cell_type": "code",
   "execution_count": null,
   "metadata": {
    "collapsed": true
   },
   "outputs": [],
   "source": [
    "# jouw code"
   ]
  },
  {
   "cell_type": "markdown",
   "metadata": {},
   "source": [
    "**Vul de fractie hier in:**\n"
   ]
  },
  {
   "cell_type": "code",
   "execution_count": 16,
   "metadata": {
    "collapsed": false
   },
   "outputs": [],
   "source": [
    "questions.ask(\"2-kleuren-deel\")"
   ]
  },
  {
   "cell_type": "markdown",
   "metadata": {},
   "source": [
    "### (3) Bepaal voor elke lijn de neighborhood overlap. Sla dit op in een dictionary. Zorg dat je lijnen er niet 2 keer in hebt zitten.\n",
    "\n"
   ]
  },
  {
   "cell_type": "code",
   "execution_count": 17,
   "metadata": {
    "collapsed": false
   },
   "outputs": [],
   "source": [
    "questions.ask(\"neighborhood-overlap-code\")"
   ]
  },
  {
   "cell_type": "code",
   "execution_count": null,
   "metadata": {
    "collapsed": true
   },
   "outputs": [],
   "source": [
    "# jouw code"
   ]
  },
  {
   "cell_type": "markdown",
   "metadata": {},
   "source": [
    "**Wat is de neighborhood overlap van lijn (4,7)?**\n"
   ]
  },
  {
   "cell_type": "code",
   "execution_count": 18,
   "metadata": {
    "collapsed": false
   },
   "outputs": [],
   "source": [
    "questions.ask(\"overlap-4-7\")"
   ]
  },
  {
   "cell_type": "markdown",
   "metadata": {},
   "source": [
    "### (4) Er zijn nu drie verschillende soorten lijnen, afhankelijk van de kleuren van hun 2 aanliggende knopen. Bereken voor elke soort de gemiddelde neighborhood overlap.\n",
    "\n"
   ]
  },
  {
   "cell_type": "code",
   "execution_count": 19,
   "metadata": {
    "collapsed": false
   },
   "outputs": [],
   "source": [
    "questions.ask(\"gemiddelde-overlap-code\")"
   ]
  },
  {
   "cell_type": "code",
   "execution_count": null,
   "metadata": {
    "collapsed": true
   },
   "outputs": [],
   "source": [
    "# jouw code"
   ]
  },
  {
   "cell_type": "markdown",
   "metadata": {},
   "source": [
    "**Wat is de gemiddelde neighborhood overlap van de lijnen met alleen `B` gekleurde knopen?**\n"
   ]
  },
  {
   "cell_type": "code",
   "execution_count": 20,
   "metadata": {
    "collapsed": false
   },
   "outputs": [],
   "source": [
    "questions.ask(\"overlap-gemiddeld-B\")"
   ]
  },
  {
   "cell_type": "markdown",
   "metadata": {},
   "source": [
    "### (5) Hebben de knopen van de ene kleur meer buren dan de knopen van de andere kleur? Verzin en motiveer een passende maat en programmer die.\n",
    "\n"
   ]
  },
  {
   "cell_type": "code",
   "execution_count": 21,
   "metadata": {
    "collapsed": false
   },
   "outputs": [],
   "source": [
    "questions.ask(\"passende-maat-code\")"
   ]
  },
  {
   "cell_type": "code",
   "execution_count": null,
   "metadata": {
    "collapsed": true
   },
   "outputs": [],
   "source": [
    "# jouw code"
   ]
  },
  {
   "cell_type": "markdown",
   "metadata": {},
   "source": [
    "**Welke knoop heeft de hoogste betweenness centrality?**\n"
   ]
  },
  {
   "cell_type": "code",
   "execution_count": 22,
   "metadata": {
    "collapsed": false
   },
   "outputs": [],
   "source": [
    "questions.ask(\"hoogste-betweenness-centrality\")"
   ]
  },
  {
   "cell_type": "code",
   "execution_count": null,
   "metadata": {
    "collapsed": true
   },
   "outputs": [],
   "source": []
  }
 ],
 "metadata": {
  "anaconda-cloud": {},
  "kernelspec": {
   "display_name": "Python 2",
   "language": "python",
   "name": "python2"
  },
  "language_info": {
   "codemirror_mode": {
    "name": "ipython",
    "version": 2
   },
   "file_extension": ".py",
   "mimetype": "text/x-python",
   "name": "python",
   "nbconvert_exporter": "python",
   "pygments_lexer": "ipython2",
   "version": "2.7.9"
  },
  "widgets": {
   "state": {
    "1d382bcb22da49c8b6600ae277e5743f": {
     "views": [
      {
       "cell_index": 28
      }
     ]
    },
    "29c9def159f44ad3ae8fc7ffc0005f9c": {
     "views": [
      {
       "cell_index": 28
      }
     ]
    },
    "4361e50bede5464d8b3c8b63444237ac": {
     "views": [
      {
       "cell_index": 10
      }
     ]
    },
    "681be0dd064043d5a5e131ea2c27d389": {
     "views": [
      {
       "cell_index": 23
      }
     ]
    },
    "6b54ff9bddc044018203a6ad02707094": {
     "views": [
      {
       "cell_index": 20
      }
     ]
    },
    "7367c73b9df645ee8172b7e5249463d5": {
     "views": [
      {
       "cell_index": 13
      }
     ]
    },
    "8314237226654528b7c436bdb6ef7812": {
     "views": [
      {
       "cell_index": 8
      }
     ]
    },
    "93c338ed1c0f4e36bfff7788c058e579": {
     "views": [
      {
       "cell_index": 15
      }
     ]
    },
    "9c1430e276384977906f8ecce7801086": {
     "views": [
      {
       "cell_index": 18
      }
     ]
    },
    "b1fa9370e6e64c4aa278092b5901a064": {
     "views": [
      {
       "cell_index": 25
      }
     ]
    },
    "df12a1cb6c5e45a38febda638a3b58ff": {
     "views": [
      {
       "cell_index": 5
      }
     ]
    }
   },
   "version": "1.2.0"
  }
 },
 "nbformat": 4,
 "nbformat_minor": 2
}
