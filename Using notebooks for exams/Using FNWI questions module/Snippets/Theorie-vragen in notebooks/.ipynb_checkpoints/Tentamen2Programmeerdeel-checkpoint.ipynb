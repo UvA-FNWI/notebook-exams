{
 "cells": [
  {
   "cell_type": "markdown",
   "metadata": {},
   "source": [
    "# Programmeerdeel netwerkanalyse 2017\n",
    "\n"
   ]
  },
  {
   "cell_type": "code",
   "execution_count": 1,
   "metadata": {
    "collapsed": false
   },
   "outputs": [
    {
     "data": {
      "text/html": [
       "<style>\n",
       "    h4 {\n",
       "        margin-top: 20px;\n",
       "    }\n",
       "\n",
       "    .widget-area .prompt .close {\n",
       "        display: none !important;\n",
       "    }\n",
       "    </style>\n",
       "\n",
       "    <script>\n",
       "    var hideCode = function() {\n",
       "        $('.input').each(function() {\n",
       "            if($(this).next().length) {\n",
       "                var widget = $($(this).next()[0])\n",
       "\n",
       "                if(widget.hasClass('widget-area') && widget.is(':visible')) {\n",
       "                    $(this).hide()\n",
       "                }\n",
       "            }\n",
       "        })\n",
       "    }\n",
       "\n",
       "    //hideCode()\n",
       "\n",
       "    setInterval(hideCode, 100)\n",
       "\n",
       "    var q_indexes = []\n",
       "    $('.input_area').each(function(i, area) {\n",
       "        area = $(area)\n",
       "\n",
       "        if(area.text().indexOf('questions.ask') > -1) {\n",
       "            var index = $('.cell').index(area.parents('.cell'))\n",
       "\n",
       "            if(index != -1) {\n",
       "                q_indexes.push(index)\n",
       "            }\n",
       "        }\n",
       "    })\n",
       "\n",
       "    IPython.notebook.execute_cells(q_indexes)\n",
       "    hideCode()\n",
       "    </script>"
      ],
      "text/plain": [
       "<IPython.core.display.HTML object>"
      ]
     },
     "metadata": {},
     "output_type": "display_data"
    }
   ],
   "source": [
    "import questions\n",
    "questions.load()\n",
    "\n",
    "import pandas as pd\n",
    "import networkx as nx\n",
    "import matplotlib.pyplot as plt\n",
    "\n",
    "from __future__ import division,print_function\n",
    "%matplotlib inline\n"
   ]
  },
  {
   "cell_type": "code",
   "execution_count": 2,
   "metadata": {
    "collapsed": false
   },
   "outputs": [],
   "source": [
    "# de knopen\n",
    "R=range(0,3)\n",
    "B=range(3,9)\n",
    "# de lijnen\n",
    "E= [(i,j) for i in R for j in R if i<j] + [(2,3),(0,3),(0,4),(4,5), (0,5),(1,4)] + [(3,5),(3,6),(5,6),(5,7),(6,7),(4,7)] + [(i,8) for i in {4,5,7}]\n",
    "\n",
    "\n",
    "G=nx.Graph()\n",
    "G.add_edges_from(E)\n",
    "\n",
    "# de kleuren van de knopen\n",
    "for n in R:\n",
    "    G.add_node(n,kleur='R')\n",
    "for n in B:\n",
    "    G.add_node(n,kleur='B')"
   ]
  },
  {
   "cell_type": "code",
   "execution_count": 6,
   "metadata": {
    "collapsed": false
   },
   "outputs": [
    {
     "name": "stdout",
     "output_type": "stream",
     "text": [
      "{'kleur': 'R'} R\n",
      "[0, 1, 2, 3, 4, 5, 6, 7, 8]\n",
      "[(0, 1), (0, 2), (0, 3), (0, 4), (0, 5), (1, 2)]\n"
     ]
    }
   ],
   "source": [
    "# voorbeeld\n",
    "print( G.node[0], G.node[0]['kleur'])\n",
    "\n",
    "print (G.nodes())\n",
    "\n",
    "print (G.edges()[:6])\n"
   ]
  },
  {
   "cell_type": "markdown",
   "metadata": {},
   "source": [
    "# De vragen \n",
    "\n",
    "Bekijk   netwerk `G`:\n",
    "\n",
    " \n",
    "\n",
    "\n",
    "Programmeer nu het antwoord op de volgende vragen.\n",
    "\n",
    "Open voor elke vraag een nieuwe cel en geef duidelijk aan welke vraag je in welke cel beantwoord.\n",
    "\n",
    "Zorg dat je cel/code werkt op _elk netwerk_ genaamd `G` met de twee  kleuren op dezelfde manier in variabelen `R` en `B` gegeven.\n",
    "\n",
    "### (1) Wat is de kans dat een willekeurige verbinding tussen 2 knopen in dit netwerk een lijn is tussen knopen met 2 verschillende kleuren?\n",
    "\n",
    "<answer id=\"2-kleuren-kans-code\" points=\"2\" type=\"open\"></answer>"
   ]
  },
  {
   "cell_type": "code",
   "execution_count": null,
   "metadata": {
    "collapsed": true
   },
   "outputs": [],
   "source": [
    "# jouw code"
   ]
  },
  {
   "cell_type": "markdown",
   "metadata": {},
   "source": [
    "**Vul de kans hier in:**\n",
    "<answer id=\"2-kleuren-kans\" points=\"1\">round(float(X), 3) == 0.444</answer>"
   ]
  },
  {
   "cell_type": "markdown",
   "metadata": {},
   "source": [
    "### (2) Welk deel van de lijnen in dit netwerk is tussen knopen met 2 verschillende kleuren? Je antwoord is een getal tussen 0 en 1.\n",
    "\n",
    "<answer id=\"2-kleuren-deel-code\" points=\"2\" type=\"open\" />"
   ]
  },
  {
   "cell_type": "code",
   "execution_count": null,
   "metadata": {
    "collapsed": true
   },
   "outputs": [],
   "source": [
    "# jouw code"
   ]
  },
  {
   "cell_type": "markdown",
   "metadata": {},
   "source": [
    "**Vul de fractie hier in:**\n",
    "<answer id=\"2-kleuren-deel\" points=\"1\">round(float(X), 4) == 0.2778</answer>"
   ]
  },
  {
   "cell_type": "markdown",
   "metadata": {},
   "source": [
    "### (3) Bepaal voor elke lijn de neighborhood overlap. Sla dit op in een dictionary. Zorg dat je lijnen er niet 2 keer in hebt zitten.\n",
    "\n",
    "<answer id=\"neighborhood-overlap-code\" points=\"2\" type=\"open\" />"
   ]
  },
  {
   "cell_type": "code",
   "execution_count": null,
   "metadata": {
    "collapsed": true
   },
   "outputs": [],
   "source": [
    "# jouw code"
   ]
  },
  {
   "cell_type": "markdown",
   "metadata": {},
   "source": [
    "**Wat is de neighborhood overlap van lijn (4,7)?**\n",
    "<answer id=\"overlap-4-7\" points=\"1\">float(X) == 0.4</answer>"
   ]
  },
  {
   "cell_type": "markdown",
   "metadata": {},
   "source": [
    "### (4) Er zijn nu drie verschillende soorten lijnen, afhankelijk van de kleuren van hun 2 aanliggende knopen. Bereken voor elke soort de gemiddelde neighborhood overlap.\n",
    "\n",
    "<answer id=\"gemiddelde-overlap-code\" points=\"2\" type=\"open\" />"
   ]
  },
  {
   "cell_type": "code",
   "execution_count": null,
   "metadata": {
    "collapsed": true
   },
   "outputs": [],
   "source": [
    "# jouw code"
   ]
  },
  {
   "cell_type": "markdown",
   "metadata": {},
   "source": [
    "**Wat is de gemiddelde neighborhood overlap van de lijnen met alleen `B` gekleurde knopen?**\n",
    "<answer id=\"overlap-gemiddeld-B\" points=\"1\">float(X) == 0.43</answer>"
   ]
  },
  {
   "cell_type": "markdown",
   "metadata": {},
   "source": [
    "### (5) Hebben de knopen van de ene kleur meer buren dan de knopen van de andere kleur? Verzin en motiveer een passende maat en programmer die.\n",
    "\n",
    "<answer id=\"passende-maat-code\" points=\"2\" type=\"open\" />"
   ]
  },
  {
   "cell_type": "code",
   "execution_count": null,
   "metadata": {
    "collapsed": true
   },
   "outputs": [],
   "source": [
    "# jouw code"
   ]
  },
  {
   "cell_type": "markdown",
   "metadata": {},
   "source": [
    "**Welke knoop heeft de hoogste betweenness centrality?**\n",
    "<answer id=\"hoogste-betweenness-centrality\" points=\"1\">int(X) == 5</answer>"
   ]
  },
  {
   "cell_type": "code",
   "execution_count": null,
   "metadata": {
    "collapsed": true
   },
   "outputs": [],
   "source": []
  }
 ],
 "metadata": {
  "anaconda-cloud": {},
  "kernelspec": {
   "display_name": "Python 2",
   "language": "python",
   "name": "python2"
  },
  "language_info": {
   "codemirror_mode": {
    "name": "ipython",
    "version": 2
   },
   "file_extension": ".py",
   "mimetype": "text/x-python",
   "name": "python",
   "nbconvert_exporter": "python",
   "pygments_lexer": "ipython2",
   "version": "2.7.9"
  }
 },
 "nbformat": 4,
 "nbformat_minor": 2
}
