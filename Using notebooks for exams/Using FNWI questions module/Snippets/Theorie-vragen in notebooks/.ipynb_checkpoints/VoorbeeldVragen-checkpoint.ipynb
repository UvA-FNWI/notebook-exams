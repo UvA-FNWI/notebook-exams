{
 "cells": [
  {
   "cell_type": "code",
   "execution_count": 2,
   "metadata": {
    "collapsed": false
   },
   "outputs": [
    {
     "data": {
      "text/html": [
       "<style>\n",
       "h4 {\n",
       "    margin-top: 20px;\n",
       "}\n",
       "\n",
       ".widget-area .prompt .close {\n",
       "    display: none !important;\n",
       "}\n",
       "</style>"
      ],
      "text/plain": [
       "<IPython.core.display.HTML object>"
      ]
     },
     "metadata": {},
     "output_type": "display_data"
    }
   ],
   "source": [
    "import questions"
   ]
  },
  {
   "cell_type": "markdown",
   "metadata": {},
   "source": [
    "### Hoeveel is 2 plus 2 punt 5?\n",
    "\n",
    "Lorem ipsum dolor sit amet, consectetur adipiscing elit. Donec non mollis orci. Nullam luctus mattis pellentesque. Suspendisse id nibh nisl. Sed dictum orci felis, vel condimentum justo mattis ac. Proin et odio id tellus fringilla pellentesque sit amet ac dolor. Proin molestie elit lacinia euismod congue. Fusce sagittis quam sit amet ante ullamcorper, et malesuada velit facilisis. Aliquam blandit a ante suscipit mollis. Quisque dolor sapien, dignissim a semper fermentum, luctus eu orci.  \n",
    "\n",
    "<answer id=\"2plus2punt5\" w=\"5\">float(X) == round(4.5,1)</answer>\n",
    "\n",
    "Proin molestie elit lacinia euismod congue. Fusce sagittis quam sit amet ante ullamcorper, et malesuada velit facilisis."
   ]
  },
  {
   "cell_type": "markdown",
   "metadata": {},
   "source": [
    "#### Nog een vraag\n",
    "\n",
    "Sed venenatis pharetra erat, at finibus purus imperdiet nec.  \n",
    "Sed laoreet ex dui, id feugiat ante iaculis at?"
   ]
  },
  {
   "cell_type": "markdown",
   "metadata": {},
   "source": [
    "<answer id=\"wezel\">bool(re.search(r'[eE]zel',X)) == True</answer>"
   ]
  },
  {
   "cell_type": "markdown",
   "metadata": {
    "collapsed": true
   },
   "source": [
    "## Programmeer nu dit en dat\n",
    "\n",
    "<answer id=\"code1\" type=\"code\" />"
   ]
  },
  {
   "cell_type": "code",
   "execution_count": 3,
   "metadata": {
    "collapsed": true
   },
   "outputs": [],
   "source": [
    "# jouw code"
   ]
  },
  {
   "cell_type": "code",
   "execution_count": null,
   "metadata": {
    "collapsed": true
   },
   "outputs": [],
   "source": []
  }
 ],
 "metadata": {
  "kernelspec": {
   "display_name": "Python 2",
   "language": "python",
   "name": "python2"
  },
  "language_info": {
   "codemirror_mode": {
    "name": "ipython",
    "version": 2
   },
   "file_extension": ".py",
   "mimetype": "text/x-python",
   "name": "python",
   "nbconvert_exporter": "python",
   "pygments_lexer": "ipython2",
   "version": "2.7.9"
  }
 },
 "nbformat": 4,
 "nbformat_minor": 2
}
