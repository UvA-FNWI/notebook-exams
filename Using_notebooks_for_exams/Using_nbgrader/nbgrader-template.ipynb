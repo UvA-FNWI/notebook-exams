{
 "cells": [
  {
   "cell_type": "markdown",
   "metadata": {
    "nbgrader": {
     "grade": false,
     "grade_id": "1",
     "locked": false,
     "schema_version": 1,
     "solution": false
    }
   },
   "source": [
    "# Tentamen template\n",
    "\n",
    "* We give examples of the diferent types of questions anf how they are graded\n",
    "* For manual grading it is easiest to start with all manually graded questions, because when you do manual grading you grade by notebook from top to bottom and the manually graded cells are not easily recognizable."
   ]
  },
  {
   "cell_type": "code",
   "execution_count": 6,
   "metadata": {
    "nbgrader": {
     "grade": false,
     "grade_id": "cell-14b8ab3339513934",
     "locked": false,
     "schema_version": 1,
     "solution": false
    }
   },
   "outputs": [],
   "source": [
    "# Run this cell first\n",
    "\n",
    "import pandas as pd\n",
    "import numpy as np\n",
    "from nose.tools import assert_equal\n",
    "\n",
    "observed= np.array([1,3,5])\n",
    "predicted= np.array([1.5,2,6])"
   ]
  },
  {
   "cell_type": "markdown",
   "metadata": {
    "nbgrader": {
     "grade": false,
     "grade_id": "cell-a204452ca24bced4",
     "locked": false,
     "schema_version": 1,
     "solution": false
    }
   },
   "source": [
    "# Manually graded example\n",
    "\n",
    "* Answer in MarkDown"
   ]
  },
  {
   "cell_type": "markdown",
   "metadata": {
    "collapsed": true,
    "nbgrader": {
     "grade": false,
     "grade_id": "3",
     "locked": false,
     "schema_version": 1,
     "solution": false
    }
   },
   "source": [
    "**Q3** Give the formula for  the _root mean squared error_ between the two lists of samples: `observed` and `predicted`.\n",
    "    \n",
    "Use Latex.    "
   ]
  },
  {
   "cell_type": "markdown",
   "metadata": {
    "nbgrader": {
     "grade": true,
     "grade_id": "vraag-2",
     "locked": false,
     "points": 2,
     "schema_version": 1,
     "solution": true
    }
   },
   "source": [
    " \n",
    "$$ \\sqrt{\\frac{\\Sigma_1^N (\\mathtt{observed}  -\\mathtt{predicted})^2}{N}}$$"
   ]
  },
  {
   "cell_type": "markdown",
   "metadata": {
    "nbgrader": {
     "grade": false,
     "grade_id": "cell-d3863c1d6dcb5504",
     "locked": false,
     "schema_version": 1,
     "solution": false
    }
   },
   "source": [
    "# Manually graded example\n",
    "\n",
    "* Answer in code"
   ]
  },
  {
   "cell_type": "markdown",
   "metadata": {
    "collapsed": true,
    "nbgrader": {
     "grade": false,
     "grade_id": "4",
     "locked": false,
     "schema_version": 1,
     "solution": false
    }
   },
   "source": [
    "**Q4** Give the formula for  the _root mean squared error_ between the two lists of samples: `observed` and `predicted`.\n",
    "    \n"
   ]
  },
  {
   "cell_type": "code",
   "execution_count": 14,
   "metadata": {
    "nbgrader": {
     "grade": true,
     "grade_id": "vraag-3",
     "locked": false,
     "points": 1,
     "schema_version": 1,
     "solution": true
    }
   },
   "outputs": [
    {
     "data": {
      "text/plain": [
       "(0.8660254037844386, 0.8660254037844386)"
      ]
     },
     "execution_count": 14,
     "metadata": {},
     "output_type": "execute_result"
    }
   ],
   "source": [
    "rmse = None\n",
    "rmse\n",
    "### BEGIN SOLUTION\n",
    "np.sqrt(((observed-predicted)**2).mean()),(((observed-predicted)**2).mean())**.5\n",
    "### END SOLUTION"
   ]
  },
  {
   "cell_type": "markdown",
   "metadata": {
    "nbgrader": {
     "grade": false,
     "grade_id": "cell-4f5d8b6d749a7178",
     "locked": false,
     "schema_version": 1,
     "solution": false
    }
   },
   "source": [
    "# Autograded example\n",
    "\n",
    "**Q1** Compute the _root mean squared error_ between the two lists of samples: `observed` and `predicted`.\n",
    "\n",
    "* First you write a function for that. Do that in the next cell."
   ]
  },
  {
   "cell_type": "code",
   "execution_count": 15,
   "metadata": {
    "nbgrader": {
     "grade": false,
     "grade_id": "vraag-1-a",
     "locked": false,
     "schema_version": 1,
     "solution": true
    }
   },
   "outputs": [
    {
     "data": {
      "text/plain": [
       "0.8660254037844386"
      ]
     },
     "execution_count": 15,
     "metadata": {},
     "output_type": "execute_result"
    }
   ],
   "source": [
    "def rmse(observed,predicted):\n",
    "    '''Compute the root mean squared error between the two lists of samples: observed and predicted.'''\n",
    "    ### BEGIN SOLUTION\n",
    "    return np.sqrt(((observed-predicted)**2).mean())\n",
    "    ### END SOLUTION\n",
    "\n",
    "# test \n",
    "rmse(observed,predicted)"
   ]
  },
  {
   "cell_type": "code",
   "execution_count": 9,
   "metadata": {
    "nbgrader": {
     "grade": true,
     "grade_id": "vraag-1-a-test",
     "locked": true,
     "points": 1,
     "schema_version": 1,
     "solution": false
    }
   },
   "outputs": [],
   "source": [
    "# Hier staat een onzichtbare test\n",
    "### BEGIN HIDDEN TESTS\n",
    "\n",
    "assert_equal(rmse(observed,predicted), np.sqrt(((observed-predicted)**2).mean()), 'Your result does not compute np.sqrt(((observed-predicted)**2).mean()')\n",
    "### END HIDDEN TESTS"
   ]
  },
  {
   "cell_type": "markdown",
   "metadata": {},
   "source": [
    "**Q2** Now again you compute the RMSE between the two lists of samples: `observed` and `predicted`, but you store the result in the variable `Rmse` in the cell below."
   ]
  },
  {
   "cell_type": "code",
   "execution_count": 16,
   "metadata": {
    "nbgrader": {
     "grade": false,
     "grade_id": "vraag-1",
     "locked": false,
     "schema_version": 1,
     "solution": true
    }
   },
   "outputs": [],
   "source": [
    "Rmse = None # replace with your answer\n",
    "Rmse\n",
    "### BEGIN SOLUTION\n",
    "Rmse = np.sqrt(((observed-predicted)**2).mean())\n",
    "### END SOLUTION"
   ]
  },
  {
   "cell_type": "code",
   "execution_count": 11,
   "metadata": {
    "nbgrader": {
     "grade": true,
     "grade_id": "vraag-1-test",
     "locked": true,
     "points": 1,
     "schema_version": 1,
     "solution": false
    }
   },
   "outputs": [],
   "source": [
    "# Hier staat een onzichtbare test\n",
    "### BEGIN HIDDEN TESTS\n",
    "\n",
    "assert_equal( Rmse, np.sqrt(((observed-predicted)**2).mean()), 'Your result does not compute np.sqrt(((observed-predicted)**2).mean()')\n",
    "### END HIDDEN TESTS"
   ]
  },
  {
   "cell_type": "markdown",
   "metadata": {},
   "source": [
    "# Autograded example 2\n",
    "\n",
    "* Here the answer is simply a fixed value.\n",
    "* We do not need to check code."
   ]
  },
  {
   "cell_type": "markdown",
   "metadata": {},
   "source": [
    "**Q2a** Compute the RMSE  between the two lists of samples `observed` and `predicted` given above.\n",
    "\n",
    "* You simply give the answer, rounded to 2 digits.\n",
    "* You do not give code. (So your answer has this shape: `answer= 7.76` )\n",
    "\n",
    " "
   ]
  },
  {
   "cell_type": "code",
   "execution_count": 17,
   "metadata": {
    "nbgrader": {
     "grade": false,
     "grade_id": "vraag-2a",
     "locked": false,
     "schema_version": 1,
     "solution": true
    }
   },
   "outputs": [],
   "source": [
    "answer= None # replace with your answer\n",
    "answer\n",
    "### BEGIN SOLUTION\n",
    " \n",
    "answer =round(np.sqrt(((observed-predicted)**2).mean()),2)\n",
    "### END SOLUTION"
   ]
  },
  {
   "cell_type": "code",
   "execution_count": 13,
   "metadata": {
    "nbgrader": {
     "grade": true,
     "grade_id": "vraag_2a-test",
     "locked": true,
     "points": 1,
     "schema_version": 1,
     "solution": false
    }
   },
   "outputs": [],
   "source": [
    "# Hier staat een onzichtbare test\n",
    "### BEGIN HIDDEN TESTS\n",
    "\n",
    "assert_equal( answer, 0.87, 'Your result does not compute np.sqrt(((observed-predicted)**2).mean()')\n",
    "### END HIDDEN TESTS"
   ]
  }
 ],
 "metadata": {
  "celltoolbar": "Create Assignment",
  "kernelspec": {
   "display_name": "Python 3",
   "language": "python",
   "name": "python3"
  },
  "language_info": {
   "codemirror_mode": {
    "name": "ipython",
    "version": 3
   },
   "file_extension": ".py",
   "mimetype": "text/x-python",
   "name": "python",
   "nbconvert_exporter": "python",
   "pygments_lexer": "ipython3",
   "version": "3.6.3"
  }
 },
 "nbformat": 4,
 "nbformat_minor": 2
}
