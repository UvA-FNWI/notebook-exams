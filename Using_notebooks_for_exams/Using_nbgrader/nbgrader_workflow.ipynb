{
 "cells": [
  {
   "cell_type": "markdown",
   "metadata": {},
   "source": [
    "# nbgrader workflow\n",
    "\n",
    "Let op: voor een correcte werking moet deze workflow in een eigen map uitgevoerd worden. Dit notebook moet in deze map staan en Jupyter moet vanuit deze map opgestart te worden. Dit is een beperking van nbgrader."
   ]
  },
  {
   "cell_type": "code",
   "execution_count": 1,
   "metadata": {},
   "outputs": [
    {
     "data": {
      "application/javascript": [
       "if(!(window.location.pathname.indexOf('notebooks') == 1 && window.location.pathname.split('/').length == 3)) { alert('De workflow-notebook staat niet in de root-map van Jupyter!'); }"
      ],
      "text/plain": [
       "<IPython.core.display.Javascript object>"
      ]
     },
     "metadata": {},
     "output_type": "display_data"
    }
   ],
   "source": [
    "import os\n",
    "import re\n",
    "import shutil\n",
    "from glob import glob\n",
    "import pandas as pd\n",
    "\n",
    "from IPython.display import display, Markdown, Javascript\n",
    "\n",
    "display(Javascript(\"if(!(window.location.pathname.indexOf('notebooks') == 1 && window.location.pathname.split('/').length == 3)) { alert('De workflow-notebook staat niet in de root-map van Jupyter!'); }\"))"
   ]
  },
  {
   "cell_type": "markdown",
   "metadata": {},
   "source": [
    "## 0. Configuratie"
   ]
  },
  {
   "cell_type": "code",
   "execution_count": 2,
   "metadata": {},
   "outputs": [],
   "source": [
    "course_id = \"DataScience\"  # Name of the course\n",
    "assignment_id = \"Deeltentamen1\"   # Name of the exam"
   ]
  },
  {
   "cell_type": "markdown",
   "metadata": {},
   "source": [
    "## 1. nbgrader configureren\n",
    "code-stub overschrijven etc."
   ]
  },
  {
   "cell_type": "code",
   "execution_count": 3,
   "metadata": {},
   "outputs": [],
   "source": [
    "config = '''\n",
    "c = get_config()\n",
    "\n",
    "c.Exchange.course_id = \"%s\"\n",
    "c.ClearSolutions.code_stub = {'python': '# JOUW CODE HIER', 'markdown': '....'}\n",
    "''' % course_id\n",
    "\n",
    "with open('nbgrader_config.py', 'w') as f:\n",
    "    f.write(config)"
   ]
  },
  {
   "cell_type": "markdown",
   "metadata": {},
   "source": [
    "## 2. Assignment-map aanmaken\n",
    "\n",
    "* You create a `source` folder with a folder with the name of the assignment.\n",
    "* A template exam is copied to that folder."
   ]
  },
  {
   "cell_type": "code",
   "execution_count": 18,
   "metadata": {},
   "outputs": [
    {
     "name": "stdout",
     "output_type": "stream",
     "text": [
      "\u001b[32m[DbAssignmentAddApp | INFO]\u001b[m Creating/updating assignment with ID 'Deeltentamen1': {'duedate': None}\n",
      "total 24\n",
      "-rw-r--r--@ 1 Jesse  staff  8526 Apr 12 14:40 Deeltentamen1.ipynb\n"
     ]
    },
    {
     "data": {
      "text/markdown": [
       "---\n",
       "## 3. Assignment maken\n",
       "Het notebook-template staat in **source/Deeltentamen1/Deeltentamen1.ipynb**  \n",
       "<a class=\"btn btn-primary\" style=\"margin-top: 10px; text-decoration: none;\" href=\"/notebooks/source/Deeltentamen1/Deeltentamen1.ipynb\" target=\"_blank\">Open notebook</a>"
      ],
      "text/plain": [
       "<IPython.core.display.Markdown object>"
      ]
     },
     "metadata": {},
     "output_type": "display_data"
    }
   ],
   "source": [
    "!nbgrader db assignment add {assignment_id}\n",
    "os.makedirs('source/%s' % assignment_id, exist_ok=True)\n",
    "\n",
    "\n",
    "nbgrader_template='https://raw.githubusercontent.com/UvA-FNWI/notebook-exams/master/Using_notebooks_for_exams/Using_nbgrader/nbgrader-template.ipynb'\n",
    "import urllib.request\n",
    "urllib.request.urlretrieve(nbgrader_template, 'source/%s/%s.ipynb' % (assignment_id, assignment_id))\n",
    "\n",
    "!ls -l source/{assignment_id}\n",
    "\n",
    "display(Markdown('---\\n## 3. Assignment maken\\nHet notebook-template staat in **source/%s/%s.ipynb**  \\n<a class=\"btn btn-primary\" style=\"margin-top: 10px; text-decoration: none;\" href=\"/notebooks/source/%s/%s.ipynb\" target=\"_blank\">Open notebook</a>' % (assignment_id, assignment_id, assignment_id, assignment_id)))"
   ]
  },
  {
   "cell_type": "markdown",
   "metadata": {},
   "source": [
    "nbgrader documentatie: http://nbgrader.readthedocs.io/en/stable/user_guide/creating_and_grading_assignments.html"
   ]
  },
  {
   "cell_type": "markdown",
   "metadata": {},
   "source": [
    "## 4. Maak een studentversie"
   ]
  },
  {
   "cell_type": "code",
   "execution_count": 8,
   "metadata": {},
   "outputs": [
    {
     "name": "stdout",
     "output_type": "stream",
     "text": [
      "\u001b[32m[UpdateApp | INFO]\u001b[m Updating metadata for notebook: ./source/Deeltentamen1/Deeltentamen1.ipynb\n",
      "\u001b[32m[AssignApp | INFO]\u001b[m Updating/creating assignment 'Deeltentamen1': {}\n",
      "\u001b[32m[AssignApp | INFO]\u001b[m Converting notebook /Users/Jesse/Dropbox/Notebook-exams/nbgrader-template/source/./Deeltentamen1/Deeltentamen1.ipynb\n",
      "\u001b[32m[AssignApp | INFO]\u001b[m Writing 7688 bytes to /Users/Jesse/Dropbox/Notebook-exams/nbgrader-template/release/./Deeltentamen1/Deeltentamen1.ipynb\n",
      "\u001b[32m[AssignApp | INFO]\u001b[m Setting destination file permissions to 644\n"
     ]
    },
    {
     "data": {
      "text/markdown": [
       "---\n",
       "De studentversie bevindt zich in **release/Deeltentamen1/Deeltentamen1.ipynb**  \n",
       "<a class=\"btn btn-primary\" style=\"margin-top: 10px; text-decoration: none;\" href=\"/notebooks/release/Deeltentamen1/Deeltentamen1.ipynb\" target=\"_blank\">Open notebook</a>"
      ],
      "text/plain": [
       "<IPython.core.display.Markdown object>"
      ]
     },
     "metadata": {},
     "output_type": "display_data"
    }
   ],
   "source": [
    "shutil.rmtree('release', ignore_errors=True)\n",
    "\n",
    "!nbgrader update ./source/\n",
    "\n",
    "!nbgrader assign {assignment_id} --create\n",
    "\n",
    "student_nb = glob('release/%s/*.ipynb' % assignment_id)[0]\n",
    "student_nb_filename = os.path.basename(student_nb)\n",
    "student_nb_name = os.path.splitext(student_nb_filename)[0]\n",
    "\n",
    "display(Markdown('---\\nDe studentversie bevindt zich in **%s**  \\n<a class=\"btn btn-primary\" style=\"margin-top: 10px; text-decoration: none;\" href=\"/notebooks/%s\" target=\"_blank\">Open notebook</a>' % (student_nb, student_nb)))"
   ]
  },
  {
   "cell_type": "markdown",
   "metadata": {},
   "source": [
    "## 5. Verzamel inzendingen"
   ]
  },
  {
   "cell_type": "markdown",
   "metadata": {},
   "source": [
    "Oude versie, voor als de nbgrader zip collect niet werkt:"
   ]
  },
  {
   "cell_type": "code",
   "execution_count": 30,
   "metadata": {},
   "outputs": [],
   "source": [
    "'''\n",
    "submissions_zip = 'submissions.zip'\n",
    "\n",
    "shutil.rmtree('original-submissions', ignore_errors=True)\n",
    "!unzip -j {submissions_zip} -d \"original-submissions\"\n",
    "\n",
    "nbs_copied = 0\n",
    "\n",
    "for f in glob('original-submissions/*.ipynb'):\n",
    "    nb = os.path.basename(f)\n",
    "    \n",
    "    ids = re.findall(r'(\\d{7,8})\\.ipynb', nb)\n",
    "    if len(ids):\n",
    "        student_id = ids[0]\n",
    "        \n",
    "        os.makedirs('submitted/%s/%s' % (student_id, assignment_id), exist_ok=True)\n",
    "        shutil.copyfile(f, 'submitted/%s/%s/%s' % (student_id, assignment_id, student_nb_filename))\n",
    "        \n",
    "        nbs_copied += 1\n",
    "\n",
    "display(Markdown('---\\n%d notebook(s) gevonden en gekopiëerd  \\n<a class=\"btn btn-primary\" style=\"margin-top: 10px; text-decoration: none;\" href=\"/tree/submitted\" target=\"_blank\">Open inzendingen-map</a>' % nbs_copied))\n",
    "''';"
   ]
  },
  {
   "cell_type": "code",
   "execution_count": null,
   "metadata": {},
   "outputs": [],
   "source": [
    "def clean_up_submissionszip(submission_zip=submissions_zip, \n",
    "                            assignment_id=assignment_id,\n",
    "                            all_but_filename_regex= r'.* \\d{7,8}_\\d+_',\n",
    "                            folder='effe'):\n",
    "    '''This function cleans submissions.zip\n",
    " It removes files without a valid student id\n",
    " It renames all files to the original filename (assignment_id.ipynb)\n",
    "    '''\n",
    "    all_but_filename_regex= r'.* \\d{7,8}_\\d+_'\n",
    "\n",
    "\n",
    "    !unzip -q $submissions_zip -d $folder\n",
    "    !rm $submissions_zip\n",
    "    for filename in os.listdir(folder):\n",
    "        if re.search(all_but_filename_regex,filename):\n",
    "            prefix= re.findall(all_but_filename_regex,filename)[0]\n",
    "            os.rename(os.path.join(folder,filename), os.path.join(folder,prefix+assignment_id+'.ipynb') )\n",
    "        else:\n",
    "            os.remove(os.path.join(folder,filename))\n",
    "\n",
    "    %cd $folder\n",
    "    !zip -q ../$submissions_zip *\n",
    "    %cd ..\n",
    "    !rm -r $folder\n",
    "    print('Cleaned %s by removing filenames without valid student id, and renaming all files to %s'%(submissions_zip,assignment_id))\n",
    "    return True"
   ]
  },
  {
   "cell_type": "code",
   "execution_count": 31,
   "metadata": {},
   "outputs": [
    {
     "name": "stdout",
     "output_type": "stream",
     "text": [
      "\u001b[32m[ZipCollectApp | INFO]\u001b[m Using file extractor: ExtractorPlugin\r\n",
      "\u001b[32m[ZipCollectApp | INFO]\u001b[m Using file collector: FileNameCollectorPlugin\r\n",
      "\u001b[33m[ZipCollectApp | WARNING]\u001b[m Clearing existing files in /Users/Jesse/Dropbox/Notebook-exams/nbgrader-template/downloaded/Deeltentamen1/extracted\r\n",
      "\u001b[32m[ZipCollectApp | INFO]\u001b[m Extracting from: /Users/Jesse/Dropbox/Notebook-exams/nbgrader-template/downloaded/Deeltentamen1/archive/submissions.zip\r\n",
      "\u001b[32m[ZipCollectApp | INFO]\u001b[m   Extracting to: /Users/Jesse/Dropbox/Notebook-exams/nbgrader-template/downloaded/Deeltentamen1/extracted/submissions\r\n",
      "\u001b[32m[ZipCollectApp | INFO]\u001b[m Start collecting files...\r\n",
      "\u001b[32m[ZipCollectApp | INFO]\u001b[m Parsing file: /Users/Jesse/Dropbox/Notebook-exams/nbgrader-template/downloaded/Deeltentamen1/extracted/submissions/__MACOSX/._submissions\r\n",
      "\u001b[33m[ZipCollectApp | WARNING]\u001b[m Skipped submission with no match information provided: /Users/Jesse/Dropbox/Notebook-exams/nbgrader-template/downloaded/Deeltentamen1/extracted/submissions/__MACOSX/._submissions\r\n",
      "\u001b[32m[ZipCollectApp | INFO]\u001b[m Parsing file: /Users/Jesse/Dropbox/Notebook-exams/nbgrader-template/downloaded/Deeltentamen1/extracted/submissions/__MACOSX/submissions/._Deeltentamen1_10735291.ipynb\r\n",
      "\u001b[33m[ZipCollectApp | WARNING]\u001b[m Regular expression '.*\\s(?P<student_id>\\d{7,8}).*?(?P<file_id>[^\\d_]\\w+\\.ipynb)' did not match anything in: /Users/Jesse/Dropbox/Notebook-exams/nbgrader-template/downloaded/Deeltentamen1/extracted/submissions/__MACOSX/submissions/._Deeltentamen1_10735291.ipynb\r\n",
      "\u001b[33m[ZipCollectApp | WARNING]\u001b[m Skipped submission with no match information provided: /Users/Jesse/Dropbox/Notebook-exams/nbgrader-template/downloaded/Deeltentamen1/extracted/submissions/__MACOSX/submissions/._Deeltentamen1_10735291.ipynb\r\n",
      "\u001b[32m[ZipCollectApp | INFO]\u001b[m Parsing file: /Users/Jesse/Dropbox/Notebook-exams/nbgrader-template/downloaded/Deeltentamen1/extracted/submissions/submissions/Deeltentamen1_10735291.ipynb\r\n",
      "\u001b[33m[ZipCollectApp | WARNING]\u001b[m Regular expression '.*\\s(?P<student_id>\\d{7,8}).*?(?P<file_id>[^\\d_]\\w+\\.ipynb)' did not match anything in: /Users/Jesse/Dropbox/Notebook-exams/nbgrader-template/downloaded/Deeltentamen1/extracted/submissions/submissions/Deeltentamen1_10735291.ipynb\r\n",
      "\u001b[33m[ZipCollectApp | WARNING]\u001b[m Skipped submission with no match information provided: /Users/Jesse/Dropbox/Notebook-exams/nbgrader-template/downloaded/Deeltentamen1/extracted/submissions/submissions/Deeltentamen1_10735291.ipynb\r\n",
      "\u001b[33m[ZipCollectApp | WARNING]\u001b[m 0 files collected, 3 files skipped\r\n"
     ]
    },
    {
     "data": {
      "text/markdown": [
       "<a class=\"btn btn-primary\" style=\"margin-top: 10px; text-decoration: none;\" href=\"/tree/submitted\" target=\"_blank\">Open inzendingen-map</a>"
      ],
      "text/plain": [
       "<IPython.core.display.Markdown object>"
      ]
     },
     "metadata": {},
     "output_type": "display_data"
    }
   ],
   "source": [
    "# naam van de zip file  met de submissies (uit bijvoorbeeld testvision of Blackboard/canvas)\n",
    "# Let op, de zip file mag geen folders bevatten\n",
    "submissions_zip = 'submissions.zip'\n",
    "\n",
    "# clean up submissions zip file\n",
    "clean_up_submissionszip()\n",
    "\n",
    "\n",
    "# maak de benodigde folders\n",
    "makedirs('downloaded/%s/archive', exist_ok=True)\n",
    "copyfile(submissions_zip, 'downloaded/%s/archive/' % assignment_id)\n",
    "\n",
    "# Voorbeeld filenaam uit testvision: \n",
    "#  001_73352_Witting, B, 11003952_182493_DS_Deeltentamen1_2018.ipynb\n",
    "# This regex yields:  ('11003952', 'DS_Deeltentamen1_2018.ipynb')\n",
    "\n",
    "### Let op: het deel dat matched met de <file_id> groep moet gelijk zijn aan {assignment_id}.ipynb\n",
    "# Regex voor TestVision\n",
    "regex = \".*\\s(?P<student_id>\\d{7,8}).*?(?P<file_id>[^\\d_]\\w+\\.ipynb)\"\n",
    "\n",
    "#regex = r'(?P<file_id>[^\\d_]\\w+)_(?P<student_id>\\d{7,8})\\.ipynb'\n",
    "\n",
    "!nbgrader zip_collect {assignment_id} --force --FileNameCollectorPlugin.named_regexp=\"$regex\"\n",
    "\n",
    "display(Markdown('<a class=\"btn btn-primary\" style=\"margin-top: 10px; text-decoration: none;\" href=\"/tree/submitted\" target=\"_blank\">Open inzendingen-map</a>'))"
   ]
  },
  {
   "cell_type": "markdown",
   "metadata": {},
   "source": [
    "## 6. Autograden"
   ]
  },
  {
   "cell_type": "code",
   "execution_count": 35,
   "metadata": {},
   "outputs": [
    {
     "name": "stdout",
     "output_type": "stream",
     "text": [
      "\u001b[31m[AutogradeApp | ERROR]\u001b[m No notebooks were matched by '/Users/Jesse/Dropbox/Notebook-exams/nbgrader-template/submitted/*/Deeltentamen1'\r\n"
     ]
    },
    {
     "data": {
      "text/markdown": [
       "---\n",
       "<a class=\"btn btn-primary\" style=\"margin-top: 10px; text-decoration: none;\" href=\"/formgrader/gradebook/Deeltentamen1/Deeltentamen1\" target=\"_blank\">Open manual grading</a>  \n",
       "\n",
       "_Als het klikken op een inzending een 404-error geeft kan het helpen om heel Jupyter Notebook opnieuw op te starten._"
      ],
      "text/plain": [
       "<IPython.core.display.Markdown object>"
      ]
     },
     "metadata": {},
     "output_type": "display_data"
    }
   ],
   "source": [
    "!nbgrader autograde {assignment_id} --create\n",
    "\n",
    "display(Markdown('---\\n<a class=\"btn btn-primary\" style=\"margin-top: 10px; text-decoration: none;\" href=\"/formgrader/gradebook/%s/%s\" target=\"_blank\">Open manual grading</a>  \\n\\n_Als het klikken op een inzending een 404-error geeft kan het helpen om heel Jupyter Notebook opnieuw op te starten._' % (assignment_id, student_nb_name)))"
   ]
  },
  {
   "cell_type": "markdown",
   "metadata": {},
   "source": [
    "## 7. students-answers.csv genereren"
   ]
  },
  {
   "cell_type": "code",
   "execution_count": 21,
   "metadata": {},
   "outputs": [
    {
     "data": {
      "text/html": [
       "<div>\n",
       "<style>\n",
       "    .dataframe thead tr:only-child th {\n",
       "        text-align: right;\n",
       "    }\n",
       "\n",
       "    .dataframe thead th {\n",
       "        text-align: left;\n",
       "    }\n",
       "\n",
       "    .dataframe tbody tr th {\n",
       "        vertical-align: top;\n",
       "    }\n",
       "</style>\n",
       "<table border=\"1\" class=\"dataframe\">\n",
       "  <thead>\n",
       "    <tr style=\"text-align: right;\">\n",
       "      <th></th>\n",
       "      <th></th>\n",
       "      <th>max_score</th>\n",
       "      <th>needs_grading</th>\n",
       "      <th>auto_score</th>\n",
       "      <th>manual_score</th>\n",
       "      <th>extra_credit</th>\n",
       "      <th>final_score</th>\n",
       "    </tr>\n",
       "    <tr>\n",
       "      <th>student_id</th>\n",
       "      <th>question_name</th>\n",
       "      <th></th>\n",
       "      <th></th>\n",
       "      <th></th>\n",
       "      <th></th>\n",
       "      <th></th>\n",
       "      <th></th>\n",
       "    </tr>\n",
       "  </thead>\n",
       "  <tbody>\n",
       "    <tr>\n",
       "      <th rowspan=\"5\" valign=\"top\">1234567</th>\n",
       "      <th>vraag-2</th>\n",
       "      <td>2.0</td>\n",
       "      <td>1</td>\n",
       "      <td>NaN</td>\n",
       "      <td>None</td>\n",
       "      <td>None</td>\n",
       "      <td>NaN</td>\n",
       "    </tr>\n",
       "    <tr>\n",
       "      <th>vraag-3</th>\n",
       "      <td>1.0</td>\n",
       "      <td>1</td>\n",
       "      <td>NaN</td>\n",
       "      <td>None</td>\n",
       "      <td>None</td>\n",
       "      <td>NaN</td>\n",
       "    </tr>\n",
       "    <tr>\n",
       "      <th>vraag-1-a-test</th>\n",
       "      <td>1.0</td>\n",
       "      <td>0</td>\n",
       "      <td>0.0</td>\n",
       "      <td>None</td>\n",
       "      <td>None</td>\n",
       "      <td>0</td>\n",
       "    </tr>\n",
       "    <tr>\n",
       "      <th>vraag-1-test</th>\n",
       "      <td>1.0</td>\n",
       "      <td>0</td>\n",
       "      <td>0.0</td>\n",
       "      <td>None</td>\n",
       "      <td>None</td>\n",
       "      <td>0</td>\n",
       "    </tr>\n",
       "    <tr>\n",
       "      <th>vraag_2a-test</th>\n",
       "      <td>1.0</td>\n",
       "      <td>0</td>\n",
       "      <td>0.0</td>\n",
       "      <td>None</td>\n",
       "      <td>None</td>\n",
       "      <td>0</td>\n",
       "    </tr>\n",
       "  </tbody>\n",
       "</table>\n",
       "</div>"
      ],
      "text/plain": [
       "                           max_score  needs_grading  auto_score manual_score  \\\n",
       "student_id question_name                                                       \n",
       "1234567    vraag-2               2.0              1         NaN         None   \n",
       "           vraag-3               1.0              1         NaN         None   \n",
       "           vraag-1-a-test        1.0              0         0.0         None   \n",
       "           vraag-1-test          1.0              0         0.0         None   \n",
       "           vraag_2a-test         1.0              0         0.0         None   \n",
       "\n",
       "                          extra_credit final_score  \n",
       "student_id question_name                            \n",
       "1234567    vraag-2                None         NaN  \n",
       "           vraag-3                None         NaN  \n",
       "           vraag-1-a-test         None           0  \n",
       "           vraag-1-test           None           0  \n",
       "           vraag_2a-test          None           0  "
      ]
     },
     "execution_count": 21,
     "metadata": {},
     "output_type": "execute_result"
    }
   ],
   "source": [
    "import numpy as np\n",
    "\n",
    "q_oud = '''\n",
    "    SELECT\n",
    "        submitted_assignment.student_id,\n",
    "        grade_cell.name AS question_name,\n",
    "        grade_cell.max_score,\n",
    "        grade.needs_manual_grade AS needs_grading,\n",
    "        grade.auto_score,\n",
    "        grade.manual_score,\n",
    "        grade.extra_credit,\n",
    "        comment.auto_comment,\n",
    "        comment.manual_comment\n",
    "    FROM grade\n",
    "        INNER JOIN submitted_notebook ON submitted_notebook.id = grade.notebook_id\n",
    "        INNER JOIN submitted_assignment ON submitted_assignment.id = submitted_notebook.assignment_id\n",
    "        INNER JOIN grade_cell ON grade_cell.id = grade.cell_id\n",
    "        INNER JOIN solution_cell ON solution_cell.name = grade_cell.name AND solution_cell.notebook_id = grade_cell.notebook_id\n",
    "        LEFT JOIN comment ON comment.notebook_id = grade.notebook_id AND comment.cell_id = solution_cell.id\n",
    "'''\n",
    "\n",
    "q = '''\n",
    "    SELECT\n",
    "        submitted_assignment.student_id,\n",
    "        grade_cell.name AS question_name,\n",
    "        grade_cell.max_score,\n",
    "        grade.needs_manual_grade AS needs_grading,\n",
    "        grade.auto_score,\n",
    "        grade.manual_score,\n",
    "        grade.extra_credit,\n",
    "        assignment.name AS assignment\n",
    "    FROM grade\n",
    "        INNER JOIN submitted_notebook ON submitted_notebook.id = grade.notebook_id\n",
    "        INNER JOIN submitted_assignment ON submitted_assignment.id = submitted_notebook.assignment_id\n",
    "        INNER JOIN grade_cell ON grade_cell.id = grade.cell_id\n",
    "        INNER JOIN assignment ON submitted_assignment.assignment_id = assignment.id\n",
    "'''\n",
    "\n",
    "\n",
    "\n",
    "\n",
    "\n",
    "df = pd.read_sql_query(q, 'sqlite:///gradebook.db')\n",
    "df = df.set_index([ 'student_id', 'assignment', 'question_name'])\n",
    "df['final_score'] = np.where(~pd.isnull(df['manual_score']), df['manual_score'], df['auto_score']) + df['extra_credit'].fillna(0)\n",
    "\n",
    "df.to_csv('student-results.csv')\n",
    "df.head()"
   ]
  },
  {
   "cell_type": "markdown",
   "metadata": {},
   "source": [
    "## 8. Analyseren"
   ]
  },
  {
   "cell_type": "code",
   "execution_count": 22,
   "metadata": {},
   "outputs": [
    {
     "data": {
      "text/plain": [
       "student_id\n",
       "1234567    0.0\n",
       "dtype: float64"
      ]
     },
     "execution_count": 22,
     "metadata": {},
     "output_type": "execute_result"
    }
   ],
   "source": [
    "per_student = df.groupby('student_id')\n",
    "grades = per_student['final_score'].sum() / per_student['max_score'].sum() * 10\n",
    "\n",
    "grades"
   ]
  },
  {
   "cell_type": "code",
   "execution_count": null,
   "metadata": {},
   "outputs": [],
   "source": []
  }
 ],
 "metadata": {
  "kernelspec": {
   "display_name": "Python 3",
   "language": "python",
   "name": "python3"
  },
  "language_info": {
   "codemirror_mode": {
    "name": "ipython",
    "version": 3
   },
   "file_extension": ".py",
   "mimetype": "text/x-python",
   "name": "python",
   "nbconvert_exporter": "python",
   "pygments_lexer": "ipython3",
   "version": "3.6.3"
  }
 },
 "nbformat": 4,
 "nbformat_minor": 2
}
