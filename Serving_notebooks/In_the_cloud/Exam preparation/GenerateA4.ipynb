{
 "cells": [
  {
   "cell_type": "markdown",
   "metadata": {},
   "source": [
    "# Genereer A4's om uit te delen"
   ]
  },
  {
   "cell_type": "code",
   "execution_count": 1,
   "metadata": {
    "collapsed": true
   },
   "outputs": [],
   "source": [
    "students_file = 'students.xlsx'\n",
    "password_secret = 'cb8116ae8acd84126cb3316ff201fc755993e026b74df8849e05456513d52378'"
   ]
  },
  {
   "cell_type": "code",
   "execution_count": 2,
   "metadata": {
    "collapsed": true
   },
   "outputs": [],
   "source": [
    "md = '''# <h1 style=\"margin-bottom: 4px;\">%s</h1>\n",
    "<h2 class=\"normal muted\">Notebook examen</h2>\n",
    "\n",
    "## <span class=\"normal\">Je gebruikersnaam:</span> %s\n",
    "## <span class=\"normal\">Je wachtwoord:</span> %s\n",
    "\n",
    "### Introductie\n",
    "\n",
    "We willen de volgende toets gaan uitvoeren op een Jupyter Notebook, net als jullie steeds in het huiswerk doen.\n",
    "Dit is nog nooit gebeurd aan de UvA. Vandaar dat we nu graag met jullie testen of het werkt.\n",
    "Ga naar **<http://notebookexam.com>**, log in met je uvanetid en het wachtwoord hierboven en druk op \"start tentamen\".\n",
    "\n",
    "Een notebook omgeving opent op een computer die alleen door jou gebruikt wordt. Je kunt hier alles doen wat je gewend bent. \n",
    "Ga naar de map \"Bonus 21 november\", open het notebook \"Tentamen.ipynb\" en maak de vragen.  \n",
    "\n",
    "Je notebook wordt bewaard onder jouw naam, en je krijgt een bonus als je  de vragen goed hebt. In een kwartiertje ben je klaar.\n",
    "\n",
    "### Afsluiten en inleveren\n",
    "\n",
    "Doorloop de volgende stappen:\n",
    "\n",
    "1. Herstart je kernel.\n",
    "2. Run all cells\n",
    "3. Kijk of alles er nog zo mooi uit zag als daarvoor\n",
    "\t* Repareer eventueel een foutje\n",
    "4. Bewaar je notebook\n",
    "5. Lever je notebook in door op **Beëindig tentamen** te drukken.\n",
    "\n",
    "<hr>\n",
    "\n",
    "Veel succes en bedankt voor het meedoen.'''"
   ]
  },
  {
   "cell_type": "code",
   "execution_count": 3,
   "metadata": {
    "collapsed": false
   },
   "outputs": [],
   "source": [
    "from md2pdf.core import md2pdf\n",
    "from hashauthenticator import generate_password_digest\n",
    "import pandas as pd\n",
    "\n",
    "def generate_password(username):\n",
    "    return generate_password_digest(username, password_secret)[:6]"
   ]
  },
  {
   "cell_type": "markdown",
   "metadata": {},
   "source": [
    "### Maak lijst van gebruikers en wachtwoorden"
   ]
  },
  {
   "cell_type": "code",
   "execution_count": 4,
   "metadata": {
    "collapsed": false
   },
   "outputs": [],
   "source": [
    "students = pd.read_excel(students_file)\n",
    "students['UvAnetID'] = students['UvAnetID'].apply(str)\n",
    "\n",
    "def student_name(student):\n",
    "    if len(student['MiddleName'].strip()):\n",
    "        return student['FirstName'].strip() +' '+ student['MiddleName'].strip() +' '+ student['LastName'].strip()\n",
    "    else:\n",
    "        return student['FirstName'].strip() +' '+ student['LastName'].strip()\n",
    "\n",
    "users = [ (student_name(student), \\\n",
    "           student['UvAnetID'], \\\n",
    "           generate_password(student['UvAnetID'])) for index, student in students.iterrows() ]"
   ]
  },
  {
   "cell_type": "markdown",
   "metadata": {},
   "source": [
    "### Genereer PDF's op basis van Markdown en voeg samen"
   ]
  },
  {
   "cell_type": "code",
   "execution_count": null,
   "metadata": {
    "collapsed": false
   },
   "outputs": [],
   "source": [
    "!mkdir student-sheets\n",
    "\n",
    "from PyPDF2 import PdfFileMerger\n",
    "merger = PdfFileMerger()\n",
    "\n",
    "users = sorted(users, key=lambda user: user[0])  # dit sorteert op voornaam in deze setup\n",
    "\n",
    "for i, user in enumerate(users):\n",
    "    md2pdf('student-sheets/%s.pdf' % user[1], md_content=(md) % user, css_file_path='md-style.css')\n",
    "    \n",
    "    merger.append(open('student-sheets/%s.pdf' % user[1], 'rb'))\n",
    "        \n",
    "with open('all-students.pdf', 'wb') as f:\n",
    "    merger.write(f)"
   ]
  },
  {
   "cell_type": "code",
   "execution_count": null,
   "metadata": {
    "collapsed": true
   },
   "outputs": [],
   "source": []
  }
 ],
 "metadata": {
  "kernelspec": {
   "display_name": "Python 3",
   "language": "python",
   "name": "python3"
  },
  "language_info": {
   "codemirror_mode": {
    "name": "ipython",
    "version": 3
   },
   "file_extension": ".py",
   "mimetype": "text/x-python",
   "name": "python",
   "nbconvert_exporter": "python",
   "pygments_lexer": "ipython3",
   "version": "3.6.3"
  }
 },
 "nbformat": 4,
 "nbformat_minor": 2
}
