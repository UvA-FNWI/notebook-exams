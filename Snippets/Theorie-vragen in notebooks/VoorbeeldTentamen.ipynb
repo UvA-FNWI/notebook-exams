{
 "cells": [
  {
   "cell_type": "code",
   "execution_count": 1,
   "metadata": {
    "collapsed": false
   },
   "outputs": [
    {
     "data": {
      "text/html": [
       "<style>\n",
       "h4 {\n",
       "    margin-top: 20px;\n",
       "}\n",
       "\n",
       ".widget-area .prompt .close {\n",
       "    display: none !important;\n",
       "}\n",
       "</style>\n",
       "\n",
       "<script>\n",
       "var hideCode = function() {\n",
       "    $('.input').each(function() {\n",
       "        if($(this).next().length) {\n",
       "            var widget = $($(this).next()[0])\n",
       "\n",
       "            if(widget.hasClass('widget-area') && widget.is(':visible')) {\n",
       "                $(this).hide()\n",
       "            }\n",
       "        }\n",
       "    })\n",
       "}\n",
       "\n",
       "//hideCode()\n",
       "\n",
       "setInterval(hideCode, 100)\n",
       "\n",
       "var q_indexes = []\n",
       "$('.input_area').each(function(i, area) {\n",
       "    area = $(area)\n",
       "\n",
       "    if(area.text().indexOf('questions.ask') > -1) {\n",
       "        var index = $('.cell').index(area.parents('.cell'))\n",
       "\n",
       "        if(index != -1) {\n",
       "            q_indexes.push(index)\n",
       "        }\n",
       "    }\n",
       "})\n",
       "\n",
       "IPython.notebook.execute_cells(q_indexes)\n",
       "hideCode()\n",
       "</script>"
      ],
      "text/plain": [
       "<IPython.core.display.HTML object>"
      ]
     },
     "metadata": {},
     "output_type": "display_data"
    }
   ],
   "source": [
    "import questions"
   ]
  },
  {
   "cell_type": "markdown",
   "metadata": {},
   "source": [
    "### Hoeveel is 2 plus 2 punt 5?\n",
    "\n",
    "Lorem ipsum dolor sit amet, consectetur adipiscing elit. Donec non mollis orci. Nullam luctus mattis pellentesque. Suspendisse id nibh nisl. Sed dictum orci felis, vel condimentum justo mattis ac. Proin et odio id tellus fringilla pellentesque sit amet ac dolor. Proin molestie elit lacinia euismod congue. Fusce sagittis quam sit amet ante ullamcorper, et malesuada velit facilisis. Aliquam blandit a ante suscipit mollis. Quisque dolor sapien, dignissim a semper fermentum, luctus eu orci.  \n",
    "\n"
   ]
  },
  {
   "cell_type": "code",
   "execution_count": 2,
   "metadata": {
    "collapsed": false
   },
   "outputs": [],
   "source": [
    "questions.ask(\"2plus2punt5\")"
   ]
  },
  {
   "cell_type": "markdown",
   "metadata": {},
   "source": [
    "\n",
    "Proin molestie elit lacinia euismod congue. Fusce sagittis quam sit amet ante ullamcorper, et malesuada velit facilisis."
   ]
  },
  {
   "cell_type": "markdown",
   "metadata": {},
   "source": [
    "#### Nog een vraag\n",
    "\n",
    "Sed venenatis pharetra erat, at finibus purus imperdiet nec.  \n",
    "Sed laoreet ex dui, id feugiat ante iaculis at?"
   ]
  },
  {
   "cell_type": "code",
   "execution_count": 3,
   "metadata": {
    "collapsed": false
   },
   "outputs": [],
   "source": [
    "questions.ask(\"wezel\")"
   ]
  },
  {
   "cell_type": "markdown",
   "metadata": {},
   "source": [
    "## Programmeer nu dit en dat\n",
    "\n"
   ]
  },
  {
   "cell_type": "code",
   "execution_count": 4,
   "metadata": {
    "collapsed": false
   },
   "outputs": [],
   "source": [
    "questions.ask(\"code1\")"
   ]
  },
  {
   "cell_type": "code",
   "execution_count": null,
   "metadata": {
    "collapsed": true
   },
   "outputs": [],
   "source": [
    "# jouw code"
   ]
  },
  {
   "cell_type": "code",
   "execution_count": null,
   "metadata": {
    "collapsed": true
   },
   "outputs": [],
   "source": []
  }
 ],
 "metadata": {
  "kernelspec": {
   "display_name": "Python 2",
   "language": "python",
   "name": "python2"
  },
  "language_info": {
   "codemirror_mode": {
    "name": "ipython",
    "version": 2
   },
   "file_extension": ".py",
   "mimetype": "text/x-python",
   "name": "python",
   "nbconvert_exporter": "python",
   "pygments_lexer": "ipython2",
   "version": "2.7.9"
  },
  "widgets": {
   "state": {
    "a3a4227307c649158ccf87a6753749ea": {
     "views": [
      {
       "cell_index": 7
      }
     ]
    },
    "e38e3c3a2ed5420a8bc062602b40f241": {
     "views": [
      {
       "cell_index": 5
      }
     ]
    },
    "eea263d6ac474308b385f90b2cd6629a": {
     "views": [
      {
       "cell_index": 2
      }
     ]
    }
   },
   "version": "1.2.0"
  }
 },
 "nbformat": 4,
 "nbformat_minor": 2
}
