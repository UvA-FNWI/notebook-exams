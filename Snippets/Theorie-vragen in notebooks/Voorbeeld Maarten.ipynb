{
 "cells": [
  {
   "cell_type": "markdown",
   "metadata": {},
   "source": [
    "# Uitprobeersels voor notebook exams\n",
    "\n",
    "* We willen kijken hoe we een \"gewoon\" (testvision-achtig) examen kunnen inrichten in een notebook.\n",
    "* Een **toepassing** zou kunnen zijn om een gewoon tentamen te combineren met een programmeerdeel.\n",
    "    * Of om ook een deel automatisch te kunne nakijken.\n",
    "    \n",
    "#### Ipywidgets\n",
    "\n",
    "1. Lijkt handig, want een \"bekende interface\", met allerlei invulmogelijkheden. \n",
    "    * Heel handig is het globale array waar je antwoorden in kunt opslaan.\n",
    "2. Nog niet zo duidelijk hoe je hier nu een handig systeem van kunt maken. \n",
    "3. Je zou denk ik het liefst een csv met `markdown vraag tekst; antwoord widget, juiste antwoord` of zo willen hebben en daaruit het tentamen genereren. \n",
    "\n",
    "\n",
    "#### Heel simpel alternatief\n",
    "\n",
    "1. Bedenk een heel simpel alternatief voor mensen die snappen wat een python dict is, en dus hun anqtoorden direct in dat Python dict weergeven. \n",
    "2. Dat moet toch kunnen?\n",
    "3. Je kan daarnaast dan iedereen per anwtoord een \"confidence\" laten invullen.\n",
    "    * Daarmee kan je het \"zelfinzicht\" vand e studenten bepalen. \n",
    "    * Best inzichtelijk hoor!"
   ]
  },
  {
   "cell_type": "code",
   "execution_count": 17,
   "metadata": {
    "collapsed": true
   },
   "outputs": [],
   "source": [
    "# http://ipywidgets.readthedocs.io/en/stable/examples/Using%20Interact.html\n",
    "\n",
    "from __future__ import print_function\n",
    "from ipywidgets import interact, interactive, fixed, interact_manual\n",
    "import ipywidgets as widgets\n",
    "from IPython.display import display\n",
    "import pandas as pd"
   ]
  },
  {
   "cell_type": "code",
   "execution_count": 2,
   "metadata": {
    "collapsed": false
   },
   "outputs": [],
   "source": [
    "\n",
    "def f(a,b):\n",
    "    return \"you choose %s for a\" % a\n",
    "\n",
    "w = interactive(f, a=10, b=20)"
   ]
  },
  {
   "cell_type": "code",
   "execution_count": 3,
   "metadata": {
    "collapsed": false
   },
   "outputs": [
    {
     "data": {
      "text/plain": [
       "'you choose 10 for a'"
      ]
     },
     "metadata": {},
     "output_type": "display_data"
    }
   ],
   "source": [
    "w"
   ]
  },
  {
   "cell_type": "code",
   "execution_count": 4,
   "metadata": {
    "collapsed": false
   },
   "outputs": [
    {
     "data": {
      "text/plain": [
       "{'a': 10, 'b': 20}"
      ]
     },
     "execution_count": 4,
     "metadata": {},
     "output_type": "execute_result"
    }
   ],
   "source": [
    "w.kwargs"
   ]
  },
  {
   "cell_type": "code",
   "execution_count": 5,
   "metadata": {
    "collapsed": false
   },
   "outputs": [],
   "source": [
    "Allanswers={}\n",
    "\n",
    "\n",
    "def Q1(q1):\n",
    "    Q= \"A zebra is a ...\"\n",
    "    print(\"Question:\",Q)\n",
    "    Allanswers['q1']=q1\n",
    "    return \"My Answer: %s\" % q1\n",
    "\n",
    "q1= interactive(Q1, q1=['mammal', 'fish', 'invertebrate'])\n",
    "\n",
    "def Q2(q2):\n",
    "    Q= '''When P=.5 and R=.2, the F1 value is equal to...'''\n",
    "    print(\"Question:\",Q)\n",
    "    Allanswers['q2']=q2\n",
    "    return \"My Answer: %s\" % q2\n",
    "\n",
    "q2=interactive(Q2,q2=(0.0,1,0.05))"
   ]
  },
  {
   "cell_type": "code",
   "execution_count": 6,
   "metadata": {
    "collapsed": false
   },
   "outputs": [
    {
     "name": "stdout",
     "output_type": "stream",
     "text": [
      "Question: A zebra is a ...\n"
     ]
    },
    {
     "data": {
      "text/plain": [
       "u'My Answer: mammal'"
      ]
     },
     "metadata": {},
     "output_type": "display_data"
    }
   ],
   "source": [
    "q1"
   ]
  },
  {
   "cell_type": "code",
   "execution_count": 7,
   "metadata": {
    "collapsed": false
   },
   "outputs": [
    {
     "data": {
      "text/plain": [
       "({'q1': u'mammal'}, {'q1': u'mammal'})"
      ]
     },
     "execution_count": 7,
     "metadata": {},
     "output_type": "execute_result"
    }
   ],
   "source": [
    "q1.kwargs, Allanswers"
   ]
  },
  {
   "cell_type": "code",
   "execution_count": 8,
   "metadata": {
    "collapsed": false
   },
   "outputs": [
    {
     "name": "stdout",
     "output_type": "stream",
     "text": [
      "Question: A zebra is a ...\n"
     ]
    },
    {
     "data": {
      "text/plain": [
       "u'My Answer: mammal'"
      ]
     },
     "metadata": {},
     "output_type": "display_data"
    }
   ],
   "source": [
    "display(q1)#display(q2)"
   ]
  },
  {
   "cell_type": "code",
   "execution_count": 9,
   "metadata": {
    "collapsed": false
   },
   "outputs": [
    {
     "name": "stdout",
     "output_type": "stream",
     "text": [
      "Question: When P=.5 and R=.2, the F1 value is equal to...\n"
     ]
    },
    {
     "data": {
      "text/plain": [
       "'My Answer: 0.45'"
      ]
     },
     "metadata": {},
     "output_type": "display_data"
    }
   ],
   "source": [
    "q2"
   ]
  },
  {
   "cell_type": "code",
   "execution_count": 10,
   "metadata": {
    "collapsed": false
   },
   "outputs": [
    {
     "data": {
      "text/plain": [
       "{'q1': u'mammal', 'q2': 0.45}"
      ]
     },
     "execution_count": 10,
     "metadata": {},
     "output_type": "execute_result"
    }
   ],
   "source": [
    "Allanswers"
   ]
  },
  {
   "cell_type": "markdown",
   "metadata": {},
   "source": [
    "# Het simpele alternatief\n",
    "\n",
    "## Hou zelf een dict met antwoorden  bij\n",
    "\n",
    "* We houden zelf een Python dict met antwoorden bij. \n",
    "* De sluettels zijn steeds het vraagnummer, het antwoord vul je steeds zelf in.\n",
    "\n",
    "### Genereren uit een csv of zo\n",
    "\n",
    "* Op de wijze van hieronder is dit ook makkelijk uit een csv te genereren. "
   ]
  },
  {
   "cell_type": "code",
   "execution_count": 11,
   "metadata": {
    "collapsed": true
   },
   "outputs": [],
   "source": [
    "antwoorden= {}"
   ]
  },
  {
   "cell_type": "markdown",
   "metadata": {},
   "source": [
    "# Q1\n",
    "\n",
    "* Hoe heeft onze docent van zijn achternaam?"
   ]
  },
  {
   "cell_type": "code",
   "execution_count": 12,
   "metadata": {
    "collapsed": false
   },
   "outputs": [
    {
     "name": "stdout",
     "output_type": "stream",
     "text": [
      "marks of zo\n"
     ]
    }
   ],
   "source": [
    "antwoorden[1]='marks of zo'\n",
    "print(antwoorden[1])"
   ]
  },
  {
   "cell_type": "markdown",
   "metadata": {},
   "source": [
    "# Q2\n",
    "\n",
    "* Wat is het kwadraat van 8?"
   ]
  },
  {
   "cell_type": "code",
   "execution_count": 15,
   "metadata": {
    "collapsed": false
   },
   "outputs": [
    {
     "name": "stdout",
     "output_type": "stream",
     "text": [
      "10\n"
     ]
    }
   ],
   "source": [
    "antwoorden[2]=10\n",
    "print(antwoorden[2])"
   ]
  },
  {
   "cell_type": "markdown",
   "metadata": {},
   "source": [
    "# Zelf reflectie\n",
    "\n",
    "* Hieronder vindt je een overzicht van al je antwoorden. \n",
    "* Gebruik het om ze nog eens goed na te lopen.\n",
    "* Geef daarna voor elk antwoord op een schaal van 1-5 aan hoe zeker je ervan bent dat het correct is."
   ]
  },
  {
   "cell_type": "code",
   "execution_count": 27,
   "metadata": {
    "collapsed": false
   },
   "outputs": [
    {
     "name": "stdout",
     "output_type": "stream",
     "text": [
      "Q:1\tA:marks of zo\n",
      "Q:2\tA:10\n"
     ]
    },
    {
     "data": {
      "text/html": [
       "<div>\n",
       "<style>\n",
       "    .dataframe thead tr:only-child th {\n",
       "        text-align: right;\n",
       "    }\n",
       "\n",
       "    .dataframe thead th {\n",
       "        text-align: left;\n",
       "    }\n",
       "\n",
       "    .dataframe tbody tr th {\n",
       "        vertical-align: top;\n",
       "    }\n",
       "</style>\n",
       "<table border=\"1\" class=\"dataframe\">\n",
       "  <thead>\n",
       "    <tr style=\"text-align: right;\">\n",
       "      <th></th>\n",
       "      <th>Antwoord</th>\n",
       "    </tr>\n",
       "    <tr>\n",
       "      <th>Vraag</th>\n",
       "      <th></th>\n",
       "    </tr>\n",
       "  </thead>\n",
       "  <tbody>\n",
       "    <tr>\n",
       "      <th>1</th>\n",
       "      <td>marks of zo</td>\n",
       "    </tr>\n",
       "    <tr>\n",
       "      <th>2</th>\n",
       "      <td>10</td>\n",
       "    </tr>\n",
       "  </tbody>\n",
       "</table>\n",
       "</div>"
      ],
      "text/plain": [
       "          Antwoord\n",
       "Vraag             \n",
       "1      marks of zo\n",
       "2               10"
      ]
     },
     "execution_count": 27,
     "metadata": {},
     "output_type": "execute_result"
    }
   ],
   "source": [
    "for q in antwoorden:\n",
    "    print(\"Q:%s\\tA:%s\" % (q,antwoorden[q]))\n",
    " \n",
    "# cooler\n",
    "df=pd.DataFrame.from_dict(antwoorden, orient='index')\n",
    "df.index.name='Vraag'\n",
    "df.columns=['Antwoord']\n",
    "df"
   ]
  }
 ],
 "metadata": {
  "anaconda-cloud": {},
  "kernelspec": {
   "display_name": "Python [default]",
   "language": "python",
   "name": "python2"
  },
  "language_info": {
   "codemirror_mode": {
    "name": "ipython",
    "version": 2
   },
   "file_extension": ".py",
   "mimetype": "text/x-python",
   "name": "python",
   "nbconvert_exporter": "python",
   "pygments_lexer": "ipython2",
   "version": "2.7.12"
  }
 },
 "nbformat": 4,
 "nbformat_minor": 2
}
