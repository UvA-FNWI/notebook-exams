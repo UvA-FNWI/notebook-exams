{
 "cells": [
  {
   "cell_type": "markdown",
   "metadata": {},
   "source": [
    "## 1. nbgrader configureren\n",
    "code-stub overschrijven etc."
   ]
  },
  {
   "cell_type": "code",
   "execution_count": 5,
   "metadata": {},
   "outputs": [],
   "source": [
    "import os\n",
    "\n",
    "if os.path.exists('nbgrader_config.py'):\n",
    "    print('Configuratie bestaat al')\n",
    "else:\n",
    "    config = '''\n",
    "ClearSolutions.code_stub = {'python': '# JOUW CODE HIER'}\n",
    "    '''\n",
    "    \n",
    "    with open('nbgrader_config.py', 'w') as f:\n",
    "        f.write(config)"
   ]
  },
  {
   "cell_type": "code",
   "execution_count": null,
   "metadata": {},
   "outputs": [],
   "source": []
  }
 ],
 "metadata": {
  "kernelspec": {
   "display_name": "Python 3",
   "language": "python",
   "name": "python3"
  },
  "language_info": {
   "codemirror_mode": {
    "name": "ipython",
    "version": 3
   },
   "file_extension": ".py",
   "mimetype": "text/x-python",
   "name": "python",
   "nbconvert_exporter": "python",
   "pygments_lexer": "ipython3",
   "version": "3.6.3"
  }
 },
 "nbformat": 4,
 "nbformat_minor": 2
}
