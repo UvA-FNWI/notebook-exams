{
 "cells": [
  {
   "cell_type": "code",
   "execution_count": 2,
   "metadata": {
    "collapsed": true
   },
   "outputs": [],
   "source": [
    "md = '''# Notebook examen _(Naam)_\n",
    "\n",
    "## Je gebruikersnaam: UvAnetID\n",
    "## Je wachtwoord: XXXXXX\n",
    "\n",
    "### Introductie\n",
    "\n",
    "We willen de volgende toets gaan uitvoeren op een Jupyter Notebook, net als jullie steeds in het huiswerk doen.\n",
    "Dit is nog nooit gebeurd aan de UvA. Vandaar dat we nu graag met jullie testen of het werkt.\n",
    "Ga naar **<http://notebookexam.com>**, log in met je uvanetid en het wachtwoord hierboven en druk op \"start tentamen\".\n",
    "\n",
    "Een notebook omgeving opent op een computer die alleen door jou gebruikt wordt. Je kunt hier alles doen wat je gewend bent. \n",
    "Ga naar de map \"Bonus 21 november\", open het notebook \"Tentamen.ipynb\" en maak de vragen.  \n",
    "\n",
    "Je notebook wordt bewaard onder jouw naam, en je krijgt een bonus als je  de vragen goed hebt. In een kwartiertje ben je klaar.\n",
    "\n",
    "### Afsluiten en inleveren\n",
    "\n",
    "Doorloop de volgende stappen:\n",
    "\n",
    "1. Herstart je kernel.\n",
    "2. Run all cells\n",
    "3. Kijk of alles er nog zo mooi uit zag als daarvoor\n",
    "\t* Repareer eventueel een foutje\n",
    "4. Bewaar je notebook\n",
    "5. Lever je notebook in door op **Beëindig tentamen** te drukken.\n",
    "\n",
    "<hr>\n",
    "\n",
    "Veel succes en bedankt voor het meedoen.'''"
   ]
  },
  {
   "cell_type": "code",
   "execution_count": 12,
   "metadata": {
    "collapsed": false
   },
   "outputs": [],
   "source": [
    "from IPython.display import display, Markdown\n",
    "# display(Markdown(md))"
   ]
  },
  {
   "cell_type": "code",
   "execution_count": 17,
   "metadata": {
    "collapsed": false
   },
   "outputs": [
    {
     "ename": "ImportError",
     "evalue": "No module named hashauthenticator",
     "output_type": "error",
     "traceback": [
      "\u001b[0;31m---------------------------------------------------------------------------\u001b[0m",
      "\u001b[0;31mImportError\u001b[0m                               Traceback (most recent call last)",
      "\u001b[0;32m<ipython-input-17-ad1976991120>\u001b[0m in \u001b[0;36m<module>\u001b[0;34m()\u001b[0m\n\u001b[1;32m      1\u001b[0m \u001b[0;32mfrom\u001b[0m \u001b[0mmd2pdf\u001b[0m\u001b[0;34m.\u001b[0m\u001b[0mcore\u001b[0m \u001b[0;32mimport\u001b[0m \u001b[0mmd2pdf\u001b[0m\u001b[0;34m\u001b[0m\u001b[0m\n\u001b[0;32m----> 2\u001b[0;31m \u001b[0;32mfrom\u001b[0m \u001b[0mhashauthenticator\u001b[0m \u001b[0;32mimport\u001b[0m \u001b[0mgenerate_password_digest\u001b[0m\u001b[0;34m\u001b[0m\u001b[0m\n\u001b[0m\u001b[1;32m      3\u001b[0m \u001b[0;34m\u001b[0m\u001b[0m\n\u001b[1;32m      4\u001b[0m \u001b[0mpassword_secret\u001b[0m \u001b[0;34m=\u001b[0m \u001b[0;34m'cb8116ae8acd84126cb3316ff201fc755993e026b74df8849e05456513d52378'\u001b[0m\u001b[0;34m\u001b[0m\u001b[0m\n\u001b[1;32m      5\u001b[0m \u001b[0;34m\u001b[0m\u001b[0m\n",
      "\u001b[0;31mImportError\u001b[0m: No module named hashauthenticator"
     ]
    }
   ],
   "source": [
    "from md2pdf.core import md2pdf\n",
    "from hashauthenticator import generate_password_digest\n",
    "\n",
    "password_secret = 'cb8116ae8acd84126cb3316ff201fc755993e026b74df8849e05456513d52378'\n",
    "\n",
    "generate_password_digest('10735291', password_secret)"
   ]
  },
  {
   "cell_type": "code",
   "execution_count": 11,
   "metadata": {
    "collapsed": false
   },
   "outputs": [],
   "source": [
    "md2pdf('blaadje.pdf', md_content=md)"
   ]
  },
  {
   "cell_type": "code",
   "execution_count": null,
   "metadata": {
    "collapsed": true
   },
   "outputs": [],
   "source": []
  }
 ],
 "metadata": {
  "kernelspec": {
   "display_name": "Python 2",
   "language": "python",
   "name": "python2"
  },
  "language_info": {
   "codemirror_mode": {
    "name": "ipython",
    "version": 2
   },
   "file_extension": ".py",
   "mimetype": "text/x-python",
   "name": "python",
   "nbconvert_exporter": "python",
   "pygments_lexer": "ipython2",
   "version": "2.7.13"
  }
 },
 "nbformat": 4,
 "nbformat_minor": 2
}
