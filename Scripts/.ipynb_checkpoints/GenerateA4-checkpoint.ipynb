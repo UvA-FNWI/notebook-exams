{
 "cells": [
  {
   "cell_type": "code",
   "execution_count": 24,
   "metadata": {
    "collapsed": true
   },
   "outputs": [],
   "source": [
    "md = '''# Notebook examen (%s)\n",
    "\n",
    "## Je gebruikersnaam: %s\n",
    "## Je wachtwoord: %s\n",
    "\n",
    "### Introductie\n",
    "\n",
    "We willen de volgende toets gaan uitvoeren op een Jupyter Notebook, net als jullie steeds in het huiswerk doen.\n",
    "Dit is nog nooit gebeurd aan de UvA. Vandaar dat we nu graag met jullie testen of het werkt.\n",
    "Ga naar **<http://notebookexam.com>**, log in met je uvanetid en het wachtwoord hierboven en druk op \"start tentamen\".\n",
    "\n",
    "Een notebook omgeving opent op een computer die alleen door jou gebruikt wordt. Je kunt hier alles doen wat je gewend bent. \n",
    "Ga naar de map \"Bonus 21 november\", open het notebook \"Tentamen.ipynb\" en maak de vragen.  \n",
    "\n",
    "Je notebook wordt bewaard onder jouw naam, en je krijgt een bonus als je  de vragen goed hebt. In een kwartiertje ben je klaar.\n",
    "\n",
    "### Afsluiten en inleveren\n",
    "\n",
    "Doorloop de volgende stappen:\n",
    "\n",
    "1. Herstart je kernel.\n",
    "2. Run all cells\n",
    "3. Kijk of alles er nog zo mooi uit zag als daarvoor\n",
    "\t* Repareer eventueel een foutje\n",
    "4. Bewaar je notebook\n",
    "5. Lever je notebook in door op **Beëindig tentamen** te drukken.\n",
    "\n",
    "<hr>\n",
    "\n",
    "Veel succes en bedankt voor het meedoen.'''"
   ]
  },
  {
   "cell_type": "code",
   "execution_count": 25,
   "metadata": {
    "collapsed": true
   },
   "outputs": [],
   "source": [
    "from IPython.display import display, Markdown\n",
    "# display(Markdown(md))"
   ]
  },
  {
   "cell_type": "code",
   "execution_count": 26,
   "metadata": {
    "collapsed": false
   },
   "outputs": [],
   "source": [
    "from md2pdf.core import md2pdf\n",
    "from hashauthenticator import generate_password_digest\n",
    "\n",
    "def generate_password(username):\n",
    "    password_secret = 'cb8116ae8acd84126cb3316ff201fc755993e026b74df8849e05456513d52378'\n",
    "    \n",
    "    return generate_password_digest(username, password_secret)[:6]\n",
    "\n",
    "users = [ ('Jesse van der Sar', '10735291', generate_password('10735291')) ]"
   ]
  },
  {
   "cell_type": "code",
   "execution_count": 27,
   "metadata": {
    "collapsed": false
   },
   "outputs": [],
   "source": [
    "for user in users:\n",
    "    md2pdf('blaadje.pdf', md_content=(md) % user, css_file_path='md-style.css')"
   ]
  },
  {
   "cell_type": "code",
   "execution_count": null,
   "metadata": {
    "collapsed": true
   },
   "outputs": [],
   "source": []
  }
 ],
 "metadata": {
  "kernelspec": {
   "display_name": "Python 3",
   "language": "python",
   "name": "python3"
  },
  "language_info": {
   "codemirror_mode": {
    "name": "ipython",
    "version": 3
   },
   "file_extension": ".py",
   "mimetype": "text/x-python",
   "name": "python",
   "nbconvert_exporter": "python",
   "pygments_lexer": "ipython3",
   "version": "3.6.3"
  }
 },
 "nbformat": 4,
 "nbformat_minor": 2
}
