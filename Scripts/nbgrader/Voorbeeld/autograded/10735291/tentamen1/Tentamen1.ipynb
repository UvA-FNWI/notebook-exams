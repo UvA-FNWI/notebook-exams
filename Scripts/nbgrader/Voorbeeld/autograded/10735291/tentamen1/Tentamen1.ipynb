{
 "cells": [
  {
   "cell_type": "code",
   "execution_count": 1,
   "metadata": {
    "deletable": false,
    "editable": false,
    "nbgrader": {
     "checksum": "cdeea99cec88e02a618b45fe0db86353",
     "grade": false,
     "grade_id": "cell-14b8ab3339513934",
     "locked": true,
     "schema_version": 1,
     "solution": false
    }
   },
   "outputs": [],
   "source": [
    "import pandas as pd\n",
    "import numpy as np"
   ]
  },
  {
   "cell_type": "markdown",
   "metadata": {
    "deletable": false,
    "editable": false,
    "nbgrader": {
     "checksum": "8a830233547e3bb0b3ffe484193ac9b1",
     "grade": false,
     "grade_id": "cell-4f5d8b6d749a7178",
     "locked": true,
     "schema_version": 1,
     "solution": false
    }
   },
   "source": [
    "## Welkom bij het tentamen\n",
    "\n",
    "### 1. Schrijf een functie"
   ]
  },
  {
   "cell_type": "code",
   "execution_count": 2,
   "metadata": {
    "deletable": false,
    "nbgrader": {
     "checksum": "4faed7b7545c936f4334ac12b0e3a20c",
     "grade": false,
     "grade_id": "vraag-1",
     "locked": false,
     "schema_version": 1,
     "solution": true
    }
   },
   "outputs": [],
   "source": [
    "# Dit en dat moet je doen\n",
    "\n",
    "def functie(s):\n",
    "    return s * 2"
   ]
  },
  {
   "cell_type": "code",
   "execution_count": 3,
   "metadata": {
    "deletable": false,
    "editable": false,
    "nbgrader": {
     "checksum": "1d1b73ce516a9d7a8e0bad4c4f053e95",
     "grade": true,
     "grade_id": "vraag-1-test",
     "locked": true,
     "points": 1,
     "schema_version": 1,
     "solution": false
    }
   },
   "outputs": [],
   "source": [
    "### BEGIN HIDDEN TESTS\n",
    "from nose.tools import assert_equal\n",
    "\n",
    "assert_equal(functie('test'), 'testtest', 'Functie doet niet wat hij moet doen')\n",
    "### END HIDDEN TESTS"
   ]
  },
  {
   "cell_type": "markdown",
   "metadata": {
    "deletable": false,
    "editable": false,
    "nbgrader": {
     "checksum": "a33484f4e93a59d94b3505cd75ed2eb9",
     "grade": false,
     "grade_id": "cell-a204452ca24bced4",
     "locked": true,
     "schema_version": 1,
     "solution": false
    }
   },
   "source": [
    "## 2. Leg uit ...."
   ]
  },
  {
   "cell_type": "markdown",
   "metadata": {
    "deletable": false,
    "nbgrader": {
     "checksum": "c5eb9fed02464772c17f2c4115fc3634",
     "grade": true,
     "grade_id": "vraag-2",
     "locked": false,
     "points": 3,
     "schema_version": 1,
     "solution": true
    }
   },
   "source": [
    "Bla die bla ...."
   ]
  },
  {
   "cell_type": "markdown",
   "metadata": {
    "deletable": false,
    "editable": false,
    "nbgrader": {
     "checksum": "53576ea5f0e517f7feb3a45f656b94a6",
     "grade": false,
     "grade_id": "cell-d3863c1d6dcb5504",
     "locked": true,
     "schema_version": 1,
     "solution": false
    }
   },
   "source": [
    "## 3. Doe nog iets"
   ]
  },
  {
   "cell_type": "code",
   "execution_count": 4,
   "metadata": {
    "deletable": false,
    "nbgrader": {
     "checksum": "e91cc52ee2b6a8b581635abbc65a3b4a",
     "grade": true,
     "grade_id": "vraag-3",
     "locked": false,
     "points": 1,
     "schema_version": 1,
     "solution": true
    }
   },
   "outputs": [],
   "source": [
    "antwoord = 5.5\n",
    "\n",
    "# JOUW CODE HIER"
   ]
  },
  {
   "cell_type": "code",
   "execution_count": 5,
   "metadata": {},
   "outputs": [],
   "source": []
  }
 ],
 "metadata": {
  "kernelspec": {
   "display_name": "Python 3",
   "language": "python",
   "name": "python3"
  },
  "language_info": {
   "codemirror_mode": {
    "name": "ipython",
    "version": 3
   },
   "file_extension": ".py",
   "mimetype": "text/x-python",
   "name": "python",
   "nbconvert_exporter": "python",
   "pygments_lexer": "ipython3",
   "version": "3.6.3"
  }
 },
 "nbformat": 4,
 "nbformat_minor": 2
}
