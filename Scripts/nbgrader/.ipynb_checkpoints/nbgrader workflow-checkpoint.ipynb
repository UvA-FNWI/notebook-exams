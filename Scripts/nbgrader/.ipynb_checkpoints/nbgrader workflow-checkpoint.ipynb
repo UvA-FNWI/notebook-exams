{
 "cells": [
  {
   "cell_type": "code",
   "execution_count": 1,
   "metadata": {},
   "outputs": [],
   "source": [
    "import os\n",
    "import re\n",
    "from glob import glob\n",
    "import pandas as pd"
   ]
  },
  {
   "cell_type": "markdown",
   "metadata": {},
   "source": [
    "## 0. Configuratie"
   ]
  },
  {
   "cell_type": "code",
   "execution_count": 2,
   "metadata": {},
   "outputs": [],
   "source": [
    "course_id = \"netwerkanalyse\"\n",
    "assignment_id = \"tentamen\""
   ]
  },
  {
   "cell_type": "markdown",
   "metadata": {},
   "source": [
    "## 1. nbgrader configureren\n",
    "code-stub overschrijven etc."
   ]
  },
  {
   "cell_type": "code",
   "execution_count": 87,
   "metadata": {},
   "outputs": [],
   "source": [
    "config = '''\n",
    "c = get_config()\n",
    "\n",
    "c.Exchange.course_id = \"%s\"\n",
    "c.ClearSolutions.code_stub = {'python': '# JOUW CODE HIER'}\n",
    "''' % course_id\n",
    "\n",
    "with open('nbgrader_config.py', 'w') as f:\n",
    "    f.write(config)"
   ]
  },
  {
   "cell_type": "markdown",
   "metadata": {},
   "source": [
    "## 2. Assignment-map aanmaken"
   ]
  },
  {
   "cell_type": "code",
   "execution_count": 88,
   "metadata": {},
   "outputs": [
    {
     "name": "stdout",
     "output_type": "stream",
     "text": [
      "\u001b[32m[DbAssignmentAddApp | INFO]\u001b[m Creating/updating assignment with ID 'tentamen': {'duedate': None}\r\n"
     ]
    }
   ],
   "source": [
    "!nbgrader db assignment add {assignment_id}\n",
    "!mkdir -p source/{assignment_id}"
   ]
  },
  {
   "cell_type": "markdown",
   "metadata": {},
   "source": [
    "## 3. Maak de assignment in source/{assignment_id} "
   ]
  },
  {
   "cell_type": "code",
   "execution_count": null,
   "metadata": {},
   "outputs": [],
   "source": []
  },
  {
   "cell_type": "markdown",
   "metadata": {},
   "source": [
    "## 4. Maak een studentversie"
   ]
  },
  {
   "cell_type": "code",
   "execution_count": 89,
   "metadata": {},
   "outputs": [
    {
     "name": "stdout",
     "output_type": "stream",
     "text": [
      "\u001b[32m[AssignApp | INFO]\u001b[m Updating/creating assignment 'tentamen': {}\n",
      "\u001b[32m[AssignApp | INFO]\u001b[m Converting notebook /Users/Jesse/Dropbox/Notebook-exams/notebook-exams/Scripts/nbgrader/source/./tentamen/Tentamen.ipynb\n",
      "\u001b[32m[AssignApp | INFO]\u001b[m Writing 980 bytes to /Users/Jesse/Dropbox/Notebook-exams/notebook-exams/Scripts/nbgrader/release/./tentamen/Tentamen.ipynb\n",
      "\u001b[32m[AssignApp | INFO]\u001b[m Setting destination file permissions to 644\n",
      "\n",
      "De studentversie bevindt zich in release/tentamen/Tentamen.ipynb\n"
     ]
    }
   ],
   "source": [
    "!nbgrader assign {assignment_id} --create\n",
    "\n",
    "student_nb = glob('release/%s/*.ipynb' % assignment_id)[0]\n",
    "student_nb_name = os.path.basename(student_nb)\n",
    "\n",
    "print(\"\\nDe studentversie bevindt zich in %s\" % student_nb)"
   ]
  },
  {
   "cell_type": "markdown",
   "metadata": {},
   "source": [
    "## 4. Zet mappenstructuur inzendingen op"
   ]
  },
  {
   "cell_type": "code",
   "execution_count": 90,
   "metadata": {},
   "outputs": [
    {
     "name": "stdout",
     "output_type": "stream",
     "text": [
      "Archive:  submissions.zip\r\n",
      "  inflating: original-submissions/Tentamen_10735291.ipynb  \r\n",
      "  inflating: original-submissions/._Tentamen_10735291.ipynb  \r\n",
      "  inflating: original-submissions/._submissions  \r\n"
     ]
    }
   ],
   "source": [
    "submissions_zip = 'submissions.zip'\n",
    "\n",
    "!unzip -j {submissions_zip} -d \"original-submissions\""
   ]
  },
  {
   "cell_type": "code",
   "execution_count": 91,
   "metadata": {},
   "outputs": [
    {
     "name": "stdout",
     "output_type": "stream",
     "text": [
      "1 notebook(s) gevonden en gekopiëerd\n"
     ]
    }
   ],
   "source": [
    "nbs_copied = 0\n",
    "\n",
    "for f in glob('original-submissions/*.ipynb'):\n",
    "    nb = os.path.basename(f)\n",
    "    \n",
    "    ids = re.findall(r'\\d{5,}', nb)\n",
    "    if len(ids):\n",
    "        student_id = ids[0]\n",
    "        \n",
    "        !mkdir -p submitted/{student_id}/{assignment_id}\n",
    "        !cp {f} submitted/{student_id}/{assignment_id}/{student_nb_name}\n",
    "        \n",
    "        nbs_copied += 1\n",
    "        \n",
    "print(\"%d notebook(s) gevonden en gekopiëerd\" % nbs_copied)"
   ]
  },
  {
   "cell_type": "markdown",
   "metadata": {},
   "source": [
    "## 5. Autograden"
   ]
  },
  {
   "cell_type": "code",
   "execution_count": 92,
   "metadata": {},
   "outputs": [
    {
     "name": "stdout",
     "output_type": "stream",
     "text": [
      "\u001b[32m[AutogradeApp | INFO]\u001b[m Creating/updating student with ID '10735291': {}\n",
      "\u001b[32m[AutogradeApp | INFO]\u001b[m Overwriting files with master versions from the source directory\n",
      "\u001b[32m[AutogradeApp | INFO]\u001b[m Sanitizing /Users/Jesse/Dropbox/Notebook-exams/notebook-exams/Scripts/nbgrader/submitted/10735291/tentamen/Tentamen.ipynb\n",
      "\u001b[32m[AutogradeApp | INFO]\u001b[m Converting notebook /Users/Jesse/Dropbox/Notebook-exams/notebook-exams/Scripts/nbgrader/submitted/10735291/tentamen/Tentamen.ipynb\n",
      "\u001b[32m[AutogradeApp | INFO]\u001b[m Writing 980 bytes to /Users/Jesse/Dropbox/Notebook-exams/notebook-exams/Scripts/nbgrader/autograded/10735291/tentamen/Tentamen.ipynb\n",
      "\u001b[32m[AutogradeApp | INFO]\u001b[m Autograding /Users/Jesse/Dropbox/Notebook-exams/notebook-exams/Scripts/nbgrader/autograded/10735291/tentamen/Tentamen.ipynb\n",
      "\u001b[32m[AutogradeApp | INFO]\u001b[m Converting notebook /Users/Jesse/Dropbox/Notebook-exams/notebook-exams/Scripts/nbgrader/autograded/10735291/tentamen/Tentamen.ipynb\n",
      "\u001b[32m[AutogradeApp | INFO]\u001b[m Executing notebook with kernel: python3\n",
      "\u001b[32m[AutogradeApp | INFO]\u001b[m Writing 977 bytes to /Users/Jesse/Dropbox/Notebook-exams/notebook-exams/Scripts/nbgrader/autograded/10735291/tentamen/Tentamen.ipynb\n",
      "\u001b[32m[AutogradeApp | INFO]\u001b[m Setting destination file permissions to 444\n"
     ]
    }
   ],
   "source": [
    "!nbgrader autograde {assignment_id} --create"
   ]
  },
  {
   "cell_type": "markdown",
   "metadata": {},
   "source": [
    "## 6. students-answers.csv genereren"
   ]
  },
  {
   "cell_type": "code",
   "execution_count": 15,
   "metadata": {},
   "outputs": [
    {
     "data": {
      "text/html": [
       "<div>\n",
       "<style scoped>\n",
       "    .dataframe tbody tr th:only-of-type {\n",
       "        vertical-align: middle;\n",
       "    }\n",
       "\n",
       "    .dataframe tbody tr th {\n",
       "        vertical-align: top;\n",
       "    }\n",
       "\n",
       "    .dataframe thead th {\n",
       "        text-align: right;\n",
       "    }\n",
       "</style>\n",
       "<table border=\"1\" class=\"dataframe\">\n",
       "  <thead>\n",
       "    <tr style=\"text-align: right;\">\n",
       "      <th></th>\n",
       "      <th>student_id</th>\n",
       "      <th>question_name</th>\n",
       "      <th>max_score</th>\n",
       "      <th>needs_grading</th>\n",
       "      <th>auto_score</th>\n",
       "      <th>manual_score</th>\n",
       "      <th>extra_credit</th>\n",
       "      <th>auto_comment</th>\n",
       "      <th>manual_comment</th>\n",
       "    </tr>\n",
       "  </thead>\n",
       "  <tbody>\n",
       "    <tr>\n",
       "      <th>0</th>\n",
       "      <td>10735291</td>\n",
       "      <td>cell-1b97e6ae230ac08b</td>\n",
       "      <td>3.0</td>\n",
       "      <td>0</td>\n",
       "      <td>0.0</td>\n",
       "      <td>2.0</td>\n",
       "      <td>1.0</td>\n",
       "      <td>No response.</td>\n",
       "      <td>Beetje karig antwoord</td>\n",
       "    </tr>\n",
       "  </tbody>\n",
       "</table>\n",
       "</div>"
      ],
      "text/plain": [
       "  student_id          question_name  max_score  needs_grading  auto_score  \\\n",
       "0   10735291  cell-1b97e6ae230ac08b        3.0              0         0.0   \n",
       "\n",
       "   manual_score  extra_credit  auto_comment         manual_comment  \n",
       "0           2.0           1.0  No response.  Beetje karig antwoord  "
      ]
     },
     "execution_count": 15,
     "metadata": {},
     "output_type": "execute_result"
    }
   ],
   "source": [
    "q = '''\n",
    "    SELECT\n",
    "        submitted_assignment.student_id,\n",
    "        grade_cell.name AS question_name,\n",
    "        grade_cell.max_score,\n",
    "        grade.needs_manual_grade AS needs_grading,\n",
    "        grade.auto_score,\n",
    "        grade.manual_score,\n",
    "        grade.extra_credit,\n",
    "        comment.auto_comment,\n",
    "        comment.manual_comment\n",
    "    FROM grade\n",
    "        INNER JOIN submitted_notebook ON submitted_notebook.id = grade.notebook_id\n",
    "        INNER JOIN submitted_assignment ON submitted_assignment.id = submitted_notebook.assignment_id\n",
    "        INNER JOIN grade_cell ON grade_cell.id = grade.cell_id\n",
    "        INNER JOIN solution_cell ON solution_cell.name = grade_cell.name AND solution_cell.notebook_id = grade_cell.notebook_id\n",
    "        LEFT JOIN comment ON comment.notebook_id = grade.notebook_id AND comment.cell_id = solution_cell.id\n",
    "'''\n",
    "\n",
    "df = pd.read_sql_query(q, 'sqlite:///gradebook.db')\n",
    "\n",
    "df.to_csv('student-results.csv')\n",
    "\n",
    "df"
   ]
  },
  {
   "cell_type": "code",
   "execution_count": null,
   "metadata": {},
   "outputs": [],
   "source": []
  }
 ],
 "metadata": {
  "kernelspec": {
   "display_name": "Python 3",
   "language": "python",
   "name": "python3"
  },
  "language_info": {
   "codemirror_mode": {
    "name": "ipython",
    "version": 3
   },
   "file_extension": ".py",
   "mimetype": "text/x-python",
   "name": "python",
   "nbconvert_exporter": "python",
   "pygments_lexer": "ipython3",
   "version": "3.6.3"
  }
 },
 "nbformat": 4,
 "nbformat_minor": 2
}
