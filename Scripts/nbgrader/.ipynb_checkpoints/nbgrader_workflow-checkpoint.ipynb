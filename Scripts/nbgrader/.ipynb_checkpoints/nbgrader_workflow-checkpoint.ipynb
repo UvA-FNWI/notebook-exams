{
 "cells": [
  {
   "cell_type": "markdown",
   "metadata": {},
   "source": [
    "# nbgrader workflow\n",
    "\n",
    "Let op: voor een correcte werking moet deze workflow in een eigen map uitgevoerd worden. Dit notebook moet in deze map staan en Jupyter moet vanuit deze map opgestart te worden. Dit is een beperking van nbgrader."
   ]
  },
  {
   "cell_type": "code",
   "execution_count": 81,
   "metadata": {},
   "outputs": [
    {
     "data": {
      "application/javascript": [
       "if(!(window.location.pathname.indexOf('notebooks') == 1 && window.location.pathname.split('/').length == 3)) { alert('De workflow staat niet in de root-map van Jupyter!'); }"
      ],
      "text/plain": [
       "<IPython.core.display.Javascript object>"
      ]
     },
     "metadata": {},
     "output_type": "display_data"
    }
   ],
   "source": [
    "import os\n",
    "import re\n",
    "from glob import glob\n",
    "import pandas as pd\n",
    "\n",
    "from IPython.display import display, Markdown, Javascript\n",
    "\n",
    "display(Javascript(\"if(!(window.location.pathname.indexOf('notebooks') == 1 && window.location.pathname.split('/').length == 3)) { alert('De workflow-notebook staat niet in de root-map van Jupyter!'); }\"))"
   ]
  },
  {
   "cell_type": "markdown",
   "metadata": {},
   "source": [
    "## 0. Configuratie"
   ]
  },
  {
   "cell_type": "code",
   "execution_count": 30,
   "metadata": {},
   "outputs": [],
   "source": [
    "course_id = \"netwerkanalyse\"\n",
    "assignment_id = \"tentamen1\""
   ]
  },
  {
   "cell_type": "markdown",
   "metadata": {},
   "source": [
    "## 1. nbgrader configureren\n",
    "code-stub overschrijven etc."
   ]
  },
  {
   "cell_type": "code",
   "execution_count": 31,
   "metadata": {},
   "outputs": [],
   "source": [
    "config = '''\n",
    "c = get_config()\n",
    "\n",
    "c.Exchange.course_id = \"%s\"\n",
    "c.ClearSolutions.code_stub = {'python': '# JOUW CODE HIER', 'markdown': '....'}\n",
    "''' % course_id\n",
    "\n",
    "with open('nbgrader_config.py', 'w') as f:\n",
    "    f.write(config)"
   ]
  },
  {
   "cell_type": "markdown",
   "metadata": {},
   "source": [
    "## 2. Assignment-map aanmaken"
   ]
  },
  {
   "cell_type": "code",
   "execution_count": 32,
   "metadata": {},
   "outputs": [
    {
     "name": "stdout",
     "output_type": "stream",
     "text": [
      "\u001b[32m[DbAssignmentAddApp | INFO]\u001b[m Creating/updating assignment with ID 'tentamen1': {'duedate': None}\n",
      "total 296\n",
      "drwxr-xr-x@ 14 Jesse  staff     448 Apr  3 13:46 \u001b[34mVoorbeeld\u001b[m\u001b[m\n",
      "-rw-r--r--@  1 Jesse  staff  135168 Apr  3 15:47 gradebook.db\n",
      "-rw-r--r--@  1 Jesse  staff     139 Apr  3 15:47 nbgrader_config.py\n",
      "-rw-r--r--@  1 Jesse  staff   11103 Apr  3 15:47 nbgrader_workflow.ipynb\n",
      "drwxr-xr-x   3 Jesse  staff      96 Apr  3 15:47 \u001b[34msource\u001b[m\u001b[m\n"
     ]
    },
    {
     "data": {
      "text/markdown": [
       "---\n",
       "## 3. Assignment maken\n",
       "Het notebook-template staat in **source/tentamen1/tentamen1.ipynb**  \n",
       "<a class=\"btn btn-primary\" style=\"margin-top: 10px; text-decoration: none;\" href=\"/notebooks/source/tentamen1/tentamen1.ipynb\" target=\"_blank\">Open notebook</a>"
      ],
      "text/plain": [
       "<IPython.core.display.Markdown object>"
      ]
     },
     "metadata": {},
     "output_type": "display_data"
    }
   ],
   "source": [
    "!nbgrader db assignment add {assignment_id}\n",
    "!mkdir -p source/{assignment_id}\n",
    "\n",
    "!ls -l\n",
    "\n",
    "# Met curl template ophalen naar source/assignment_id/assignment_id.ipynb\n",
    "\n",
    "display(Markdown('---\\n## 3. Assignment maken\\nHet notebook-template staat in **source/%s/%s.ipynb**  \\n<a class=\"btn btn-primary\" style=\"margin-top: 10px; text-decoration: none;\" href=\"/notebooks/source/%s/%s.ipynb\" target=\"_blank\">Open notebook</a>' % (assignment_id, assignment_id, assignment_id, assignment_id)))"
   ]
  },
  {
   "cell_type": "markdown",
   "metadata": {},
   "source": [
    "nbgrader documentatie: http://nbgrader.readthedocs.io/en/stable/user_guide/creating_and_grading_assignments.html"
   ]
  },
  {
   "cell_type": "markdown",
   "metadata": {},
   "source": [
    "## 4. Maak een studentversie"
   ]
  },
  {
   "cell_type": "code",
   "execution_count": 33,
   "metadata": {},
   "outputs": [
    {
     "name": "stdout",
     "output_type": "stream",
     "text": [
      "\u001b[32m[AssignApp | INFO]\u001b[m Updating/creating assignment 'tentamen1': {}\n",
      "\u001b[32m[AssignApp | INFO]\u001b[m Converting notebook /Users/Jesse/Dropbox/Notebook-exams/notebook-exams/Scripts/nbgrader/source/./tentamen1/tentamen1.ipynb\n",
      "\u001b[32m[AssignApp | INFO]\u001b[m Writing 963 bytes to /Users/Jesse/Dropbox/Notebook-exams/notebook-exams/Scripts/nbgrader/release/./tentamen1/tentamen1.ipynb\n",
      "\u001b[32m[AssignApp | INFO]\u001b[m Setting destination file permissions to 644\n"
     ]
    },
    {
     "data": {
      "text/markdown": [
       "---\n",
       "De studentversie bevindt zich in **release/tentamen1/tentamen1.ipynb**  \n",
       "<a class=\"btn btn-primary\" style=\"margin-top: 10px; text-decoration: none;\" href=\"/notebooks/release/tentamen1/tentamen1.ipynb\" target=\"_blank\">Open notebook</a>"
      ],
      "text/plain": [
       "<IPython.core.display.Markdown object>"
      ]
     },
     "metadata": {},
     "output_type": "display_data"
    }
   ],
   "source": [
    "!rm -rf release\n",
    "!nbgrader assign {assignment_id} --create\n",
    "\n",
    "student_nb = glob('release/%s/*.ipynb' % assignment_id)[0]\n",
    "student_nb_filename = os.path.basename(student_nb)\n",
    "student_nb_name = os.path.splitext(student_nb_filename)[0]\n",
    "\n",
    "display(Markdown('---\\nDe studentversie bevindt zich in **%s**  \\n<a class=\"btn btn-primary\" style=\"margin-top: 10px; text-decoration: none;\" href=\"/notebooks/%s\" target=\"_blank\">Open notebook</a>' % (student_nb, student_nb)))"
   ]
  },
  {
   "cell_type": "markdown",
   "metadata": {},
   "source": [
    "## 5. Verzamel inzendingen"
   ]
  },
  {
   "cell_type": "code",
   "execution_count": 36,
   "metadata": {},
   "outputs": [
    {
     "name": "stdout",
     "output_type": "stream",
     "text": [
      "unzip:  cannot find or open submissions.zip, submissions.zip.zip or submissions.zip.ZIP.\r\n"
     ]
    },
    {
     "data": {
      "text/markdown": [
       "---\n",
       "0 notebook(s) gevonden en gekopiëerd  \n",
       "<a class=\"btn btn-primary\" style=\"margin-top: 10px; text-decoration: none;\" href=\"/tree/submitted\" target=\"_blank\">Open inzendingen-map</a>"
      ],
      "text/plain": [
       "<IPython.core.display.Markdown object>"
      ]
     },
     "metadata": {},
     "output_type": "display_data"
    }
   ],
   "source": [
    "submissions_zip = 'submissions.zip'\n",
    "\n",
    "!unzip -j {submissions_zip} -d \"original-submissions\"\n",
    "\n",
    "nbs_copied = 0\n",
    "\n",
    "for f in glob('original-submissions/*.ipynb'):\n",
    "    nb = os.path.basename(f)\n",
    "    \n",
    "    ids = re.findall(r'\\d{5,}', nb)\n",
    "    if len(ids):\n",
    "        student_id = ids[0]\n",
    "        \n",
    "        !mkdir -p submitted/{student_id}/{assignment_id}\n",
    "        !cp {f} submitted/{student_id}/{assignment_id}/{student_nb_filename}\n",
    "        \n",
    "        nbs_copied += 1\n",
    "\n",
    "display(Markdown('---\\n%d notebook(s) gevonden en gekopiëerd  \\n<a class=\"btn btn-primary\" style=\"margin-top: 10px; text-decoration: none;\" href=\"/tree/submitted\" target=\"_blank\">Open inzendingen-map</a>' % nbs_copied))"
   ]
  },
  {
   "cell_type": "markdown",
   "metadata": {},
   "source": [
    "## 6. Autograden"
   ]
  },
  {
   "cell_type": "code",
   "execution_count": 37,
   "metadata": {},
   "outputs": [
    {
     "name": "stdout",
     "output_type": "stream",
     "text": [
      "\u001b[32m[AutogradeApp | INFO]\u001b[m Creating/updating student with ID '10735291': {}\n",
      "\u001b[32m[AutogradeApp | INFO]\u001b[m Overwriting files with master versions from the source directory\n",
      "\u001b[32m[AutogradeApp | INFO]\u001b[m Sanitizing /Users/Jesse/Dropbox/Notebook-exams/notebook-exams/Scripts/nbgrader/submitted/10735291/tentamen1/tentamen1.ipynb\n",
      "\u001b[32m[AutogradeApp | INFO]\u001b[m Converting notebook /Users/Jesse/Dropbox/Notebook-exams/notebook-exams/Scripts/nbgrader/submitted/10735291/tentamen1/tentamen1.ipynb\n",
      "\u001b[32m[AutogradeApp | INFO]\u001b[m Writing 963 bytes to /Users/Jesse/Dropbox/Notebook-exams/notebook-exams/Scripts/nbgrader/autograded/10735291/tentamen1/tentamen1.ipynb\n",
      "\u001b[32m[AutogradeApp | INFO]\u001b[m Autograding /Users/Jesse/Dropbox/Notebook-exams/notebook-exams/Scripts/nbgrader/autograded/10735291/tentamen1/tentamen1.ipynb\n",
      "\u001b[32m[AutogradeApp | INFO]\u001b[m Converting notebook /Users/Jesse/Dropbox/Notebook-exams/notebook-exams/Scripts/nbgrader/autograded/10735291/tentamen1/tentamen1.ipynb\n",
      "\u001b[32m[AutogradeApp | INFO]\u001b[m Executing notebook with kernel: python3\n",
      "\u001b[32m[AutogradeApp | INFO]\u001b[m Writing 1064 bytes to /Users/Jesse/Dropbox/Notebook-exams/notebook-exams/Scripts/nbgrader/autograded/10735291/tentamen1/tentamen1.ipynb\n",
      "\u001b[32m[AutogradeApp | INFO]\u001b[m Setting destination file permissions to 444\n"
     ]
    },
    {
     "data": {
      "text/markdown": [
       "---\n",
       "<a class=\"btn btn-primary\" style=\"margin-top: 10px; text-decoration: none;\" href=\"/formgrader/gradebook/tentamen1/tentamen1\" target=\"_blank\">Open manual grading</a>"
      ],
      "text/plain": [
       "<IPython.core.display.Markdown object>"
      ]
     },
     "metadata": {},
     "output_type": "display_data"
    }
   ],
   "source": [
    "!nbgrader autograde {assignment_id} --create\n",
    "\n",
    "display(Markdown('---\\n<a class=\"btn btn-primary\" style=\"margin-top: 10px; text-decoration: none;\" href=\"/formgrader/gradebook/%s/%s\" target=\"_blank\">Open manual grading</a>' % (assignment_id, student_nb_name)))"
   ]
  },
  {
   "cell_type": "markdown",
   "metadata": {},
   "source": [
    "## 7. students-answers.csv genereren"
   ]
  },
  {
   "cell_type": "code",
   "execution_count": 55,
   "metadata": {},
   "outputs": [
    {
     "data": {
      "text/html": [
       "<div>\n",
       "<style scoped>\n",
       "    .dataframe tbody tr th:only-of-type {\n",
       "        vertical-align: middle;\n",
       "    }\n",
       "\n",
       "    .dataframe tbody tr th {\n",
       "        vertical-align: top;\n",
       "    }\n",
       "\n",
       "    .dataframe thead th {\n",
       "        text-align: right;\n",
       "    }\n",
       "</style>\n",
       "<table border=\"1\" class=\"dataframe\">\n",
       "  <thead>\n",
       "    <tr style=\"text-align: right;\">\n",
       "      <th></th>\n",
       "      <th></th>\n",
       "      <th>max_score</th>\n",
       "      <th>needs_grading</th>\n",
       "      <th>auto_score</th>\n",
       "      <th>manual_score</th>\n",
       "      <th>extra_credit</th>\n",
       "      <th>final_score</th>\n",
       "    </tr>\n",
       "    <tr>\n",
       "      <th>student_id</th>\n",
       "      <th>question_name</th>\n",
       "      <th></th>\n",
       "      <th></th>\n",
       "      <th></th>\n",
       "      <th></th>\n",
       "      <th></th>\n",
       "      <th></th>\n",
       "    </tr>\n",
       "  </thead>\n",
       "  <tbody>\n",
       "    <tr>\n",
       "      <th>10735291</th>\n",
       "      <th>vraag1</th>\n",
       "      <td>3.0</td>\n",
       "      <td>0</td>\n",
       "      <td>0.0</td>\n",
       "      <td>3.0</td>\n",
       "      <td>None</td>\n",
       "      <td>3.0</td>\n",
       "    </tr>\n",
       "  </tbody>\n",
       "</table>\n",
       "</div>"
      ],
      "text/plain": [
       "                          max_score  needs_grading  auto_score  manual_score  \\\n",
       "student_id question_name                                                       \n",
       "10735291   vraag1               3.0              0         0.0           3.0   \n",
       "\n",
       "                         extra_credit  final_score  \n",
       "student_id question_name                            \n",
       "10735291   vraag1                None          3.0  "
      ]
     },
     "execution_count": 55,
     "metadata": {},
     "output_type": "execute_result"
    }
   ],
   "source": [
    "import numpy as np\n",
    "\n",
    "q_oud = '''\n",
    "    SELECT\n",
    "        submitted_assignment.student_id,\n",
    "        grade_cell.name AS question_name,\n",
    "        grade_cell.max_score,\n",
    "        grade.needs_manual_grade AS needs_grading,\n",
    "        grade.auto_score,\n",
    "        grade.manual_score,\n",
    "        grade.extra_credit,\n",
    "        comment.auto_comment,\n",
    "        comment.manual_comment\n",
    "    FROM grade\n",
    "        INNER JOIN submitted_notebook ON submitted_notebook.id = grade.notebook_id\n",
    "        INNER JOIN submitted_assignment ON submitted_assignment.id = submitted_notebook.assignment_id\n",
    "        INNER JOIN grade_cell ON grade_cell.id = grade.cell_id\n",
    "        INNER JOIN solution_cell ON solution_cell.name = grade_cell.name AND solution_cell.notebook_id = grade_cell.notebook_id\n",
    "        LEFT JOIN comment ON comment.notebook_id = grade.notebook_id AND comment.cell_id = solution_cell.id\n",
    "'''\n",
    "\n",
    "q = '''\n",
    "    SELECT\n",
    "        submitted_assignment.student_id,\n",
    "        grade_cell.name AS question_name,\n",
    "        grade_cell.max_score,\n",
    "        grade.needs_manual_grade AS needs_grading,\n",
    "        grade.auto_score,\n",
    "        grade.manual_score,\n",
    "        grade.extra_credit\n",
    "    FROM grade\n",
    "        INNER JOIN submitted_notebook ON submitted_notebook.id = grade.notebook_id\n",
    "        INNER JOIN submitted_assignment ON submitted_assignment.id = submitted_notebook.assignment_id\n",
    "        INNER JOIN grade_cell ON grade_cell.id = grade.cell_id\n",
    "'''\n",
    "\n",
    "df = pd.read_sql_query(q, 'sqlite:///gradebook.db')\n",
    "df = df.set_index(['student_id', 'question_name'])\n",
    "df['final_score'] = np.where(~pd.isnull(df['manual_score']), df['manual_score'], df['auto_score']) + df['extra_credit'].fillna(0)\n",
    "\n",
    "df.to_csv('student-results.csv')\n",
    "\n",
    "df"
   ]
  },
  {
   "cell_type": "markdown",
   "metadata": {},
   "source": [
    "## 8. Analyseren"
   ]
  },
  {
   "cell_type": "code",
   "execution_count": 57,
   "metadata": {},
   "outputs": [
    {
     "data": {
      "text/plain": [
       "student_id\n",
       "10735291    10.0\n",
       "dtype: float64"
      ]
     },
     "execution_count": 57,
     "metadata": {},
     "output_type": "execute_result"
    }
   ],
   "source": [
    "per_student = df.groupby('student_id')\n",
    "grades = per_student['final_score'].sum() / per_student['max_score'].sum() * 10\n",
    "\n",
    "grades"
   ]
  },
  {
   "cell_type": "code",
   "execution_count": null,
   "metadata": {},
   "outputs": [],
   "source": []
  }
 ],
 "metadata": {
  "kernelspec": {
   "display_name": "Python 3",
   "language": "python",
   "name": "python3"
  },
  "language_info": {
   "codemirror_mode": {
    "name": "ipython",
    "version": 3
   },
   "file_extension": ".py",
   "mimetype": "text/x-python",
   "name": "python",
   "nbconvert_exporter": "python",
   "pygments_lexer": "ipython3",
   "version": "3.6.3"
  }
 },
 "nbformat": 4,
 "nbformat_minor": 2
}
