{
 "cells": [
  {
   "cell_type": "code",
   "execution_count": 1,
   "metadata": {
    "collapsed": true
   },
   "outputs": [],
   "source": [
    "md = '''# <h1 style=\"margin-bottom: 4px;\">%s</h1>\n",
    "<h2 class=\"normal muted\">Notebook examen</h2>\n",
    "\n",
    "## <span class=\"normal\">Je gebruikersnaam:</span> %s\n",
    "## <span class=\"normal\">Je wachtwoord:</span> %s\n",
    "\n",
    "### Introductie\n",
    "\n",
    "We willen de volgende toets gaan uitvoeren op een Jupyter Notebook, net als jullie steeds in het huiswerk doen.\n",
    "Dit is nog nooit gebeurd aan de UvA. Vandaar dat we nu graag met jullie testen of het werkt.\n",
    "Ga naar **<http://notebookexam.com>**, log in met je uvanetid en het wachtwoord hierboven en druk op \"start tentamen\".\n",
    "\n",
    "Een notebook omgeving opent op een computer die alleen door jou gebruikt wordt. Je kunt hier alles doen wat je gewend bent. \n",
    "Ga naar de map \"Bonus 21 november\", open het notebook \"Tentamen.ipynb\" en maak de vragen.  \n",
    "\n",
    "Je notebook wordt bewaard onder jouw naam, en je krijgt een bonus als je  de vragen goed hebt. In een kwartiertje ben je klaar.\n",
    "\n",
    "### Afsluiten en inleveren\n",
    "\n",
    "Doorloop de volgende stappen:\n",
    "\n",
    "1. Herstart je kernel.\n",
    "2. Run all cells\n",
    "3. Kijk of alles er nog zo mooi uit zag als daarvoor\n",
    "\t* Repareer eventueel een foutje\n",
    "4. Bewaar je notebook\n",
    "5. Lever je notebook in door op **Beëindig tentamen** te drukken.\n",
    "\n",
    "<hr>\n",
    "\n",
    "Veel succes en bedankt voor het meedoen.'''"
   ]
  },
  {
   "cell_type": "code",
   "execution_count": 2,
   "metadata": {
    "collapsed": false
   },
   "outputs": [],
   "source": [
    "from md2pdf.core import md2pdf\n",
    "from hashauthenticator import generate_password_digest\n",
    "import pandas as pd\n",
    "\n",
    "def generate_password(username):\n",
    "    password_secret = 'cb8116ae8acd84126cb3316ff201fc755993e026b74df8849e05456513d52378'\n",
    "    \n",
    "    return generate_password_digest(username, password_secret)[:6]"
   ]
  },
  {
   "cell_type": "code",
   "execution_count": 27,
   "metadata": {
    "collapsed": false
   },
   "outputs": [],
   "source": [
    "students = pd.read_excel('students.xlsx')\n",
    "students['UvAnetID'] = students['UvAnetID'].apply(str)\n",
    "\n",
    "def student_name(student):\n",
    "    if len(student['MiddleName'].strip()):\n",
    "        return student['FirstName'].strip() +' '+ student['MiddleName'].strip() +' '+ student['LastName'].strip()\n",
    "    else:\n",
    "        return student['FirstName'].strip() +' '+ student['LastName'].strip()\n",
    "\n",
    "users = [ (student_name(student), \\\n",
    "           student['UvAnetID'], \\\n",
    "           generate_password(student['UvAnetID'])) for index, student in students.iterrows() ]"
   ]
  },
  {
   "cell_type": "code",
   "execution_count": 33,
   "metadata": {
    "collapsed": false
   },
   "outputs": [
    {
     "name": "stdout",
     "output_type": "stream",
     "text": [
      "mkdir: student-sheets: File exists\r\n"
     ]
    },
    {
     "ename": "KeyboardInterrupt",
     "evalue": "",
     "output_type": "error",
     "traceback": [
      "\u001b[0;31m---------------------------------------------------------------------------\u001b[0m",
      "\u001b[0;31mKeyboardInterrupt\u001b[0m                         Traceback (most recent call last)",
      "\u001b[0;32m<ipython-input-33-a6ef471e8119>\u001b[0m in \u001b[0;36m<module>\u001b[0;34m()\u001b[0m\n\u001b[1;32m      4\u001b[0m \u001b[0;34m\u001b[0m\u001b[0m\n\u001b[1;32m      5\u001b[0m \u001b[0;32mfor\u001b[0m \u001b[0mi\u001b[0m\u001b[0;34m,\u001b[0m \u001b[0muser\u001b[0m \u001b[0;32min\u001b[0m \u001b[0menumerate\u001b[0m\u001b[0;34m(\u001b[0m\u001b[0musers\u001b[0m\u001b[0;34m)\u001b[0m\u001b[0;34m:\u001b[0m\u001b[0;34m\u001b[0m\u001b[0m\n\u001b[0;32m----> 6\u001b[0;31m     \u001b[0mmd2pdf\u001b[0m\u001b[0;34m(\u001b[0m\u001b[0;34m'student-sheets/%i-%s.pdf'\u001b[0m \u001b[0;34m%\u001b[0m \u001b[0;34m(\u001b[0m\u001b[0mi\u001b[0m \u001b[0;34m-\u001b[0m \u001b[0;36m1\u001b[0m\u001b[0;34m,\u001b[0m \u001b[0muser\u001b[0m\u001b[0;34m[\u001b[0m\u001b[0;36m1\u001b[0m\u001b[0;34m]\u001b[0m\u001b[0;34m)\u001b[0m\u001b[0;34m,\u001b[0m \u001b[0mmd_content\u001b[0m\u001b[0;34m=\u001b[0m\u001b[0;34m(\u001b[0m\u001b[0mmd\u001b[0m\u001b[0;34m)\u001b[0m \u001b[0;34m%\u001b[0m \u001b[0muser\u001b[0m\u001b[0;34m,\u001b[0m \u001b[0mcss_file_path\u001b[0m\u001b[0;34m=\u001b[0m\u001b[0;34m'md-style.css'\u001b[0m\u001b[0;34m)\u001b[0m\u001b[0;34m\u001b[0m\u001b[0m\n\u001b[0m\u001b[1;32m      7\u001b[0m \u001b[0;34m\u001b[0m\u001b[0m\n\u001b[1;32m      8\u001b[0m \u001b[0mget_ipython\u001b[0m\u001b[0;34m(\u001b[0m\u001b[0;34m)\u001b[0m\u001b[0;34m.\u001b[0m\u001b[0msystem\u001b[0m\u001b[0;34m(\u001b[0m\u001b[0;34m'pdfunite student-sheets/*.pdf all-students.pdf'\u001b[0m\u001b[0;34m)\u001b[0m\u001b[0;34m\u001b[0m\u001b[0m\n",
      "\u001b[0;32m/usr/local/lib/python3.6/site-packages/md2pdf/core.py\u001b[0m in \u001b[0;36mmd2pdf\u001b[0;34m(pdf_file_path, md_content, md_file_path, css_file_path, base_url)\u001b[0m\n\u001b[1;32m     52\u001b[0m \u001b[0;34m\u001b[0m\u001b[0m\n\u001b[1;32m     53\u001b[0m     \u001b[0;31m# Generate PDF\u001b[0m\u001b[0;34m\u001b[0m\u001b[0;34m\u001b[0m\u001b[0m\n\u001b[0;32m---> 54\u001b[0;31m     \u001b[0mhtml\u001b[0m\u001b[0;34m.\u001b[0m\u001b[0mwrite_pdf\u001b[0m\u001b[0;34m(\u001b[0m\u001b[0mpdf_file_path\u001b[0m\u001b[0;34m,\u001b[0m \u001b[0mstylesheets\u001b[0m\u001b[0;34m=\u001b[0m\u001b[0mcss\u001b[0m\u001b[0;34m)\u001b[0m\u001b[0;34m\u001b[0m\u001b[0m\n\u001b[0m\u001b[1;32m     55\u001b[0m \u001b[0;34m\u001b[0m\u001b[0m\n\u001b[1;32m     56\u001b[0m     \u001b[0;32mreturn\u001b[0m\u001b[0;34m\u001b[0m\u001b[0m\n",
      "\u001b[0;32m/usr/local/lib/python3.6/site-packages/weasyprint/__init__.py\u001b[0m in \u001b[0;36mwrite_pdf\u001b[0;34m(self, target, stylesheets, zoom, attachments, presentational_hints, font_config)\u001b[0m\n\u001b[1;32m    180\u001b[0m             \u001b[0mstylesheets\u001b[0m\u001b[0;34m,\u001b[0m \u001b[0menable_hinting\u001b[0m\u001b[0;34m=\u001b[0m\u001b[0;32mFalse\u001b[0m\u001b[0;34m,\u001b[0m\u001b[0;34m\u001b[0m\u001b[0m\n\u001b[1;32m    181\u001b[0m             \u001b[0mpresentational_hints\u001b[0m\u001b[0;34m=\u001b[0m\u001b[0mpresentational_hints\u001b[0m\u001b[0;34m,\u001b[0m\u001b[0;34m\u001b[0m\u001b[0m\n\u001b[0;32m--> 182\u001b[0;31m             \u001b[0mfont_config\u001b[0m\u001b[0;34m=\u001b[0m\u001b[0mfont_config\u001b[0m\u001b[0;34m)\u001b[0m\u001b[0;34m.\u001b[0m\u001b[0mwrite_pdf\u001b[0m\u001b[0;34m(\u001b[0m\u001b[0;34m\u001b[0m\u001b[0m\n\u001b[0m\u001b[1;32m    183\u001b[0m                 target, zoom, attachments)\n\u001b[1;32m    184\u001b[0m \u001b[0;34m\u001b[0m\u001b[0m\n",
      "\u001b[0;32m/usr/local/lib/python3.6/site-packages/weasyprint/__init__.py\u001b[0m in \u001b[0;36mrender\u001b[0;34m(self, stylesheets, enable_hinting, presentational_hints, font_config)\u001b[0m\n\u001b[1;32m    141\u001b[0m         return Document._render(\n\u001b[1;32m    142\u001b[0m             \u001b[0mself\u001b[0m\u001b[0;34m,\u001b[0m \u001b[0mstylesheets\u001b[0m\u001b[0;34m,\u001b[0m \u001b[0menable_hinting\u001b[0m\u001b[0;34m,\u001b[0m \u001b[0mpresentational_hints\u001b[0m\u001b[0;34m,\u001b[0m\u001b[0;34m\u001b[0m\u001b[0m\n\u001b[0;32m--> 143\u001b[0;31m             font_config)\n\u001b[0m\u001b[1;32m    144\u001b[0m \u001b[0;34m\u001b[0m\u001b[0m\n\u001b[1;32m    145\u001b[0m     def write_pdf(self, target=None, stylesheets=None, zoom=1,\n",
      "\u001b[0;32m/usr/local/lib/python3.6/site-packages/weasyprint/document.py\u001b[0m in \u001b[0;36m_render\u001b[0;34m(cls, html, stylesheets, enable_hinting, presentational_hints, font_config)\u001b[0m\n\u001b[1;32m    324\u001b[0m             font_config, html, cascaded_styles, computed_styles)\n\u001b[1;32m    325\u001b[0m         rendering = cls(\n\u001b[0;32m--> 326\u001b[0;31m             \u001b[0;34m[\u001b[0m\u001b[0mPage\u001b[0m\u001b[0;34m(\u001b[0m\u001b[0mp\u001b[0m\u001b[0;34m,\u001b[0m \u001b[0menable_hinting\u001b[0m\u001b[0;34m)\u001b[0m \u001b[0;32mfor\u001b[0m \u001b[0mp\u001b[0m \u001b[0;32min\u001b[0m \u001b[0mpage_boxes\u001b[0m\u001b[0;34m]\u001b[0m\u001b[0;34m,\u001b[0m\u001b[0;34m\u001b[0m\u001b[0m\n\u001b[0m\u001b[1;32m    327\u001b[0m             DocumentMetadata(**html._get_metadata()), html.url_fetcher)\n\u001b[1;32m    328\u001b[0m         \u001b[0;32mreturn\u001b[0m \u001b[0mrendering\u001b[0m\u001b[0;34m\u001b[0m\u001b[0m\n",
      "\u001b[0;32m/usr/local/lib/python3.6/site-packages/weasyprint/document.py\u001b[0m in \u001b[0;36m<listcomp>\u001b[0;34m(.0)\u001b[0m\n\u001b[1;32m    324\u001b[0m             font_config, html, cascaded_styles, computed_styles)\n\u001b[1;32m    325\u001b[0m         rendering = cls(\n\u001b[0;32m--> 326\u001b[0;31m             \u001b[0;34m[\u001b[0m\u001b[0mPage\u001b[0m\u001b[0;34m(\u001b[0m\u001b[0mp\u001b[0m\u001b[0;34m,\u001b[0m \u001b[0menable_hinting\u001b[0m\u001b[0;34m)\u001b[0m \u001b[0;32mfor\u001b[0m \u001b[0mp\u001b[0m \u001b[0;32min\u001b[0m \u001b[0mpage_boxes\u001b[0m\u001b[0;34m]\u001b[0m\u001b[0;34m,\u001b[0m\u001b[0;34m\u001b[0m\u001b[0m\n\u001b[0m\u001b[1;32m    327\u001b[0m             DocumentMetadata(**html._get_metadata()), html.url_fetcher)\n\u001b[1;32m    328\u001b[0m         \u001b[0;32mreturn\u001b[0m \u001b[0mrendering\u001b[0m\u001b[0;34m\u001b[0m\u001b[0m\n",
      "\u001b[0;32m/usr/local/lib/python3.6/site-packages/weasyprint/layout/__init__.py\u001b[0m in \u001b[0;36mlayout_document\u001b[0;34m(enable_hinting, style_for, get_image_from_uri, root_box, font_config, html, cascaded_styles, computed_styles)\u001b[0m\n\u001b[1;32m     52\u001b[0m         enable_hinting, style_for, get_image_from_uri, font_config)\n\u001b[1;32m     53\u001b[0m     pages = list(make_all_pages(\n\u001b[0;32m---> 54\u001b[0;31m         context, root_box, html, cascaded_styles, computed_styles))\n\u001b[0m\u001b[1;32m     55\u001b[0m     \u001b[0mpage_counter\u001b[0m \u001b[0;34m=\u001b[0m \u001b[0;34m[\u001b[0m\u001b[0;36m1\u001b[0m\u001b[0;34m]\u001b[0m\u001b[0;34m\u001b[0m\u001b[0m\n\u001b[1;32m     56\u001b[0m     \u001b[0mcounter_values\u001b[0m \u001b[0;34m=\u001b[0m \u001b[0;34m{\u001b[0m\u001b[0;34m'page'\u001b[0m\u001b[0;34m:\u001b[0m \u001b[0mpage_counter\u001b[0m\u001b[0;34m,\u001b[0m \u001b[0;34m'pages'\u001b[0m\u001b[0;34m:\u001b[0m \u001b[0;34m[\u001b[0m\u001b[0mlen\u001b[0m\u001b[0;34m(\u001b[0m\u001b[0mpages\u001b[0m\u001b[0;34m)\u001b[0m\u001b[0;34m]\u001b[0m\u001b[0;34m}\u001b[0m\u001b[0;34m\u001b[0m\u001b[0m\n",
      "\u001b[0;32m/usr/local/lib/python3.6/site-packages/weasyprint/layout/pages.py\u001b[0m in \u001b[0;36mmake_all_pages\u001b[0;34m(context, root_box, html, cascaded_styles, computed_styles)\u001b[0m\n\u001b[1;32m    599\u001b[0m             page_type, cascaded_styles, computed_styles, html)\n\u001b[1;32m    600\u001b[0m         page, resume_at, next_page = make_page(\n\u001b[0;32m--> 601\u001b[0;31m             context, root_box, page_type, resume_at, page_number)\n\u001b[0m\u001b[1;32m    602\u001b[0m         \u001b[0;32massert\u001b[0m \u001b[0mnext_page\u001b[0m\u001b[0;34m\u001b[0m\u001b[0m\n\u001b[1;32m    603\u001b[0m         \u001b[0mfirst\u001b[0m \u001b[0;34m=\u001b[0m \u001b[0;32mFalse\u001b[0m\u001b[0;34m\u001b[0m\u001b[0m\n",
      "\u001b[0;32m/usr/local/lib/python3.6/site-packages/weasyprint/layout/pages.py\u001b[0m in \u001b[0;36mmake_page\u001b[0;34m(context, root_box, page_type, resume_at, page_number)\u001b[0m\n\u001b[1;32m    518\u001b[0m         \u001b[0mcontext\u001b[0m\u001b[0;34m,\u001b[0m \u001b[0mroot_box\u001b[0m\u001b[0;34m,\u001b[0m \u001b[0mpage_content_bottom\u001b[0m\u001b[0;34m,\u001b[0m \u001b[0mresume_at\u001b[0m\u001b[0;34m,\u001b[0m\u001b[0;34m\u001b[0m\u001b[0m\n\u001b[1;32m    519\u001b[0m         \u001b[0minitial_containing_block\u001b[0m\u001b[0;34m,\u001b[0m \u001b[0mdevice_size\u001b[0m\u001b[0;34m,\u001b[0m \u001b[0mpage_is_empty\u001b[0m\u001b[0;34m,\u001b[0m\u001b[0;34m\u001b[0m\u001b[0m\n\u001b[0;32m--> 520\u001b[0;31m         positioned_boxes, positioned_boxes, adjoining_margins)\n\u001b[0m\u001b[1;32m    521\u001b[0m     \u001b[0;32massert\u001b[0m \u001b[0mroot_box\u001b[0m\u001b[0;34m\u001b[0m\u001b[0m\n\u001b[1;32m    522\u001b[0m \u001b[0;34m\u001b[0m\u001b[0m\n",
      "\u001b[0;32m/usr/local/lib/python3.6/site-packages/weasyprint/layout/blocks.py\u001b[0m in \u001b[0;36mblock_level_layout\u001b[0;34m(context, box, max_position_y, skip_stack, containing_block, device_size, page_is_empty, absolute_boxes, fixed_boxes, adjoining_margins)\u001b[0m\n\u001b[1;32m     68\u001b[0m                 \u001b[0mcontext\u001b[0m\u001b[0;34m,\u001b[0m \u001b[0mbox\u001b[0m\u001b[0;34m,\u001b[0m \u001b[0mmax_position_y\u001b[0m\u001b[0;34m,\u001b[0m \u001b[0mskip_stack\u001b[0m\u001b[0;34m,\u001b[0m \u001b[0mcontaining_block\u001b[0m\u001b[0;34m,\u001b[0m\u001b[0;34m\u001b[0m\u001b[0m\n\u001b[1;32m     69\u001b[0m                 \u001b[0mdevice_size\u001b[0m\u001b[0;34m,\u001b[0m \u001b[0mpage_is_empty\u001b[0m\u001b[0;34m,\u001b[0m \u001b[0mabsolute_boxes\u001b[0m\u001b[0;34m,\u001b[0m \u001b[0mfixed_boxes\u001b[0m\u001b[0;34m,\u001b[0m\u001b[0;34m\u001b[0m\u001b[0m\n\u001b[0;32m---> 70\u001b[0;31m                 adjoining_margins)\n\u001b[0m\u001b[1;32m     71\u001b[0m     \u001b[0;32melif\u001b[0m \u001b[0misinstance\u001b[0m\u001b[0;34m(\u001b[0m\u001b[0mbox\u001b[0m\u001b[0;34m,\u001b[0m \u001b[0mboxes\u001b[0m\u001b[0;34m.\u001b[0m\u001b[0mBlockReplacedBox\u001b[0m\u001b[0;34m)\u001b[0m\u001b[0;34m:\u001b[0m\u001b[0;34m\u001b[0m\u001b[0m\n\u001b[1;32m     72\u001b[0m         \u001b[0mbox\u001b[0m \u001b[0;34m=\u001b[0m \u001b[0mblock_replaced_box_layout\u001b[0m\u001b[0;34m(\u001b[0m\u001b[0mbox\u001b[0m\u001b[0;34m,\u001b[0m \u001b[0mcontaining_block\u001b[0m\u001b[0;34m,\u001b[0m \u001b[0mdevice_size\u001b[0m\u001b[0;34m)\u001b[0m\u001b[0;34m\u001b[0m\u001b[0m\n",
      "\u001b[0;32m/usr/local/lib/python3.6/site-packages/weasyprint/layout/blocks.py\u001b[0m in \u001b[0;36mblock_box_layout\u001b[0;34m(context, box, max_position_y, skip_stack, containing_block, device_size, page_is_empty, absolute_boxes, fixed_boxes, adjoining_margins)\u001b[0m\n\u001b[1;32m     96\u001b[0m         block_container_layout(\n\u001b[1;32m     97\u001b[0m             \u001b[0mcontext\u001b[0m\u001b[0;34m,\u001b[0m \u001b[0mbox\u001b[0m\u001b[0;34m,\u001b[0m \u001b[0mmax_position_y\u001b[0m\u001b[0;34m,\u001b[0m \u001b[0mskip_stack\u001b[0m\u001b[0;34m,\u001b[0m \u001b[0mdevice_size\u001b[0m\u001b[0;34m,\u001b[0m\u001b[0;34m\u001b[0m\u001b[0m\n\u001b[0;32m---> 98\u001b[0;31m             page_is_empty, absolute_boxes, fixed_boxes, adjoining_margins)\n\u001b[0m\u001b[1;32m     99\u001b[0m     \u001b[0;32mif\u001b[0m \u001b[0mnew_box\u001b[0m \u001b[0;32mand\u001b[0m \u001b[0mnew_box\u001b[0m\u001b[0;34m.\u001b[0m\u001b[0mis_table_wrapper\u001b[0m\u001b[0;34m:\u001b[0m\u001b[0;34m\u001b[0m\u001b[0m\n\u001b[1;32m    100\u001b[0m         \u001b[0;31m# Don't collide with floats\u001b[0m\u001b[0;34m\u001b[0m\u001b[0;34m\u001b[0m\u001b[0m\n",
      "\u001b[0;32m/usr/local/lib/python3.6/site-packages/weasyprint/layout/blocks.py\u001b[0m in \u001b[0;36mblock_container_layout\u001b[0;34m(context, box, max_position_y, skip_stack, device_size, page_is_empty, absolute_boxes, fixed_boxes, adjoining_margins)\u001b[0m\n\u001b[1;32m    607\u001b[0m                     \u001b[0mpage_is_empty\u001b[0m \u001b[0;32mand\u001b[0m \u001b[0;32mnot\u001b[0m \u001b[0mnew_children\u001b[0m\u001b[0;34m,\u001b[0m\u001b[0;34m\u001b[0m\u001b[0m\n\u001b[1;32m    608\u001b[0m                     \u001b[0mabsolute_boxes\u001b[0m\u001b[0;34m,\u001b[0m \u001b[0mfixed_boxes\u001b[0m\u001b[0;34m,\u001b[0m\u001b[0;34m\u001b[0m\u001b[0m\n\u001b[0;32m--> 609\u001b[0;31m                     adjoining_margins)\n\u001b[0m\u001b[1;32m    610\u001b[0m             \u001b[0mskip_stack\u001b[0m \u001b[0;34m=\u001b[0m \u001b[0;32mNone\u001b[0m\u001b[0;34m\u001b[0m\u001b[0m\n\u001b[1;32m    611\u001b[0m \u001b[0;34m\u001b[0m\u001b[0m\n",
      "\u001b[0;32m/usr/local/lib/python3.6/site-packages/weasyprint/layout/blocks.py\u001b[0m in \u001b[0;36mblock_level_layout\u001b[0;34m(context, box, max_position_y, skip_stack, containing_block, device_size, page_is_empty, absolute_boxes, fixed_boxes, adjoining_margins)\u001b[0m\n\u001b[1;32m     68\u001b[0m                 \u001b[0mcontext\u001b[0m\u001b[0;34m,\u001b[0m \u001b[0mbox\u001b[0m\u001b[0;34m,\u001b[0m \u001b[0mmax_position_y\u001b[0m\u001b[0;34m,\u001b[0m \u001b[0mskip_stack\u001b[0m\u001b[0;34m,\u001b[0m \u001b[0mcontaining_block\u001b[0m\u001b[0;34m,\u001b[0m\u001b[0;34m\u001b[0m\u001b[0m\n\u001b[1;32m     69\u001b[0m                 \u001b[0mdevice_size\u001b[0m\u001b[0;34m,\u001b[0m \u001b[0mpage_is_empty\u001b[0m\u001b[0;34m,\u001b[0m \u001b[0mabsolute_boxes\u001b[0m\u001b[0;34m,\u001b[0m \u001b[0mfixed_boxes\u001b[0m\u001b[0;34m,\u001b[0m\u001b[0;34m\u001b[0m\u001b[0m\n\u001b[0;32m---> 70\u001b[0;31m                 adjoining_margins)\n\u001b[0m\u001b[1;32m     71\u001b[0m     \u001b[0;32melif\u001b[0m \u001b[0misinstance\u001b[0m\u001b[0;34m(\u001b[0m\u001b[0mbox\u001b[0m\u001b[0;34m,\u001b[0m \u001b[0mboxes\u001b[0m\u001b[0;34m.\u001b[0m\u001b[0mBlockReplacedBox\u001b[0m\u001b[0;34m)\u001b[0m\u001b[0;34m:\u001b[0m\u001b[0;34m\u001b[0m\u001b[0m\n\u001b[1;32m     72\u001b[0m         \u001b[0mbox\u001b[0m \u001b[0;34m=\u001b[0m \u001b[0mblock_replaced_box_layout\u001b[0m\u001b[0;34m(\u001b[0m\u001b[0mbox\u001b[0m\u001b[0;34m,\u001b[0m \u001b[0mcontaining_block\u001b[0m\u001b[0;34m,\u001b[0m \u001b[0mdevice_size\u001b[0m\u001b[0;34m)\u001b[0m\u001b[0;34m\u001b[0m\u001b[0m\n",
      "\u001b[0;32m/usr/local/lib/python3.6/site-packages/weasyprint/layout/blocks.py\u001b[0m in \u001b[0;36mblock_box_layout\u001b[0;34m(context, box, max_position_y, skip_stack, containing_block, device_size, page_is_empty, absolute_boxes, fixed_boxes, adjoining_margins)\u001b[0m\n\u001b[1;32m     96\u001b[0m         block_container_layout(\n\u001b[1;32m     97\u001b[0m             \u001b[0mcontext\u001b[0m\u001b[0;34m,\u001b[0m \u001b[0mbox\u001b[0m\u001b[0;34m,\u001b[0m \u001b[0mmax_position_y\u001b[0m\u001b[0;34m,\u001b[0m \u001b[0mskip_stack\u001b[0m\u001b[0;34m,\u001b[0m \u001b[0mdevice_size\u001b[0m\u001b[0;34m,\u001b[0m\u001b[0;34m\u001b[0m\u001b[0m\n\u001b[0;32m---> 98\u001b[0;31m             page_is_empty, absolute_boxes, fixed_boxes, adjoining_margins)\n\u001b[0m\u001b[1;32m     99\u001b[0m     \u001b[0;32mif\u001b[0m \u001b[0mnew_box\u001b[0m \u001b[0;32mand\u001b[0m \u001b[0mnew_box\u001b[0m\u001b[0;34m.\u001b[0m\u001b[0mis_table_wrapper\u001b[0m\u001b[0;34m:\u001b[0m\u001b[0;34m\u001b[0m\u001b[0m\n\u001b[1;32m    100\u001b[0m         \u001b[0;31m# Don't collide with floats\u001b[0m\u001b[0;34m\u001b[0m\u001b[0;34m\u001b[0m\u001b[0m\n",
      "\u001b[0;32m/usr/local/lib/python3.6/site-packages/weasyprint/layout/blocks.py\u001b[0m in \u001b[0;36mblock_container_layout\u001b[0;34m(context, box, max_position_y, skip_stack, device_size, page_is_empty, absolute_boxes, fixed_boxes, adjoining_margins)\u001b[0m\n\u001b[1;32m    607\u001b[0m                     \u001b[0mpage_is_empty\u001b[0m \u001b[0;32mand\u001b[0m \u001b[0;32mnot\u001b[0m \u001b[0mnew_children\u001b[0m\u001b[0;34m,\u001b[0m\u001b[0;34m\u001b[0m\u001b[0m\n\u001b[1;32m    608\u001b[0m                     \u001b[0mabsolute_boxes\u001b[0m\u001b[0;34m,\u001b[0m \u001b[0mfixed_boxes\u001b[0m\u001b[0;34m,\u001b[0m\u001b[0;34m\u001b[0m\u001b[0m\n\u001b[0;32m--> 609\u001b[0;31m                     adjoining_margins)\n\u001b[0m\u001b[1;32m    610\u001b[0m             \u001b[0mskip_stack\u001b[0m \u001b[0;34m=\u001b[0m \u001b[0;32mNone\u001b[0m\u001b[0;34m\u001b[0m\u001b[0m\n\u001b[1;32m    611\u001b[0m \u001b[0;34m\u001b[0m\u001b[0m\n",
      "\u001b[0;32m/usr/local/lib/python3.6/site-packages/weasyprint/layout/blocks.py\u001b[0m in \u001b[0;36mblock_level_layout\u001b[0;34m(context, box, max_position_y, skip_stack, containing_block, device_size, page_is_empty, absolute_boxes, fixed_boxes, adjoining_margins)\u001b[0m\n\u001b[1;32m     68\u001b[0m                 \u001b[0mcontext\u001b[0m\u001b[0;34m,\u001b[0m \u001b[0mbox\u001b[0m\u001b[0;34m,\u001b[0m \u001b[0mmax_position_y\u001b[0m\u001b[0;34m,\u001b[0m \u001b[0mskip_stack\u001b[0m\u001b[0;34m,\u001b[0m \u001b[0mcontaining_block\u001b[0m\u001b[0;34m,\u001b[0m\u001b[0;34m\u001b[0m\u001b[0m\n\u001b[1;32m     69\u001b[0m                 \u001b[0mdevice_size\u001b[0m\u001b[0;34m,\u001b[0m \u001b[0mpage_is_empty\u001b[0m\u001b[0;34m,\u001b[0m \u001b[0mabsolute_boxes\u001b[0m\u001b[0;34m,\u001b[0m \u001b[0mfixed_boxes\u001b[0m\u001b[0;34m,\u001b[0m\u001b[0;34m\u001b[0m\u001b[0m\n\u001b[0;32m---> 70\u001b[0;31m                 adjoining_margins)\n\u001b[0m\u001b[1;32m     71\u001b[0m     \u001b[0;32melif\u001b[0m \u001b[0misinstance\u001b[0m\u001b[0;34m(\u001b[0m\u001b[0mbox\u001b[0m\u001b[0;34m,\u001b[0m \u001b[0mboxes\u001b[0m\u001b[0;34m.\u001b[0m\u001b[0mBlockReplacedBox\u001b[0m\u001b[0;34m)\u001b[0m\u001b[0;34m:\u001b[0m\u001b[0;34m\u001b[0m\u001b[0m\n\u001b[1;32m     72\u001b[0m         \u001b[0mbox\u001b[0m \u001b[0;34m=\u001b[0m \u001b[0mblock_replaced_box_layout\u001b[0m\u001b[0;34m(\u001b[0m\u001b[0mbox\u001b[0m\u001b[0;34m,\u001b[0m \u001b[0mcontaining_block\u001b[0m\u001b[0;34m,\u001b[0m \u001b[0mdevice_size\u001b[0m\u001b[0;34m)\u001b[0m\u001b[0;34m\u001b[0m\u001b[0m\n",
      "\u001b[0;32m/usr/local/lib/python3.6/site-packages/weasyprint/layout/blocks.py\u001b[0m in \u001b[0;36mblock_box_layout\u001b[0;34m(context, box, max_position_y, skip_stack, containing_block, device_size, page_is_empty, absolute_boxes, fixed_boxes, adjoining_margins)\u001b[0m\n\u001b[1;32m     96\u001b[0m         block_container_layout(\n\u001b[1;32m     97\u001b[0m             \u001b[0mcontext\u001b[0m\u001b[0;34m,\u001b[0m \u001b[0mbox\u001b[0m\u001b[0;34m,\u001b[0m \u001b[0mmax_position_y\u001b[0m\u001b[0;34m,\u001b[0m \u001b[0mskip_stack\u001b[0m\u001b[0;34m,\u001b[0m \u001b[0mdevice_size\u001b[0m\u001b[0;34m,\u001b[0m\u001b[0;34m\u001b[0m\u001b[0m\n\u001b[0;32m---> 98\u001b[0;31m             page_is_empty, absolute_boxes, fixed_boxes, adjoining_margins)\n\u001b[0m\u001b[1;32m     99\u001b[0m     \u001b[0;32mif\u001b[0m \u001b[0mnew_box\u001b[0m \u001b[0;32mand\u001b[0m \u001b[0mnew_box\u001b[0m\u001b[0;34m.\u001b[0m\u001b[0mis_table_wrapper\u001b[0m\u001b[0;34m:\u001b[0m\u001b[0;34m\u001b[0m\u001b[0m\n\u001b[1;32m    100\u001b[0m         \u001b[0;31m# Don't collide with floats\u001b[0m\u001b[0;34m\u001b[0m\u001b[0;34m\u001b[0m\u001b[0m\n",
      "\u001b[0;32m/usr/local/lib/python3.6/site-packages/weasyprint/layout/blocks.py\u001b[0m in \u001b[0;36mblock_container_layout\u001b[0;34m(context, box, max_position_y, skip_stack, device_size, page_is_empty, absolute_boxes, fixed_boxes, adjoining_margins)\u001b[0m\n\u001b[1;32m    479\u001b[0m                 first_letter_style)\n\u001b[1;32m    480\u001b[0m             \u001b[0mis_page_break\u001b[0m \u001b[0;34m=\u001b[0m \u001b[0;32mFalse\u001b[0m\u001b[0;34m\u001b[0m\u001b[0m\n\u001b[0;32m--> 481\u001b[0;31m             \u001b[0;32mfor\u001b[0m \u001b[0mline\u001b[0m\u001b[0;34m,\u001b[0m \u001b[0mresume_at\u001b[0m \u001b[0;32min\u001b[0m \u001b[0mlines_iterator\u001b[0m\u001b[0;34m:\u001b[0m\u001b[0;34m\u001b[0m\u001b[0m\n\u001b[0m\u001b[1;32m    482\u001b[0m                 \u001b[0mline\u001b[0m\u001b[0;34m.\u001b[0m\u001b[0mresume_at\u001b[0m \u001b[0;34m=\u001b[0m \u001b[0mresume_at\u001b[0m\u001b[0;34m\u001b[0m\u001b[0m\n\u001b[1;32m    483\u001b[0m                 \u001b[0mnew_position_y\u001b[0m \u001b[0;34m=\u001b[0m \u001b[0mline\u001b[0m\u001b[0;34m.\u001b[0m\u001b[0mposition_y\u001b[0m \u001b[0;34m+\u001b[0m \u001b[0mline\u001b[0m\u001b[0;34m.\u001b[0m\u001b[0mheight\u001b[0m\u001b[0;34m\u001b[0m\u001b[0m\n",
      "\u001b[0;32m/usr/local/lib/python3.6/site-packages/weasyprint/layout/inlines.py\u001b[0m in \u001b[0;36miter_line_boxes\u001b[0;34m(context, box, position_y, skip_stack, containing_block, device_size, absolute_boxes, fixed_boxes, first_letter_style)\u001b[0m\n\u001b[1;32m     49\u001b[0m         line, resume_at = get_next_linebox(\n\u001b[1;32m     50\u001b[0m             \u001b[0mcontext\u001b[0m\u001b[0;34m,\u001b[0m \u001b[0mbox\u001b[0m\u001b[0;34m,\u001b[0m \u001b[0mposition_y\u001b[0m\u001b[0;34m,\u001b[0m \u001b[0mskip_stack\u001b[0m\u001b[0;34m,\u001b[0m \u001b[0mcontaining_block\u001b[0m\u001b[0;34m,\u001b[0m\u001b[0;34m\u001b[0m\u001b[0m\n\u001b[0;32m---> 51\u001b[0;31m             device_size, absolute_boxes, fixed_boxes, first_letter_style)\n\u001b[0m\u001b[1;32m     52\u001b[0m         \u001b[0;32mif\u001b[0m \u001b[0mline\u001b[0m\u001b[0;34m:\u001b[0m\u001b[0;34m\u001b[0m\u001b[0m\n\u001b[1;32m     53\u001b[0m             \u001b[0mposition_y\u001b[0m \u001b[0;34m=\u001b[0m \u001b[0mline\u001b[0m\u001b[0;34m.\u001b[0m\u001b[0mposition_y\u001b[0m \u001b[0;34m+\u001b[0m \u001b[0mline\u001b[0m\u001b[0;34m.\u001b[0m\u001b[0mheight\u001b[0m\u001b[0;34m\u001b[0m\u001b[0m\n",
      "\u001b[0;32m/usr/local/lib/python3.6/site-packages/weasyprint/layout/inlines.py\u001b[0m in \u001b[0;36mget_next_linebox\u001b[0;34m(context, linebox, position_y, skip_stack, containing_block, device_size, absolute_boxes, fixed_boxes, first_letter_style)\u001b[0m\n\u001b[1;32m     81\u001b[0m \u001b[0;34m\u001b[0m\u001b[0m\n\u001b[1;32m     82\u001b[0m     linebox.width = inline_min_content_width(\n\u001b[0;32m---> 83\u001b[0;31m         context, linebox, skip_stack=skip_stack, first_line=True)\n\u001b[0m\u001b[1;32m     84\u001b[0m \u001b[0;34m\u001b[0m\u001b[0m\n\u001b[1;32m     85\u001b[0m     \u001b[0mlinebox\u001b[0m\u001b[0;34m.\u001b[0m\u001b[0mheight\u001b[0m\u001b[0;34m,\u001b[0m \u001b[0m_\u001b[0m \u001b[0;34m=\u001b[0m \u001b[0mstrut_layout\u001b[0m\u001b[0;34m(\u001b[0m\u001b[0mlinebox\u001b[0m\u001b[0;34m.\u001b[0m\u001b[0mstyle\u001b[0m\u001b[0;34m,\u001b[0m \u001b[0mcontext\u001b[0m\u001b[0;34m)\u001b[0m\u001b[0;34m\u001b[0m\u001b[0m\n",
      "\u001b[0;32m/usr/local/lib/python3.6/site-packages/weasyprint/layout/preferred.py\u001b[0m in \u001b[0;36minline_min_content_width\u001b[0;34m(context, box, outer, skip_stack, first_line, is_line_start)\u001b[0m\n\u001b[1;32m    183\u001b[0m \u001b[0;34m\u001b[0m\u001b[0m\n\u001b[1;32m    184\u001b[0m     \u001b[0;32mif\u001b[0m \u001b[0mfirst_line\u001b[0m\u001b[0;34m:\u001b[0m\u001b[0;34m\u001b[0m\u001b[0m\n\u001b[0;32m--> 185\u001b[0;31m         \u001b[0mwidths\u001b[0m \u001b[0;34m=\u001b[0m \u001b[0;34m[\u001b[0m\u001b[0mnext\u001b[0m\u001b[0;34m(\u001b[0m\u001b[0mwidths\u001b[0m\u001b[0;34m)\u001b[0m\u001b[0;34m]\u001b[0m\u001b[0;34m\u001b[0m\u001b[0m\n\u001b[0m\u001b[1;32m    186\u001b[0m     \u001b[0;32melse\u001b[0m\u001b[0;34m:\u001b[0m\u001b[0;34m\u001b[0m\u001b[0m\n\u001b[1;32m    187\u001b[0m         \u001b[0mwidths\u001b[0m \u001b[0;34m=\u001b[0m \u001b[0mlist\u001b[0m\u001b[0;34m(\u001b[0m\u001b[0mwidths\u001b[0m\u001b[0;34m)\u001b[0m\u001b[0;34m\u001b[0m\u001b[0m\n",
      "\u001b[0;32m/usr/local/lib/python3.6/site-packages/weasyprint/layout/preferred.py\u001b[0m in \u001b[0;36minline_line_widths\u001b[0;34m(context, box, outer, is_line_start, minimum, skip_stack, first_line)\u001b[0m\n\u001b[1;32m    252\u001b[0m                     justification_spacing=child.justification_spacing)\n\u001b[1;32m    253\u001b[0m                 \u001b[0;32mif\u001b[0m \u001b[0mfirst_line\u001b[0m\u001b[0;34m:\u001b[0m\u001b[0;34m\u001b[0m\u001b[0m\n\u001b[0;32m--> 254\u001b[0;31m                     \u001b[0mlines\u001b[0m \u001b[0;34m=\u001b[0m \u001b[0;34m[\u001b[0m\u001b[0mnext\u001b[0m\u001b[0;34m(\u001b[0m\u001b[0mlines\u001b[0m\u001b[0;34m)\u001b[0m\u001b[0;34m]\u001b[0m\u001b[0;34m\u001b[0m\u001b[0m\n\u001b[0m\u001b[1;32m    255\u001b[0m                 \u001b[0;32melse\u001b[0m\u001b[0;34m:\u001b[0m\u001b[0;34m\u001b[0m\u001b[0m\n\u001b[1;32m    256\u001b[0m                     \u001b[0mlines\u001b[0m \u001b[0;34m=\u001b[0m \u001b[0mlist\u001b[0m\u001b[0;34m(\u001b[0m\u001b[0mlines\u001b[0m\u001b[0;34m)\u001b[0m\u001b[0;34m\u001b[0m\u001b[0m\n",
      "\u001b[0;32m/usr/local/lib/python3.6/site-packages/weasyprint/text.py\u001b[0m in \u001b[0;36mline_widths\u001b[0;34m(text, style, context, width, justification_spacing)\u001b[0m\n\u001b[1;32m   1162\u001b[0m     \u001b[0;34m\"\"\"Return the width for each line.\"\"\"\u001b[0m\u001b[0;34m\u001b[0m\u001b[0m\n\u001b[1;32m   1163\u001b[0m     \u001b[0mlayout\u001b[0m \u001b[0;34m=\u001b[0m \u001b[0mcreate_layout\u001b[0m\u001b[0;34m(\u001b[0m\u001b[0mtext\u001b[0m\u001b[0;34m,\u001b[0m \u001b[0mstyle\u001b[0m\u001b[0;34m,\u001b[0m \u001b[0mcontext\u001b[0m\u001b[0;34m,\u001b[0m \u001b[0mwidth\u001b[0m\u001b[0;34m,\u001b[0m \u001b[0mjustification_spacing\u001b[0m\u001b[0;34m)\u001b[0m\u001b[0;34m\u001b[0m\u001b[0m\n\u001b[0;32m-> 1164\u001b[0;31m     \u001b[0;32mfor\u001b[0m \u001b[0mline\u001b[0m \u001b[0;32min\u001b[0m \u001b[0mlayout\u001b[0m\u001b[0;34m.\u001b[0m\u001b[0miter_lines\u001b[0m\u001b[0;34m(\u001b[0m\u001b[0;34m)\u001b[0m\u001b[0;34m:\u001b[0m\u001b[0;34m\u001b[0m\u001b[0m\n\u001b[0m\u001b[1;32m   1165\u001b[0m         \u001b[0mwidth\u001b[0m\u001b[0;34m,\u001b[0m \u001b[0m_height\u001b[0m \u001b[0;34m=\u001b[0m \u001b[0mget_size\u001b[0m\u001b[0;34m(\u001b[0m\u001b[0mline\u001b[0m\u001b[0;34m,\u001b[0m \u001b[0mstyle\u001b[0m\u001b[0;34m)\u001b[0m\u001b[0;34m\u001b[0m\u001b[0m\n\u001b[1;32m   1166\u001b[0m         \u001b[0;32myield\u001b[0m \u001b[0mwidth\u001b[0m\u001b[0;34m\u001b[0m\u001b[0m\n",
      "\u001b[0;32m/usr/local/lib/python3.6/site-packages/weasyprint/text.py\u001b[0m in \u001b[0;36miter_lines\u001b[0;34m(self)\u001b[0m\n\u001b[1;32m    665\u001b[0m     \u001b[0;32mdef\u001b[0m \u001b[0miter_lines\u001b[0m\u001b[0;34m(\u001b[0m\u001b[0mself\u001b[0m\u001b[0;34m)\u001b[0m\u001b[0;34m:\u001b[0m\u001b[0;34m\u001b[0m\u001b[0m\n\u001b[1;32m    666\u001b[0m         layout_iter = ffi.gc(\n\u001b[0;32m--> 667\u001b[0;31m             \u001b[0mpango\u001b[0m\u001b[0;34m.\u001b[0m\u001b[0mpango_layout_get_iter\u001b[0m\u001b[0;34m(\u001b[0m\u001b[0mself\u001b[0m\u001b[0;34m.\u001b[0m\u001b[0mlayout\u001b[0m\u001b[0;34m)\u001b[0m\u001b[0;34m,\u001b[0m\u001b[0;34m\u001b[0m\u001b[0m\n\u001b[0m\u001b[1;32m    668\u001b[0m             pango.pango_layout_iter_free)\n\u001b[1;32m    669\u001b[0m         \u001b[0;32mwhile\u001b[0m \u001b[0;36m1\u001b[0m\u001b[0;34m:\u001b[0m\u001b[0;34m\u001b[0m\u001b[0m\n",
      "\u001b[0;31mKeyboardInterrupt\u001b[0m: "
     ]
    }
   ],
   "source": [
    "!mkdir student-sheets\n",
    "\n",
    "users = sorted(users, key=lambda user: user[0])\n",
    "\n",
    "for i, user in enumerate(users):\n",
    "    md2pdf('student-sheets/%i-%s.pdf' % (i + 1, user[1]), md_content=(md) % user, css_file_path='md-style.css')\n",
    "    \n",
    "!pdfunite student-sheets/*.pdf all-students.pdf"
   ]
  },
  {
   "cell_type": "code",
   "execution_count": null,
   "metadata": {
    "collapsed": true
   },
   "outputs": [],
   "source": []
  }
 ],
 "metadata": {
  "kernelspec": {
   "display_name": "Python 3",
   "language": "python",
   "name": "python3"
  },
  "language_info": {
   "codemirror_mode": {
    "name": "ipython",
    "version": 3
   },
   "file_extension": ".py",
   "mimetype": "text/x-python",
   "name": "python",
   "nbconvert_exporter": "python",
   "pygments_lexer": "ipython3",
   "version": "3.6.3"
  }
 },
 "nbformat": 4,
 "nbformat_minor": 2
}
